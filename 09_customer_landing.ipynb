{
 "cells": [
  {
   "cell_type": "code",
   "execution_count": 1,
   "id": "ca9484f5-5a5d-43a4-bc28-b3a79752756f",
   "metadata": {},
   "outputs": [],
   "source": [
    "import sys\n",
    "from lib.spark_session import get_spark_session\n",
    "from lib.utils import  get_string_cols,get_rundate\n",
    "from lib.aws_s3 import  archive_landing_object\n",
    "from lib.job_control import insert_log, get_max_timestamp\n",
    "from pyspark.sql import SparkSession, DataFrame\n",
    "from pyspark.sql.functions import current_timestamp, lit\n",
    "from datetime import datetime\n",
    "from delta import DeltaTable"
   ]
  },
  {
   "cell_type": "code",
   "execution_count": 2,
   "id": "9453716b-6d56-4c0f-adf1-ec57ffdd5541",
   "metadata": {},
   "outputs": [
    {
     "name": "stdout",
     "output_type": "stream",
     "text": [
      "SPARK_APP: JOB triggered for rundate - 20220101\n"
     ]
    }
   ],
   "source": [
    "# JOB Parameters\n",
    "rundate = get_rundate()\n",
    "schema_name = \"edw_ld\"\n",
    "table_name = \"dim_customer_ld\"\n",
    "table_full_name = f\"{schema_name}.{table_name}\" \n",
    "landing_file_name = f\"customer_{rundate}.csv\"\n",
    "landing_file_path = f\"s3a://deltalake12/dw-with-pyspark/landing/customer/\"\n",
    "print(\"SPARK_APP: JOB triggered for rundate - \" + rundate)"
   ]
  },
  {
   "cell_type": "code",
   "execution_count": 3,
   "id": "9443d3fd-363c-4918-a006-15b72dd9fb2f",
   "metadata": {},
   "outputs": [
    {
     "name": "stdout",
     "output_type": "stream",
     "text": [
      "SPARK_APP: Spark UI - http://03205cdd01e3:4040\n"
     ]
    }
   ],
   "source": [
    "spark: SparkSession = get_spark_session(f\"Landing load - {table_full_name}\")\n",
    "print(\"SPARK_APP: Spark UI - \" + spark.sparkContext.uiWebUrl)"
   ]
  },
  {
   "cell_type": "code",
   "execution_count": 4,
   "id": "2611e9b8-432d-4c05-8177-f1510a66c87e",
   "metadata": {},
   "outputs": [],
   "source": [
    "# Spark Configs\n",
    "spark.conf.set(\"spark.sql.shuffle.partitions\", 8)\n",
    "spark.conf.set(\"spark.sql.parquet.mergeSchema\", True)"
   ]
  },
  {
   "cell_type": "code",
   "execution_count": 5,
   "id": "418bc573-78e4-44c8-a79e-c126cc6fe118",
   "metadata": {},
   "outputs": [
    {
     "name": "stdout",
     "output_type": "stream",
     "text": [
      "SPARK_APP: Printing Raw Schema --\n",
      "root\n",
      " |-- customer_id: string (nullable = true)\n",
      " |-- name: string (nullable = true)\n",
      " |-- address: string (nullable = true)\n",
      " |-- city: string (nullable = true)\n",
      " |-- state: string (nullable = true)\n",
      " |-- zip_code: string (nullable = true)\n",
      " |-- phone_number: string (nullable = true)\n",
      " |-- email: string (nullable = true)\n",
      " |-- date_of_birth: string (nullable = true)\n",
      " |-- plan_type: string (nullable = true)\n",
      "\n",
      "SPARK_APP: Landing data count - 18\n"
     ]
    }
   ],
   "source": [
    "# Create Raw dataframe and get col info\n",
    "df_raw = spark.read.format(\"csv\").option(\"header\",True).load(f\"{landing_file_path}/{landing_file_name}\")\n",
    "print(\"SPARK_APP: Printing Raw Schema --\")\n",
    "df_raw.printSchema()\n",
    "\n",
    "# Get Landing count\n",
    "print(\"SPARK_APP: Landing data count - \" + str(df_raw.count()))"
   ]
  },
  {
   "cell_type": "code",
   "execution_count": 6,
   "id": "ecf5edda-5156-4aa3-b66d-019fd7bf13b6",
   "metadata": {},
   "outputs": [
    {
     "name": "stdout",
     "output_type": "stream",
     "text": [
      "SPARK_APP: Casted all columns to String\n",
      "SPARK_APP: Added AUDIT column\n",
      "SPARK_APP: Final layer data count - 18\n",
      "SPARK_APP: Printing Landing Schema --\n",
      "root\n",
      " |-- customer_id: string (nullable = true)\n",
      " |-- name: string (nullable = true)\n",
      " |-- address: string (nullable = true)\n",
      " |-- city: string (nullable = true)\n",
      " |-- state: string (nullable = true)\n",
      " |-- zip_code: string (nullable = true)\n",
      " |-- phone_number: string (nullable = true)\n",
      " |-- email: string (nullable = true)\n",
      " |-- date_of_birth: string (nullable = true)\n",
      " |-- plan_type: string (nullable = true)\n",
      " |-- insert_dt: timestamp (nullable = false)\n",
      " |-- rundate: string (nullable = false)\n",
      "\n"
     ]
    }
   ],
   "source": [
    "# Cast all columns to String\n",
    "df_casted = df_raw.selectExpr(get_string_cols(spark, df_raw))\n",
    "print(\"SPARK_APP: Casted all columns to String\")\n",
    "\n",
    "# Add audit columns\n",
    "df_ld = df_casted.withColumn(\"insert_dt\", current_timestamp()) \\\n",
    "    .withColumn(\"rundate\", lit(rundate))\n",
    "print(\"SPARK_APP: Added AUDIT column\")\n",
    "\n",
    "# Get Final Layer count\n",
    "print(\"SPARK_APP: Final layer data count - \" + str(df_ld.count()))\n",
    "print(\"SPARK_APP: Printing Landing Schema --\")\n",
    "df_ld.printSchema()"
   ]
  },
  {
   "cell_type": "code",
   "execution_count": 7,
   "id": "3503db11-8e81-4484-a8a0-aa81eb9eb8e3",
   "metadata": {},
   "outputs": [
    {
     "name": "stdout",
     "output_type": "stream",
     "text": [
      "SPARK_APP: Data written to landing layer\n"
     ]
    }
   ],
   "source": [
    "# Write the data to landing layer checking if table exists\n",
    "if get_max_timestamp(spark, schema_name, table_name) != \"1900-01-01 00:00:00.000000\":\n",
    "    df_ld.write \\\n",
    "        .format(\"delta\") \\\n",
    "        .mode(\"append\") \\\n",
    "        .saveAsTable(table_full_name)\n",
    "else:\n",
    "    df_ld.write \\\n",
    "        .format(\"delta\") \\\n",
    "        .mode(\"overwrite\") \\\n",
    "        .saveAsTable(table_full_name)\n",
    "\n",
    "print(\"SPARK_APP: Data written to landing layer\")"
   ]
  },
  {
   "cell_type": "code",
   "execution_count": 8,
   "id": "efaa5c49-004d-47d5-ad37-89681ed79d05",
   "metadata": {},
   "outputs": [
    {
     "name": "stdout",
     "output_type": "stream",
     "text": [
      "Unable to locate credentials\n",
      "SPARK_APP: ERROR - Landing file customer_20220101.csv not archived. Please Archive the file manually\n"
     ]
    }
   ],
   "source": [
    "# Archive the landing file\n",
    "if archive_landing_object(landing_file_name, \"store\"):\n",
    "    print(f\"SPARK_APP: Landing file {landing_file_name} archived\")\n",
    "else:\n",
    "    print(f\"SPARK_APP: ERROR - Landing file {landing_file_name} not archived. Please Archive the file manually\")"
   ]
  },
  {
   "cell_type": "code",
   "execution_count": 9,
   "id": "b4f02b2c-ca9f-40bf-a837-fb23296590a6",
   "metadata": {},
   "outputs": [
    {
     "name": "stdout",
     "output_type": "stream",
     "text": [
      "SPARK_APP: Update JOB Control Log\n"
     ]
    }
   ],
   "source": [
    "insert_log(spark, schema_name, table_name, datetime.now(), rundate)\n",
    "print(\"SPARK_APP: Update JOB Control Log\")"
   ]
  },
  {
   "cell_type": "code",
   "execution_count": 10,
   "id": "616a66fc-7e17-48b9-8b51-1df3975016ad",
   "metadata": {},
   "outputs": [
    {
     "name": "stdout",
     "output_type": "stream",
     "text": [
      "+-----------+---------------+--------------------------+--------+--------------------------+\n",
      "|schema_name|table_name     |max_timestamp             |rundate |insert_dt                 |\n",
      "+-----------+---------------+--------------------------+--------+--------------------------+\n",
      "|edw_ld     |dim_customer_ld|2024-05-30 02:47:16.689525|20220101|2024-05-30 02:47:17.662961|\n",
      "+-----------+---------------+--------------------------+--------+--------------------------+\n",
      "\n"
     ]
    }
   ],
   "source": [
    "spark.sql(f\"select * from edw.job_control where table_name = '{table_name}' order by insert_dt desc\").show(truncate=False)"
   ]
  },
  {
   "cell_type": "code",
   "execution_count": 11,
   "id": "d5b263cb-8bd3-413c-afb3-2dac22d66304",
   "metadata": {},
   "outputs": [
    {
     "name": "stdout",
     "output_type": "stream",
     "text": [
      "+-------+---------------+---------------------+--------------------+-------------+\n",
      "|version|executionTimeMs|numTargetRowsInserted|numTargetRowsUpdated|numOutputRows|\n",
      "+-------+---------------+---------------------+--------------------+-------------+\n",
      "|0      |null           |null                 |null                |18           |\n",
      "+-------+---------------+---------------------+--------------------+-------------+\n",
      "\n"
     ]
    }
   ],
   "source": [
    "# Get the logs from delta table version\n",
    "dt = DeltaTable.forName(spark, table_full_name)\n",
    "dt.history().limit(1).select(\"version\",\"operationMetrics.executionTimeMs\", \n",
    "                                 \"operationMetrics.numTargetRowsInserted\",\n",
    "                                \"operationMetrics.numTargetRowsUpdated\",\n",
    "                                \"operationMetrics.numOutputRows\").show(1, False)"
   ]
  },
  {
   "cell_type": "code",
   "execution_count": 12,
   "id": "e0ed9f8e-7cbf-43bd-9dd0-d4de3065f0e0",
   "metadata": {},
   "outputs": [
    {
     "name": "stdout",
     "output_type": "stream",
     "text": [
      "SPARK_APP: Symlink Manifest file generated\n"
     ]
    }
   ],
   "source": [
    "dt.generate(\"symlink_format_manifest\")\n",
    "print(\"SPARK_APP: Symlink Manifest file generated\")"
   ]
  },
  {
   "cell_type": "code",
   "execution_count": 16,
   "id": "5f24e785-ba0b-4d06-8bb3-05fdb79c3f91",
   "metadata": {},
   "outputs": [
    {
     "name": "stdout",
     "output_type": "stream",
     "text": [
      "+-----------+-----------------+--------------+-----------+-----+--------+--------------+--------------------+-------------+---------+--------------------+--------+\n",
      "|customer_id|             name|       address|       city|state|zip_code|  phone_number|               email|date_of_birth|plan_type|           insert_dt| rundate|\n",
      "+-----------+-----------------+--------------+-----------+-----+--------+--------------+--------------------+-------------+---------+--------------------+--------+\n",
      "|       C001|     Ramesh Kumar|   123 Main St|    Anytown|   WB|   12345|91-00000-00000|    ramesh@email.com|   01-01-1980|        P|2024-05-30 02:46:...|20220101|\n",
      "|       C002|           Meena |    456 Elm St|Anothertown|   GJ|   67890|91-00000-00001|     meena@email.com|   02-02-1985|        G|2024-05-30 02:46:...|20220101|\n",
      "|       C003|      Imitiaz Ali|   789 Oak Ave|    Bigcity|   JK|    9876|91-00000-00002|    imtiaz@email.com|   03-03-1990|     null|2024-05-30 02:46:...|20220101|\n",
      "|       C004|Samantha Williams|321 Birch Blvd| Smallville|   MH|   55555|91-00000-00003|samanthawilliams@...|   04-04-1995|        G|2024-05-30 02:46:...|20220101|\n",
      "|       C005|  Rekha Alluwalia|   654 Pine St|   Busytown|   KA|   11111|91-00000-00004|     rekha@email.com|   05-05-2000|        P|2024-05-30 02:46:...|20220101|\n",
      "|       C006|      Emily Brown|  987 Cedar Rd| Quietville|   RJ|   22222|91-00000-00005|emilybrown@email.com|   06-06-2005|        D|2024-05-30 02:46:...|20220101|\n",
      "|       C007|      Pawan Singh|  246 Maple St|   Anywhere|   TN|   33333|91-00000-00006|     pawan@email.com|   07-07-1980|        D|2024-05-30 02:46:...|20220101|\n",
      "|       C008|  Nicholas Miller|    321 Oak St|    Bigcity|   OR|    9876|91-00000-00007|nicholasmiller@em...|   08-08-1985|     null|2024-05-30 02:46:...|20220101|\n",
      "|       C009|    Jessica Moore|    654 Elm St| Smallville|   OR|   55555|91-00000-00008|jessicamoore@emai...|   09-09-1990|     null|2024-05-30 02:46:...|20220101|\n",
      "|       C010|   Matthew Taylor|   987 Pine St|   Busytown|   KA|   11111|91-00000-00009|matthewtaylor@ema...|   10-10-1995|     null|2024-05-30 02:46:...|20220101|\n",
      "|       C011|  Daniel Anderson|  246 Cedar Rd| Quietville|   WB|   22222|91-00000-00010|danielanderson@em...|   11-11-2000|        P|2024-05-30 02:46:...|20220101|\n",
      "|       C012|    Simran Thomas|  321 Maple St|   Anywhere|   JK|   33333|91-00000-00011|simranthomas@emai...|   12-12-2005|        G|2024-05-30 02:46:...|20220101|\n",
      "|       C013|     Renna Kumari|    654 Oak St|    Bigcity|   MH|    9876|91-00000-00012|     reena@email.com|   01-01-1980|        D|2024-05-30 02:46:...|20220101|\n",
      "|       C014|    Madison White|    987 Elm St| Smallville|   MH|   55555|91-00000-00013|madisonwhite@emai...|   02-02-1985|        G|2024-05-30 02:46:...|20220101|\n",
      "|       C015|   Brandon Harris|   246 Pine St|   Busytown|   TN|   11111|91-00000-00014|brandonharris@ema...|   03-03-1990|        P|2024-05-30 02:46:...|20220101|\n",
      "|       C016|     Avery Martin|  321 Cedar Rd| Quietville|   KA|   22222|91-00000-00015|averymartin@email...|   04-04-1995|        D|2024-05-30 02:46:...|20220101|\n",
      "|       C017|  Evelyn Thompson|  654 Maple St|   Anywhere|   OR|   33333|91-00000-00016|evelynthompson@em...|   05-05-2000|        P|2024-05-30 02:46:...|20220101|\n",
      "|       C018|   Abigail Garcia|    987 Oak St|    Bigcity|   TN|    9876|91-00000-00017|abigailgar@email.com|   21-07-2000|     null|2024-05-30 02:46:...|20220101|\n",
      "+-----------+-----------------+--------------+-----------+-----+--------+--------------+--------------------+-------------+---------+--------------------+--------+\n",
      "\n"
     ]
    }
   ],
   "source": [
    "spark.sql(\"select * from edw_ld.dim_customer_ld\").show()"
   ]
  },
  {
   "cell_type": "code",
   "execution_count": 17,
   "id": "9dd0b584-6307-4d0e-b3e0-a1fef1b278a4",
   "metadata": {},
   "outputs": [],
   "source": [
    "spark.stop()"
   ]
  },
  {
   "cell_type": "code",
   "execution_count": null,
   "id": "758f743a-ef34-4e18-92a8-862d6b6ac693",
   "metadata": {},
   "outputs": [],
   "source": []
  }
 ],
 "metadata": {
  "kernelspec": {
   "display_name": "Python 3 (ipykernel)",
   "language": "python",
   "name": "python3"
  },
  "language_info": {
   "codemirror_mode": {
    "name": "ipython",
    "version": 3
   },
   "file_extension": ".py",
   "mimetype": "text/x-python",
   "name": "python",
   "nbconvert_exporter": "python",
   "pygments_lexer": "ipython3",
   "version": "3.10.14"
  }
 },
 "nbformat": 4,
 "nbformat_minor": 5
}
