{
 "cells": [
  {
   "cell_type": "code",
   "execution_count": 1,
   "id": "1ea17092-3d9a-46f8-bd37-efcc57db2a30",
   "metadata": {},
   "outputs": [],
   "source": [
    "# Script to load Products in dimension table using SCD type 2 table\n",
    "\n",
    "# Import required libraries\n",
    "import sys\n",
    "from lib.spark_session import get_spark_session\n",
    "from lib.utils import date_data, get_string_cols, get_rundate\n",
    "from lib.job_control import insert_log, get_max_timestamp\n",
    "from pyspark.sql import SparkSession, DataFrame\n",
    "from pyspark.sql.functions import current_timestamp, expr, to_date, date_format,udf,lit,col\n",
    "from pyspark.sql.types import StringType\n",
    "from datetime import datetime\n",
    "from delta import DeltaTable\n",
    "import uuid"
   ]
  },
  {
   "cell_type": "code",
   "execution_count": 2,
   "id": "04e84dfa-fe9a-4eb3-a3dd-ccf6caf1d788",
   "metadata": {},
   "outputs": [
    {
     "name": "stdout",
     "output_type": "stream",
     "text": [
      "SPARK_APP: JOB triggered for rundate - 20220101\n"
     ]
    }
   ],
   "source": [
    "# Job Parameters\n",
    "rundate = get_rundate()\n",
    "schema_name = \"edw\"\n",
    "table_name = \"dim_product\"\n",
    "table_full_name = f\"{schema_name}.{table_name}\"\n",
    "staging_table_full_name = \"edw_stg.dim_product_stg\"\n",
    "print(\"SPARK_APP: JOB triggered for rundate - \" + rundate)"
   ]
  },
  {
   "cell_type": "code",
   "execution_count": 3,
   "id": "31ea8c1d-3bcc-42a7-b23d-e7cfcf886739",
   "metadata": {},
   "outputs": [
    {
     "name": "stdout",
     "output_type": "stream",
     "text": [
      "SPARK_APP: Spark UI - http://03205cdd01e3:4040\n"
     ]
    }
   ],
   "source": [
    "spark: SparkSession = get_spark_session(f\"Dimension load - {table_full_name}\")\n",
    "print(\"SPARK_APP: Spark UI - \" + spark.sparkContext.uiWebUrl)\n"
   ]
  },
  {
   "cell_type": "code",
   "execution_count": 4,
   "id": "fbbdf399-0d9f-458c-9c90-70741383ac84",
   "metadata": {},
   "outputs": [],
   "source": [
    "#spark Configs\n",
    "spark.conf.set(\"spark.sql.shuffle.partitions\", 8)\n",
    "#spark.conf.set(\"spark.sql.parquet.mergeSchema\", False)"
   ]
  },
  {
   "cell_type": "code",
   "execution_count": 5,
   "id": "e484710b-ebc0-4aa2-b329-8b05eaf251c3",
   "metadata": {},
   "outputs": [
    {
     "name": "stdout",
     "output_type": "stream",
     "text": [
      "SPARK_APP: Staging Data Count - 14\n",
      "SPARK_APP: Printing Staging Schema --\n",
      "root\n",
      " |-- product_id: string (nullable = true)\n",
      " |-- product_name: string (nullable = true)\n",
      " |-- brand: string (nullable = true)\n",
      " |-- type: string (nullable = true)\n",
      " |-- flavor: string (nullable = true)\n",
      " |-- size: string (nullable = true)\n",
      " |-- price: double (nullable = true)\n",
      " |-- image_url: string (nullable = true)\n",
      " |-- insert_dt: timestamp (nullable = true)\n",
      " |-- rundate: string (nullable = true)\n",
      " |-- expiration_dt: date (nullable = true)\n",
      " |-- effective_start_dt: timestamp (nullable = true)\n",
      " |-- effective_end_dt: timestamp (nullable = true)\n",
      " |-- active_flg: integer (nullable = true)\n",
      " |-- update_dt: timestamp (nullable = true)\n",
      "\n"
     ]
    }
   ],
   "source": [
    "# Reading Stage Layer Data\n",
    "\n",
    "df_stg = spark.read.table(staging_table_full_name)\n",
    "\n",
    "print(\"SPARK_APP: Staging Data Count - \" + str(df_stg.count()))\n",
    "print(\"SPARK_APP: Printing Staging Schema --\")\n",
    "df_stg.printSchema()"
   ]
  },
  {
   "cell_type": "code",
   "execution_count": 6,
   "id": "11fceb2a-5832-483d-bd18-31370cb86dd1",
   "metadata": {},
   "outputs": [
    {
     "name": "stdout",
     "output_type": "stream",
     "text": [
      "+----------+-----------------------+------------+----+-------+-------+-----+----------------------------------------------------------+--------------------------+--------+-------------+--------------------------+-------------------+----------+--------------------------+\n",
      "|product_id|product_name           |brand       |type|flavor |size   |price|image_url                                                 |insert_dt                 |rundate |expiration_dt|effective_start_dt        |effective_end_dt   |active_flg|update_dt                 |\n",
      "+----------+-----------------------+------------+----+-------+-------+-----+----------------------------------------------------------+--------------------------+--------+-------------+--------------------------+-------------------+----------+--------------------------+\n",
      "|P001      |Purina Pro Plan        |Purina      |Dry |Chicken|5 kgs  |20.0 |https://www.example.com/purina-pro-plan-chicken.jpg       |2024-06-01 08:16:58.750267|20220101|2024-12-31   |2024-06-01 08:16:58.750267|9999-12-31 00:00:00|1         |2024-06-01 08:16:58.750267|\n",
      "|P002      |Hill's Science Diet    |Hill's      |Dry |Beef   |15 kgs |50.0 |https://www.example.com/hills-science-diet-beef.jpg       |2024-06-01 08:16:58.750267|20220101|2024-12-31   |2024-06-01 08:16:58.750267|9999-12-31 00:00:00|1         |2024-06-01 08:16:58.750267|\n",
      "|P003      |Iams ProActive Health  |Iams        |Dry |Lamb   |10 kgs |40.0 |https://www.example.com/iams-proactive-health-lamb.jpg    |2024-06-01 08:16:58.750267|20220101|2024-12-31   |2024-06-01 08:16:58.750267|9999-12-31 00:00:00|1         |2024-06-01 08:16:58.750267|\n",
      "|P004      |Blue Buffalo Wilderness|Blue Buffalo|Wet |Salmon |12 cans|30.0 |https://www.example.com/blue-buffalo-wilderness-salmon.jpg|2024-06-01 08:16:58.750267|20220101|2024-12-31   |2024-06-01 08:16:58.750267|9999-12-31 00:00:00|1         |2024-06-01 08:16:58.750267|\n",
      "|P005      |Royal Canin            |Royal Canin |Dry |Fish   |20 kgs |60.0 |https://www.example.com/royal-canin-fish.jpg              |2024-06-01 08:16:58.750267|20220101|2024-12-31   |2024-06-01 08:16:58.750267|9999-12-31 00:00:00|1         |2024-06-01 08:16:58.750267|\n",
      "+----------+-----------------------+------------+----+-------+-------+-----+----------------------------------------------------------+--------------------------+--------+-------------+--------------------------+-------------------+----------+--------------------------+\n",
      "only showing top 5 rows\n",
      "\n"
     ]
    }
   ],
   "source": [
    "df_stg.show(5,False)"
   ]
  },
  {
   "cell_type": "code",
   "execution_count": 7,
   "id": "e40bafb0-8b16-44e6-960a-001700121752",
   "metadata": {},
   "outputs": [],
   "source": [
    "uuid_udf = udf(lambda : uuid.uuid4,StringType())"
   ]
  },
  {
   "cell_type": "code",
   "execution_count": 9,
   "id": "b21335f2-3963-4a6e-baec-d4a9e06360df",
   "metadata": {},
   "outputs": [
    {
     "name": "stdout",
     "output_type": "stream",
     "text": [
      "SPARK_APP: Dim Temp Data Count - 14\n",
      "SPARK_APP: Printing Dim Temp Schema --\n",
      "root\n",
      " |-- product_id: string (nullable = true)\n",
      " |-- product_name: string (nullable = true)\n",
      " |-- brand: string (nullable = true)\n",
      " |-- type: string (nullable = true)\n",
      " |-- flavor: string (nullable = true)\n",
      " |-- size: string (nullable = true)\n",
      " |-- price: double (nullable = true)\n",
      " |-- image_url: string (nullable = true)\n",
      " |-- insert_dt: timestamp (nullable = true)\n",
      " |-- rundate: string (nullable = true)\n",
      " |-- expiration_dt: date (nullable = true)\n",
      " |-- effective_start_dt: timestamp (nullable = true)\n",
      " |-- effective_end_dt: timestamp (nullable = true)\n",
      " |-- active_flg: integer (nullable = true)\n",
      " |-- update_dt: timestamp (nullable = true)\n",
      " |-- row_wid: string (nullable = true)\n",
      " |-- history_update_dt: timestamp (nullable = false)\n",
      " |-- history_active_flg: integer (nullable = false)\n",
      " |-- history_effective_end_dt: timestamp (nullable = true)\n",
      "\n"
     ]
    }
   ],
   "source": [
    "# Generate Surrogate Keys\n",
    "\n",
    "df_dim_temp = df_stg.withColumn(\"row_wid\",uuid_udf())\\\n",
    ".withColumn(\"history_update_dt\",current_timestamp())\\\n",
    ".withColumn(\"history_active_flg\",lit(0))\\\n",
    ".withColumn(\"history_effective_end_dt\",expr(\"CAST(effective_start_dt AS TIMESTAMP) - INTERVAL 1 SECONDS\"))\n",
    "\n",
    "print(\"SPARK_APP: Dim Temp Data Count - \" + str(df_dim_temp.count()))\n",
    "print(\"SPARK_APP: Printing Dim Temp Schema --\")\n",
    "df_dim_temp.printSchema()"
   ]
  },
  {
   "cell_type": "code",
   "execution_count": 10,
   "id": "33fa5256-a664-49d4-9f6f-a770cd793ff2",
   "metadata": {},
   "outputs": [
    {
     "name": "stdout",
     "output_type": "stream",
     "text": [
      "SPARK_APP: Table is set for full load\n",
      "SPARK_APP: Updated History Records\n"
     ]
    }
   ],
   "source": [
    "#Get the delta table for Upserts (SCD2)\n",
    "dt_dim = DeltaTable.forName(spark,table_full_name)\n",
    "\n",
    "# check if table is set for full load\n",
    "\n",
    "if get_max_timestamp(spark,schema_name,table_name) == \"1900-01-01 00:00:00.000000\":\n",
    "    print(\"SPARK_APP: Table is set for full load\") \n",
    "    # Truncate the Dimension table\n",
    "    spark.conf.set(\"spark.databricks.delta.retentionDurationCheck.enabled\",False)\n",
    "    dt_dim.delete(f\"1=1\")\n",
    "    dt_dim.vacuum(0)\n",
    "\n",
    "dt_dim.alias(\"dim_product\").merge\\\n",
    "      (df_dim_temp.alias(\"dim_temp\"), \"dim_product.product_id = dim_temp.product_id and dim_product.active_flg = 1\")\\\n",
    ".whenMatchedUpdate( set = {\n",
    "    \"update_dt\" : \"history_update_dt\",\n",
    "    \"active_flg\" : \"history_active_flg\",\n",
    "    \"effective_end_dt\" : \"history_effective_end_dt\"}).execute()\n",
    "\n",
    "print(\"SPARK_APP: Updated History Records\")\n",
    "\n"
   ]
  },
  {
   "cell_type": "code",
   "execution_count": 11,
   "id": "f9732387-4af4-4e81-b821-895e1b624ec6",
   "metadata": {},
   "outputs": [
    {
     "name": "stdout",
     "output_type": "stream",
     "text": [
      "+-------+---------------+---------------------+--------------------+-------------+\n",
      "|version|executionTimeMs|numTargetRowsInserted|numTargetRowsUpdated|numOutputRows|\n",
      "+-------+---------------+---------------------+--------------------+-------------+\n",
      "|1      |9419           |0                    |0                   |0            |\n",
      "+-------+---------------+---------------------+--------------------+-------------+\n",
      "\n"
     ]
    }
   ],
   "source": [
    "# see metrics for Delta Table\n",
    "dt_dim.history().limit(1).select(\"version\",\"operationMetrics.executionTimeMs\", \n",
    "                                 \"operationMetrics.numTargetRowsInserted\",\n",
    "                                \"operationMetrics.numTargetRowsUpdated\",\n",
    "                                \"operationMetrics.numOutputRows\").show(1, False)"
   ]
  },
  {
   "cell_type": "code",
   "execution_count": 12,
   "id": "0fef62a3-9977-4f65-be26-e75b019f349b",
   "metadata": {},
   "outputs": [
    {
     "name": "stdout",
     "output_type": "stream",
     "text": [
      "SPARK_APP: Active Records inserted into Dimesion Table\n"
     ]
    }
   ],
   "source": [
    "# Insert all records in Delta Table in APPEND mode\n",
    "\n",
    "df_dim_temp\\\n",
    ".drop(\"history_effective_end_dt\", \"history_active_flg\", \"history_update_dt\")\\\n",
    ".write.format(\"delta\").mode(\"append\").saveAsTable(table_full_name)\n",
    "\n",
    "print(\"SPARK_APP: Active Records inserted into Dimesion Table\")"
   ]
  },
  {
   "cell_type": "code",
   "execution_count": 13,
   "id": "2b23768c-237a-44f8-a1b6-22da5bd5db4b",
   "metadata": {},
   "outputs": [
    {
     "name": "stdout",
     "output_type": "stream",
     "text": [
      "+-------+---------------+---------------------+--------------------+-------------+\n",
      "|version|executionTimeMs|numTargetRowsInserted|numTargetRowsUpdated|numOutputRows|\n",
      "+-------+---------------+---------------------+--------------------+-------------+\n",
      "|2      |null           |null                 |null                |14           |\n",
      "+-------+---------------+---------------------+--------------------+-------------+\n",
      "\n"
     ]
    }
   ],
   "source": [
    "# see metrics for Delta Table\n",
    "dt_dim.history().limit(1).select(\"version\",\"operationMetrics.executionTimeMs\", \n",
    "                                 \"operationMetrics.numTargetRowsInserted\",\n",
    "                                \"operationMetrics.numTargetRowsUpdated\",\n",
    "                                \"operationMetrics.numOutputRows\").show(1, False)"
   ]
  },
  {
   "cell_type": "code",
   "execution_count": 17,
   "id": "d5b98e2a-635e-4a38-9001-abb80f77c17e",
   "metadata": {},
   "outputs": [
    {
     "name": "stdout",
     "output_type": "stream",
     "text": [
      "+----------------------------------------------------------+----------+-----------------------+------------+----+-------+-------+-----+-------------+----------------------------------------------------------+--------------------------+-------------------+----------+--------+--------------------------+--------------------------+\n",
      "|row_wid                                                   |product_id|product_name           |brand       |type|flavor |size   |price|expiration_dt|image_url                                                 |effective_start_dt        |effective_end_dt   |active_flg|rundate |insert_dt                 |update_dt                 |\n",
      "+----------------------------------------------------------+----------+-----------------------+------------+----+-------+-------+-----+-------------+----------------------------------------------------------+--------------------------+-------------------+----------+--------+--------------------------+--------------------------+\n",
      "|net.razorvine.pickle.objects.ClassDictConstructor@55c03255|P001      |Purina Pro Plan        |Purina      |Dry |Chicken|5 kgs  |20.0 |2024-12-31   |https://www.example.com/purina-pro-plan-chicken.jpg       |2024-06-01 08:16:58.750267|9999-12-31 00:00:00|1         |20220101|2024-06-01 08:16:58.750267|2024-06-01 08:16:58.750267|\n",
      "|net.razorvine.pickle.objects.ClassDictConstructor@55c03255|P002      |Hill's Science Diet    |Hill's      |Dry |Beef   |15 kgs |50.0 |2024-12-31   |https://www.example.com/hills-science-diet-beef.jpg       |2024-06-01 08:16:58.750267|9999-12-31 00:00:00|1         |20220101|2024-06-01 08:16:58.750267|2024-06-01 08:16:58.750267|\n",
      "|net.razorvine.pickle.objects.ClassDictConstructor@55c03255|P003      |Iams ProActive Health  |Iams        |Dry |Lamb   |10 kgs |40.0 |2024-12-31   |https://www.example.com/iams-proactive-health-lamb.jpg    |2024-06-01 08:16:58.750267|9999-12-31 00:00:00|1         |20220101|2024-06-01 08:16:58.750267|2024-06-01 08:16:58.750267|\n",
      "|net.razorvine.pickle.objects.ClassDictConstructor@55c03255|P004      |Blue Buffalo Wilderness|Blue Buffalo|Wet |Salmon |12 cans|30.0 |2024-12-31   |https://www.example.com/blue-buffalo-wilderness-salmon.jpg|2024-06-01 08:16:58.750267|9999-12-31 00:00:00|1         |20220101|2024-06-01 08:16:58.750267|2024-06-01 08:16:58.750267|\n",
      "|net.razorvine.pickle.objects.ClassDictConstructor@55c03255|P005      |Royal Canin            |Royal Canin |Dry |Fish   |20 kgs |60.0 |2024-12-31   |https://www.example.com/royal-canin-fish.jpg              |2024-06-01 08:16:58.750267|9999-12-31 00:00:00|1         |20220101|2024-06-01 08:16:58.750267|2024-06-01 08:16:58.750267|\n",
      "+----------------------------------------------------------+----------+-----------------------+------------+----+-------+-------+-----+-------------+----------------------------------------------------------+--------------------------+-------------------+----------+--------+--------------------------+--------------------------+\n",
      "\n"
     ]
    }
   ],
   "source": [
    "spark.sql(\"select * from edw.dim_product limit 5\").show(truncate = False)"
   ]
  },
  {
   "cell_type": "code",
   "execution_count": 18,
   "id": "151d1af9-6690-4d9f-98cd-15cdfcf7a92a",
   "metadata": {},
   "outputs": [],
   "source": [
    "spark.stop()"
   ]
  },
  {
   "cell_type": "code",
   "execution_count": null,
   "id": "ebbcbb3b-aa5f-42df-b476-717108fe875f",
   "metadata": {},
   "outputs": [],
   "source": []
  }
 ],
 "metadata": {
  "kernelspec": {
   "display_name": "Python 3 (ipykernel)",
   "language": "python",
   "name": "python3"
  },
  "language_info": {
   "codemirror_mode": {
    "name": "ipython",
    "version": 3
   },
   "file_extension": ".py",
   "mimetype": "text/x-python",
   "name": "python",
   "nbconvert_exporter": "python",
   "pygments_lexer": "ipython3",
   "version": "3.10.14"
  }
 },
 "nbformat": 4,
 "nbformat_minor": 5
}
