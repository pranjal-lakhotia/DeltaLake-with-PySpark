{
 "cells": [
  {
   "cell_type": "code",
   "execution_count": 1,
   "id": "26d196bb-43d9-4420-be7c-44be372c35c6",
   "metadata": {},
   "outputs": [],
   "source": [
    "import sys\n",
    "from lib.spark_session import get_spark_session\n",
    "from lib.utils import  get_string_cols,get_rundate\n",
    "from lib.aws_s3 import  archive_landing_object\n",
    "from lib.job_control import insert_log, get_max_timestamp\n",
    "from pyspark.sql import SparkSession, DataFrame\n",
    "from pyspark.sql.functions import current_timestamp, lit\n",
    "from datetime import datetime\n",
    "from delta import DeltaTable"
   ]
  },
  {
   "cell_type": "code",
   "execution_count": 2,
   "id": "c652bc54-bb8b-447a-99cb-720b6b2ad305",
   "metadata": {},
   "outputs": [
    {
     "name": "stdout",
     "output_type": "stream",
     "text": [
      "SPARK_APP: JOB triggered for rundate - 20220101\n"
     ]
    }
   ],
   "source": [
    "# JOB Parameters\n",
    "rundate = get_rundate()\n",
    "schema_name = \"edw_ld\"\n",
    "table_name = \"dim_product_ld\"\n",
    "table_full_name = f\"{schema_name}.{table_name}\" \n",
    "landing_file_name = f\"product_{rundate}.csv\"\n",
    "landing_file_path = f\"s3a://deltalake12/dw-with-pyspark/landing/product/\"\n",
    "print(\"SPARK_APP: JOB triggered for rundate - \" + rundate)"
   ]
  },
  {
   "cell_type": "code",
   "execution_count": 3,
   "id": "3172d53b-2cb5-44da-9c0c-2becd9f34d15",
   "metadata": {},
   "outputs": [
    {
     "name": "stdout",
     "output_type": "stream",
     "text": [
      "SPARK_APP: Spark UI - http://03205cdd01e3:4040\n"
     ]
    }
   ],
   "source": [
    "spark: SparkSession = get_spark_session(f\"Landing load - {table_full_name}\")\n",
    "print(\"SPARK_APP: Spark UI - \" + spark.sparkContext.uiWebUrl)"
   ]
  },
  {
   "cell_type": "code",
   "execution_count": 4,
   "id": "9694e20e-23d6-48c1-b3a1-7ff5ae5bf235",
   "metadata": {},
   "outputs": [],
   "source": [
    "# Spark Configs\n",
    "spark.conf.set(\"spark.sql.shuffle.partitions\", 8)\n",
    "spark.conf.set(\"spark.sql.parquet.mergeSchema\", True)"
   ]
  },
  {
   "cell_type": "code",
   "execution_count": 5,
   "id": "3381312c-2e0f-446c-8d62-3b550e23e4d8",
   "metadata": {},
   "outputs": [
    {
     "name": "stdout",
     "output_type": "stream",
     "text": [
      "SPARK_APP: Printing Raw Schema --\n",
      "root\n",
      " |-- product_id: string (nullable = true)\n",
      " |-- product_name: string (nullable = true)\n",
      " |-- brand: string (nullable = true)\n",
      " |-- type: string (nullable = true)\n",
      " |-- flavor: string (nullable = true)\n",
      " |-- size: string (nullable = true)\n",
      " |-- price: string (nullable = true)\n",
      " |-- quantity: string (nullable = true)\n",
      " |-- expiration_date: string (nullable = true)\n",
      " |-- image_url: string (nullable = true)\n",
      "\n",
      "SPARK_APP: Landing data count - 14\n"
     ]
    }
   ],
   "source": [
    "# Create Raw dataframe and get col info\n",
    "df_raw = spark.read.format(\"csv\").option(\"header\",True).load(f\"{landing_file_path}/{landing_file_name}\")\n",
    "print(\"SPARK_APP: Printing Raw Schema --\")\n",
    "df_raw.printSchema()\n",
    "\n",
    "# Get Landing count\n",
    "print(\"SPARK_APP: Landing data count - \" + str(df_raw.count()))"
   ]
  },
  {
   "cell_type": "code",
   "execution_count": 6,
   "id": "6412f7d9-b705-4e3c-8c4f-13f505b379ef",
   "metadata": {},
   "outputs": [
    {
     "name": "stdout",
     "output_type": "stream",
     "text": [
      "SPARK_APP: Casted all columns to String\n",
      "SPARK_APP: Added AUDIT column\n",
      "SPARK_APP: Final layer data count - 14\n",
      "SPARK_APP: Printing Landing Schema --\n",
      "root\n",
      " |-- product_id: string (nullable = true)\n",
      " |-- product_name: string (nullable = true)\n",
      " |-- brand: string (nullable = true)\n",
      " |-- type: string (nullable = true)\n",
      " |-- flavor: string (nullable = true)\n",
      " |-- size: string (nullable = true)\n",
      " |-- price: string (nullable = true)\n",
      " |-- quantity: string (nullable = true)\n",
      " |-- expiration_date: string (nullable = true)\n",
      " |-- image_url: string (nullable = true)\n",
      " |-- insert_dt: timestamp (nullable = false)\n",
      " |-- rundate: string (nullable = false)\n",
      "\n"
     ]
    }
   ],
   "source": [
    "# Cast all columns to String\n",
    "df_casted = df_raw.selectExpr(get_string_cols(spark, df_raw))\n",
    "print(\"SPARK_APP: Casted all columns to String\")\n",
    "\n",
    "# Add audit columns\n",
    "df_ld = df_casted.withColumn(\"insert_dt\", current_timestamp()) \\\n",
    "    .withColumn(\"rundate\", lit(rundate))\n",
    "print(\"SPARK_APP: Added AUDIT column\")\n",
    "\n",
    "# Get Final Layer count\n",
    "print(\"SPARK_APP: Final layer data count - \" + str(df_ld.count()))\n",
    "print(\"SPARK_APP: Printing Landing Schema --\")\n",
    "df_ld.printSchema()"
   ]
  },
  {
   "cell_type": "code",
   "execution_count": 7,
   "id": "82a7e6be-39e9-4a77-afb9-fbb24e14d049",
   "metadata": {},
   "outputs": [
    {
     "name": "stdout",
     "output_type": "stream",
     "text": [
      "SPARK_APP: Data written to landing layer\n"
     ]
    }
   ],
   "source": [
    "# Write the data to landing layer checking if table exists\n",
    "if get_max_timestamp(spark, schema_name, table_name) != \"1900-01-01 00:00:00.000000\":\n",
    "    df_ld.write \\\n",
    "        .format(\"delta\") \\\n",
    "        .mode(\"append\") \\\n",
    "        .saveAsTable(table_full_name)\n",
    "else:\n",
    "    df_ld.write \\\n",
    "        .format(\"delta\") \\\n",
    "        .mode(\"overwrite\") \\\n",
    "        .saveAsTable(table_full_name)\n",
    "\n",
    "print(\"SPARK_APP: Data written to landing layer\")"
   ]
  },
  {
   "cell_type": "code",
   "execution_count": 8,
   "id": "1851b6cb-4899-435d-a838-3ed2d545f213",
   "metadata": {},
   "outputs": [
    {
     "name": "stdout",
     "output_type": "stream",
     "text": [
      "Unable to locate credentials\n",
      "SPARK_APP: ERROR - Landing file product_20220101.csv not archived. Please Archive the file manually\n"
     ]
    }
   ],
   "source": [
    "# Archive the landing file\n",
    "if archive_landing_object(landing_file_name, \"store\"):\n",
    "    print(f\"SPARK_APP: Landing file {landing_file_name} archived\")\n",
    "else:\n",
    "    print(f\"SPARK_APP: ERROR - Landing file {landing_file_name} not archived. Please Archive the file manually\")"
   ]
  },
  {
   "cell_type": "code",
   "execution_count": 9,
   "id": "1a58704c-8203-46ff-9291-20017ef0dd89",
   "metadata": {},
   "outputs": [
    {
     "name": "stdout",
     "output_type": "stream",
     "text": [
      "SPARK_APP: Update JOB Control Log\n"
     ]
    }
   ],
   "source": [
    "insert_log(spark, schema_name, table_name, datetime.now(), rundate)\n",
    "print(\"SPARK_APP: Update JOB Control Log\")"
   ]
  },
  {
   "cell_type": "code",
   "execution_count": 10,
   "id": "f110d3ac-cf41-4a71-9670-4c1c8c3f3c3d",
   "metadata": {},
   "outputs": [
    {
     "name": "stdout",
     "output_type": "stream",
     "text": [
      "+-----------+--------------+--------------------------+--------+--------------------------+\n",
      "|schema_name|table_name    |max_timestamp             |rundate |insert_dt                 |\n",
      "+-----------+--------------+--------------------------+--------+--------------------------+\n",
      "|edw_ld     |dim_product_ld|2024-06-01 07:48:19.310747|20220101|2024-06-01 07:48:20.243416|\n",
      "+-----------+--------------+--------------------------+--------+--------------------------+\n",
      "\n"
     ]
    }
   ],
   "source": [
    "spark.sql(f\"select * from edw.job_control where table_name = '{table_name}' order by insert_dt desc\").show(truncate=False)"
   ]
  },
  {
   "cell_type": "code",
   "execution_count": 11,
   "id": "7c24a3da-d1e2-426c-9100-05528803e82c",
   "metadata": {},
   "outputs": [
    {
     "name": "stdout",
     "output_type": "stream",
     "text": [
      "+-------+---------------+---------------------+--------------------+-------------+\n",
      "|version|executionTimeMs|numTargetRowsInserted|numTargetRowsUpdated|numOutputRows|\n",
      "+-------+---------------+---------------------+--------------------+-------------+\n",
      "|0      |null           |null                 |null                |14           |\n",
      "+-------+---------------+---------------------+--------------------+-------------+\n",
      "\n"
     ]
    }
   ],
   "source": [
    "# Get the logs from delta table version\n",
    "dt = DeltaTable.forName(spark, table_full_name)\n",
    "dt.history().limit(1).select(\"version\",\"operationMetrics.executionTimeMs\", \n",
    "                                 \"operationMetrics.numTargetRowsInserted\",\n",
    "                                \"operationMetrics.numTargetRowsUpdated\",\n",
    "                                \"operationMetrics.numOutputRows\").show(1, False)"
   ]
  },
  {
   "cell_type": "code",
   "execution_count": 12,
   "id": "fdfbcce1-20c4-4e1c-98c1-c2ae38c27c82",
   "metadata": {},
   "outputs": [
    {
     "name": "stdout",
     "output_type": "stream",
     "text": [
      "SPARK_APP: Symlink Manifest file generated\n"
     ]
    }
   ],
   "source": [
    "dt.generate(\"symlink_format_manifest\")\n",
    "print(\"SPARK_APP: Symlink Manifest file generated\")"
   ]
  },
  {
   "cell_type": "code",
   "execution_count": 14,
   "id": "e6a4ab75-3a8d-44f4-8276-805d21c2f6fd",
   "metadata": {},
   "outputs": [
    {
     "name": "stdout",
     "output_type": "stream",
     "text": [
      "+----------+--------------------+-----------------+----+-------+-------+-----+--------+---------------+--------------------+--------------------+--------+\n",
      "|product_id|        product_name|            brand|type| flavor|   size|price|quantity|expiration_date|           image_url|           insert_dt| rundate|\n",
      "+----------+--------------------+-----------------+----+-------+-------+-----+--------+---------------+--------------------+--------------------+--------+\n",
      "|      P001|     Purina Pro Plan|           Purina| Dry|Chicken|  5 kgs|Rs 20|      50|     31-12-2024|https://www.examp...|2024-06-01 07:47:...|20220101|\n",
      "|      P002| Hill's Science Diet|           Hill's| Dry|   Beef| 15 kgs|Rs 50|      25|     31-12-2024|https://www.examp...|2024-06-01 07:47:...|20220101|\n",
      "|      P003|Iams ProActive He...|             Iams| Dry|   Lamb| 10 kgs|Rs 40|      35|     31-12-2024|https://www.examp...|2024-06-01 07:47:...|20220101|\n",
      "|      P004|Blue Buffalo Wild...|     Blue Buffalo| Wet| Salmon|12 cans|Rs 30|      40|     31-12-2024|https://www.examp...|2024-06-01 07:47:...|20220101|\n",
      "|      P005|         Royal Canin|      Royal Canin| Dry|   Fish| 20 kgs|Rs 60|      20|     31-12-2024|https://www.examp...|2024-06-01 07:47:...|20220101|\n",
      "|      P006|Wellness Complete...|         Wellness| Wet| Turkey|24 cans|Rs 40|      30|     31-12-2024|https://www.examp...|2024-06-01 07:47:...|20220101|\n",
      "|      P007|  Merrick Grain Free|          Merrick| Dry|   Duck| 15 kgs|Rs 50|      25|     31-12-2024|https://www.examp...|2024-06-01 07:47:...|20220101|\n",
      "|      P008|Nature's Variety ...| Nature's Variety| Wet| Rabbit|12 cans|Rs 30|      40|     31-12-2024|https://www.examp...|2024-06-01 07:47:...|20220101|\n",
      "|      P009|Canidae Grain Fre...|          Canidae| Dry|  Bison| 20 kgs|Rs 60|      20|     31-12-2024|https://www.examp...|2024-06-01 07:47:...|20220101|\n",
      "|      P010|   Taste of the Wild|Taste of the Wild| Wet|Venison|24 cans|Rs 40|      30|     31-12-2024|https://www.examp...|2024-06-01 07:47:...|20220101|\n",
      "|      P011| Hill's Science Diet|           Hill's| Dry| Feline|  3 kgs|Rs 15|      50|     31-12-2024|https://www.examp...|2024-06-01 07:47:...|20220101|\n",
      "|      P012|     Purina Pro Plan|           Purina| Wet| Feline|24 cans|Rs 40|      30|     31-12-2024|https://www.examp...|2024-06-01 07:47:...|20220101|\n",
      "|      P013|Iams ProActive He...|             Iams| Dry| Canine|  5 kgs|Rs 20|      50|     31-12-2024|https://www.examp...|2024-06-01 07:47:...|20220101|\n",
      "|      P014|Blue Buffalo Wild...|     Blue Buffalo| Wet| Canine|12 cans|Rs 30|      40|     31-12-2024|https://www.examp...|2024-06-01 07:47:...|20220101|\n",
      "+----------+--------------------+-----------------+----+-------+-------+-----+--------+---------------+--------------------+--------------------+--------+\n",
      "\n"
     ]
    }
   ],
   "source": [
    "spark.sql(\"select * from edw_ld.dim_product_ld\").show()"
   ]
  },
  {
   "cell_type": "code",
   "execution_count": 15,
   "id": "31ef0e1c-674c-4bbf-9e9c-0ee51083338f",
   "metadata": {},
   "outputs": [],
   "source": [
    "spark.stop()"
   ]
  }
 ],
 "metadata": {
  "kernelspec": {
   "display_name": "Python 3 (ipykernel)",
   "language": "python",
   "name": "python3"
  },
  "language_info": {
   "codemirror_mode": {
    "name": "ipython",
    "version": 3
   },
   "file_extension": ".py",
   "mimetype": "text/x-python",
   "name": "python",
   "nbconvert_exporter": "python",
   "pygments_lexer": "ipython3",
   "version": "3.10.14"
  }
 },
 "nbformat": 4,
 "nbformat_minor": 5
}
