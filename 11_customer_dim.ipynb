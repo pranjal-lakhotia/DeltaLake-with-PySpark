{
 "cells": [
  {
   "cell_type": "code",
   "execution_count": 1,
   "id": "1ddc1e43-7f53-4ff7-9fb6-9a5bf78a48ee",
   "metadata": {},
   "outputs": [],
   "source": [
    "# Script to load customers in dimension table using SCD type 2 table\n",
    "\n",
    "# Import required libraries\n",
    "import sys\n",
    "from lib.spark_session import get_spark_session\n",
    "from lib.utils import date_data, get_string_cols, get_rundate\n",
    "from lib.job_control import insert_log, get_max_timestamp\n",
    "from pyspark.sql import SparkSession, DataFrame\n",
    "from pyspark.sql.functions import current_timestamp, expr, to_date, date_format,udf,lit,col\n",
    "from pyspark.sql.types import StringType\n",
    "from datetime import datetime\n",
    "from delta import DeltaTable\n",
    "import uuid\n",
    "\n"
   ]
  },
  {
   "cell_type": "code",
   "execution_count": 2,
   "id": "031d8cf8-dcbd-42b2-99cb-f88a8cc31ed0",
   "metadata": {},
   "outputs": [
    {
     "name": "stdout",
     "output_type": "stream",
     "text": [
      "SPARK_APP: JOB triggered for rundate - 20220101\n"
     ]
    }
   ],
   "source": [
    "# Job Parameters\n",
    "rundate = get_rundate()\n",
    "schema_name = \"edw\"\n",
    "table_name = \"dim_customer\"\n",
    "table_full_name = f\"{schema_name}.{table_name}\"\n",
    "staging_table_full_name = \"edw_stg.dim_customer_stg\"\n",
    "print(\"SPARK_APP: JOB triggered for rundate - \" + rundate)"
   ]
  },
  {
   "cell_type": "code",
   "execution_count": 3,
   "id": "3a60e1ff-1f9f-41f7-905b-520dda1f6bc5",
   "metadata": {},
   "outputs": [
    {
     "name": "stdout",
     "output_type": "stream",
     "text": [
      "SPARK_APP: Spark UI - http://03205cdd01e3:4040\n"
     ]
    }
   ],
   "source": [
    "# Generate Spark Session\n",
    "spark: SparkSession = get_spark_session(f\"Dimension load - {table_full_name}\")\n",
    "print(\"SPARK_APP: Spark UI - \" + spark.sparkContext.uiWebUrl)"
   ]
  },
  {
   "cell_type": "code",
   "execution_count": 4,
   "id": "560bdee6-a2f4-42f6-9f9e-c0f24e06fe85",
   "metadata": {},
   "outputs": [],
   "source": [
    "#spark Configs\n",
    "spark.conf.set(\"spark.sql.shuffle.partitions\", 8)\n",
    "#spark.conf.set(\"spark.sql.parquet.mergeSchema\", False)"
   ]
  },
  {
   "cell_type": "code",
   "execution_count": 5,
   "id": "49744815-f8bc-4a8e-b3fb-faecaf378210",
   "metadata": {},
   "outputs": [
    {
     "name": "stdout",
     "output_type": "stream",
     "text": [
      "SPARK_APP: Staging Data Count - 18\n",
      "SPARK_APP: Printing Staging Schema --\n",
      "root\n",
      " |-- customer_id: string (nullable = true)\n",
      " |-- name: string (nullable = true)\n",
      " |-- address: string (nullable = true)\n",
      " |-- city: string (nullable = true)\n",
      " |-- state: string (nullable = true)\n",
      " |-- zip_code: string (nullable = true)\n",
      " |-- phone_number: string (nullable = true)\n",
      " |-- email: string (nullable = true)\n",
      " |-- date_of_birth: date (nullable = true)\n",
      " |-- plan_type: string (nullable = true)\n",
      " |-- insert_dt: timestamp (nullable = true)\n",
      " |-- rundate: string (nullable = true)\n",
      " |-- first_name: string (nullable = true)\n",
      " |-- last_name: string (nullable = true)\n",
      " |-- effective_start_date: timestamp (nullable = true)\n",
      " |-- effective_end_date: timestamp (nullable = true)\n",
      " |-- active_flag: integer (nullable = true)\n",
      " |-- update_dt: timestamp (nullable = true)\n",
      "\n"
     ]
    }
   ],
   "source": [
    "# Reading Stage Layer Data\n",
    "\n",
    "df_stg = spark.read.table(staging_table_full_name)\n",
    "\n",
    "print(\"SPARK_APP: Staging Data Count - \" + str(df_stg.count()))\n",
    "print(\"SPARK_APP: Printing Staging Schema --\")\n",
    "df_stg.printSchema()"
   ]
  },
  {
   "cell_type": "code",
   "execution_count": 8,
   "id": "6a9e8141-719c-493c-b5e1-dae7b90a9a10",
   "metadata": {},
   "outputs": [
    {
     "name": "stdout",
     "output_type": "stream",
     "text": [
      "+-----------+-----------------+--------------+-----------+-----+--------+--------------+--------------------------+-------------+---------+--------------------------+--------+----------+---------+--------------------------+-------------------+-----------+--------------------------+\n",
      "|customer_id|name             |address       |city       |state|zip_code|phone_number  |email                     |date_of_birth|plan_type|insert_dt                 |rundate |first_name|last_name|effective_start_date      |effective_end_date |active_flag|update_dt                 |\n",
      "+-----------+-----------------+--------------+-----------+-----+--------+--------------+--------------------------+-------------+---------+--------------------------+--------+----------+---------+--------------------------+-------------------+-----------+--------------------------+\n",
      "|C001       |Ramesh Kumar     |123 Main St   |Anytown    |WB   |12345   |91-00000-00000|ramesh@email.com          |1980-01-01   |P        |2024-05-31 03:34:15.959018|20220101|Ramesh    |Kumar    |2024-05-31 03:34:15.959018|9999-12-31 00:00:00|1          |2024-05-31 03:34:15.959018|\n",
      "|C002       |Meena            |456 Elm St    |Anothertown|GJ   |67890   |91-00000-00001|meena@email.com           |1985-01-02   |G        |2024-05-31 03:34:15.959018|20220101|Meena     |         |2024-05-31 03:34:15.959018|9999-12-31 00:00:00|1          |2024-05-31 03:34:15.959018|\n",
      "|C003       |Imitiaz Ali      |789 Oak Ave   |Bigcity    |JK   |9876    |91-00000-00002|imtiaz@email.com          |1990-01-03   |NA       |2024-05-31 03:34:15.959018|20220101|Imitiaz   |Ali      |2024-05-31 03:34:15.959018|9999-12-31 00:00:00|1          |2024-05-31 03:34:15.959018|\n",
      "|C004       |Samantha Williams|321 Birch Blvd|Smallville |MH   |55555   |91-00000-00003|samanthawilliams@email.com|1995-01-04   |G        |2024-05-31 03:34:15.959018|20220101|Samantha  |Williams |2024-05-31 03:34:15.959018|9999-12-31 00:00:00|1          |2024-05-31 03:34:15.959018|\n",
      "|C005       |Rekha Alluwalia  |654 Pine St   |Busytown   |KA   |11111   |91-00000-00004|rekha@email.com           |2000-01-05   |P        |2024-05-31 03:34:15.959018|20220101|Rekha     |Alluwalia|2024-05-31 03:34:15.959018|9999-12-31 00:00:00|1          |2024-05-31 03:34:15.959018|\n",
      "+-----------+-----------------+--------------+-----------+-----+--------+--------------+--------------------------+-------------+---------+--------------------------+--------+----------+---------+--------------------------+-------------------+-----------+--------------------------+\n",
      "only showing top 5 rows\n",
      "\n"
     ]
    }
   ],
   "source": [
    "df_stg.show(5,False)"
   ]
  },
  {
   "cell_type": "code",
   "execution_count": 6,
   "id": "b135685b-add1-4010-8448-b08b999a5f90",
   "metadata": {},
   "outputs": [],
   "source": [
    "# Generate UUID for Surrogate Key\n",
    "uuid_udf = udf(lambda: str(uuid.uuid4()), StringType())"
   ]
  },
  {
   "cell_type": "code",
   "execution_count": 8,
   "id": "a6bc23d9-8b06-43dc-97b8-cc059605f347",
   "metadata": {},
   "outputs": [
    {
     "name": "stdout",
     "output_type": "stream",
     "text": [
      "SPARK_APP: Dim Temp Data Count - 18\n",
      "SPARK_APP: Printing Dim Temp Schema --\n",
      "root\n",
      " |-- customer_id: string (nullable = true)\n",
      " |-- name: string (nullable = true)\n",
      " |-- address: string (nullable = true)\n",
      " |-- city: string (nullable = true)\n",
      " |-- state: string (nullable = true)\n",
      " |-- zip_code: string (nullable = true)\n",
      " |-- phone_number: string (nullable = true)\n",
      " |-- email: string (nullable = true)\n",
      " |-- date_of_birth: date (nullable = true)\n",
      " |-- plan_type: string (nullable = true)\n",
      " |-- insert_dt: timestamp (nullable = true)\n",
      " |-- rundate: string (nullable = true)\n",
      " |-- first_name: string (nullable = true)\n",
      " |-- last_name: string (nullable = true)\n",
      " |-- effective_start_date: timestamp (nullable = true)\n",
      " |-- effective_end_date: timestamp (nullable = true)\n",
      " |-- active_flag: integer (nullable = true)\n",
      " |-- update_dt: timestamp (nullable = true)\n",
      " |-- row_wid: string (nullable = true)\n",
      " |-- hist_active_flag: integer (nullable = false)\n",
      " |-- history_record_end_timestamp: timestamp (nullable = true)\n",
      " |-- hist_record_update_dt: timestamp (nullable = false)\n",
      "\n"
     ]
    }
   ],
   "source": [
    "# Generate Surrogate Keys\n",
    "\n",
    "df_dim_temp = df_stg\\\n",
    ".withColumn(\"row_wid\",uuid_udf())\\\n",
    ".withColumn(\"hist_active_flag\",lit(0))\\\n",
    ".withColumn(\"history_record_end_timestamp\",expr(\"cast(effective_start_date as timestamp) - INTERVAL 1 SECONDS\"))\\\n",
    ".withColumn(\"hist_record_update_dt\",current_timestamp())\n",
    "\n",
    "print(\"SPARK_APP: Dim Temp Data Count - \" + str(df_dim_temp.count()))\n",
    "print(\"SPARK_APP: Printing Dim Temp Schema --\")\n",
    "df_dim_temp.printSchema()"
   ]
  },
  {
   "cell_type": "code",
   "execution_count": 12,
   "id": "7debba3e-02e0-431d-92b3-b14f8a1bbd62",
   "metadata": {},
   "outputs": [
    {
     "name": "stdout",
     "output_type": "stream",
     "text": [
      "SPARK_APP: Table is set for full load\n",
      "SPARK_APP: Updated History Records\n"
     ]
    }
   ],
   "source": [
    "#Get the delta table for Upserts (SCD2)\n",
    "dt_dim = DeltaTable.forName(spark,table_full_name)\n",
    "\n",
    "# check if table is set for full load\n",
    "\n",
    "if get_max_timestamp(spark,schema_name,table_name) == \"1900-01-01 00:00:00.000000\":\n",
    "    print(\"SPARK_APP: Table is set for full load\") \n",
    "    # Truncate the Dimension table\n",
    "    spark.conf.set(\"spark.databricks.delta.retentionDurationCheck.enabled\",False)\n",
    "    dt_dim.delete(f\"1=1\")\n",
    "    dt_dim.vacuum(0)\n",
    "\n",
    "dt_dim.alias(\"dim_customer\").merge\\\n",
    "      (df_dim_temp.alias(\"dim_temp\"), \"dim_customer.customer_id = dim_temp.customer_id and dim_customer.active_flag = 1\")\\\n",
    ".whenMatchedUpdate( set = {\n",
    "    \"update_dt\" : \"hist_record_update_dt\",\n",
    "    \"active_flag\" : \"hist_active_flag\",\n",
    "    \"effective_end_date\" : \"history_record_end_timestamp\"}).execute()\n",
    "\n",
    "print(\"SPARK_APP: Updated History Records\")\n"
   ]
  },
  {
   "cell_type": "code",
   "execution_count": 10,
   "id": "403ff3a9-84bb-421b-be00-de6379b45752",
   "metadata": {},
   "outputs": [
    {
     "data": {
      "text/plain": [
       "StructType([StructField('row_wid', StringType(), True), StructField('customer_id', StringType(), True), StructField('first_name', StringType(), True), StructField('last_name', StringType(), True), StructField('address', StringType(), True), StructField('city', StringType(), True), StructField('state', StringType(), True), StructField('zip_code', StringType(), True), StructField('phone_number', StringType(), True), StructField('email', StringType(), True), StructField('date_of_birth', DateType(), True), StructField('plan_type', StringType(), True), StructField('effective_start_date', TimestampType(), True), StructField('effective_end_date', TimestampType(), True), StructField('active_flag', IntegerType(), True), StructField('rundate', StringType(), True), StructField('insert_dt', TimestampType(), True), StructField('update_dt', TimestampType(), True)])"
      ]
     },
     "execution_count": 10,
     "metadata": {},
     "output_type": "execute_result"
    }
   ],
   "source": [
    "df = spark.read.table(f\"{table_full_name}\")\n",
    "df.schema"
   ]
  },
  {
   "cell_type": "code",
   "execution_count": 23,
   "id": "13d75d2e-b6e2-4f27-8d1e-e832fb55ef78",
   "metadata": {},
   "outputs": [
    {
     "name": "stdout",
     "output_type": "stream",
     "text": [
      "+-------+---------------+---------------------+--------------------+-------------+\n",
      "|version|executionTimeMs|numTargetRowsInserted|numTargetRowsUpdated|numOutputRows|\n",
      "+-------+---------------+---------------------+--------------------+-------------+\n",
      "|1      |8488           |0                    |0                   |0            |\n",
      "+-------+---------------+---------------------+--------------------+-------------+\n",
      "\n"
     ]
    }
   ],
   "source": [
    "# see metrics for Delta Table\n",
    "dt_dim.history().limit(1).select(\"version\",\"operationMetrics.executionTimeMs\", \n",
    "                                 \"operationMetrics.numTargetRowsInserted\",\n",
    "                                \"operationMetrics.numTargetRowsUpdated\",\n",
    "                                \"operationMetrics.numOutputRows\").show(1, False)"
   ]
  },
  {
   "cell_type": "code",
   "execution_count": 13,
   "id": "eb21ce9d-02a3-4656-9dd3-0a57173dbe1c",
   "metadata": {},
   "outputs": [
    {
     "name": "stdout",
     "output_type": "stream",
     "text": [
      "SPARK_APP: Active Records inserted into Dimesion Table\n"
     ]
    }
   ],
   "source": [
    "# Insert all records in Delta Table in APPEND mode\n",
    "\n",
    "df_dim_temp\\\n",
    ".drop(\"history_record_end_timestamp\", \"hist_active_flag\", \"hist_record_update_dt\", \"name\")\\\n",
    ".write.format(\"delta\").mode(\"append\").saveAsTable(table_full_name)\n",
    "\n",
    "print(\"SPARK_APP: Active Records inserted into Dimesion Table\")"
   ]
  },
  {
   "cell_type": "code",
   "execution_count": 16,
   "id": "8bfdf774-ff5c-4fd5-ab95-8da0a670cf07",
   "metadata": {},
   "outputs": [],
   "source": [
    "spark.stop()"
   ]
  },
  {
   "cell_type": "code",
   "execution_count": 15,
   "id": "358b6670-7bda-41ec-9a7e-fbd6916a2ddd",
   "metadata": {},
   "outputs": [
    {
     "name": "stdout",
     "output_type": "stream",
     "text": [
      "+--------------------+-----------+----------+---------+--------------+-----------+-----+--------+--------------+--------------------+-------------+---------+--------------------+-------------------+-----------+--------+--------------------+--------------------+\n",
      "|             row_wid|customer_id|first_name|last_name|       address|       city|state|zip_code|  phone_number|               email|date_of_birth|plan_type|effective_start_date| effective_end_date|active_flag| rundate|           insert_dt|           update_dt|\n",
      "+--------------------+-----------+----------+---------+--------------+-----------+-----+--------+--------------+--------------------+-------------+---------+--------------------+-------------------+-----------+--------+--------------------+--------------------+\n",
      "|65d16f34-e371-455...|       C001|    Ramesh|    Kumar|   123 Main St|    Anytown|   WB|   12345|91-00000-00000|    ramesh@email.com|   1980-01-01|        P|2024-05-31 03:34:...|9999-12-31 00:00:00|          1|20220101|2024-05-31 03:34:...|2024-05-31 03:34:...|\n",
      "|562c7657-ff09-4e5...|       C002|     Meena|         |    456 Elm St|Anothertown|   GJ|   67890|91-00000-00001|     meena@email.com|   1985-01-02|        G|2024-05-31 03:34:...|9999-12-31 00:00:00|          1|20220101|2024-05-31 03:34:...|2024-05-31 03:34:...|\n",
      "|a1a059c4-ccf7-471...|       C003|   Imitiaz|      Ali|   789 Oak Ave|    Bigcity|   JK|    9876|91-00000-00002|    imtiaz@email.com|   1990-01-03|       NA|2024-05-31 03:34:...|9999-12-31 00:00:00|          1|20220101|2024-05-31 03:34:...|2024-05-31 03:34:...|\n",
      "|8494a953-1a56-476...|       C004|  Samantha| Williams|321 Birch Blvd| Smallville|   MH|   55555|91-00000-00003|samanthawilliams@...|   1995-01-04|        G|2024-05-31 03:34:...|9999-12-31 00:00:00|          1|20220101|2024-05-31 03:34:...|2024-05-31 03:34:...|\n",
      "|401ed354-423f-44a...|       C005|     Rekha|Alluwalia|   654 Pine St|   Busytown|   KA|   11111|91-00000-00004|     rekha@email.com|   2000-01-05|        P|2024-05-31 03:34:...|9999-12-31 00:00:00|          1|20220101|2024-05-31 03:34:...|2024-05-31 03:34:...|\n",
      "|49d92806-9cb9-4ea...|       C006|     Emily|    Brown|  987 Cedar Rd| Quietville|   RJ|   22222|91-00000-00005|emilybrown@email.com|   2005-01-06|        D|2024-05-31 03:34:...|9999-12-31 00:00:00|          1|20220101|2024-05-31 03:34:...|2024-05-31 03:34:...|\n",
      "|bf94346a-235f-4a7...|       C007|     Pawan|    Singh|  246 Maple St|   Anywhere|   TN|   33333|91-00000-00006|     pawan@email.com|   1980-01-07|        D|2024-05-31 03:34:...|9999-12-31 00:00:00|          1|20220101|2024-05-31 03:34:...|2024-05-31 03:34:...|\n",
      "|99cbfe91-2b20-451...|       C008|  Nicholas|   Miller|    321 Oak St|    Bigcity|   OR|    9876|91-00000-00007|nicholasmiller@em...|   1985-01-08|       NA|2024-05-31 03:34:...|9999-12-31 00:00:00|          1|20220101|2024-05-31 03:34:...|2024-05-31 03:34:...|\n",
      "|819d1ea6-ebbb-438...|       C009|   Jessica|    Moore|    654 Elm St| Smallville|   OR|   55555|91-00000-00008|jessicamoore@emai...|   1990-01-09|       NA|2024-05-31 03:34:...|9999-12-31 00:00:00|          1|20220101|2024-05-31 03:34:...|2024-05-31 03:34:...|\n",
      "|5e6d1512-84f4-460...|       C010|   Matthew|   Taylor|   987 Pine St|   Busytown|   KA|   11111|91-00000-00009|matthewtaylor@ema...|   1995-01-10|       NA|2024-05-31 03:34:...|9999-12-31 00:00:00|          1|20220101|2024-05-31 03:34:...|2024-05-31 03:34:...|\n",
      "|76cea90d-1815-4bc...|       C011|    Daniel| Anderson|  246 Cedar Rd| Quietville|   WB|   22222|91-00000-00010|danielanderson@em...|   2000-01-11|        P|2024-05-31 03:34:...|9999-12-31 00:00:00|          1|20220101|2024-05-31 03:34:...|2024-05-31 03:34:...|\n",
      "|bcfa6544-4594-47d...|       C012|    Simran|   Thomas|  321 Maple St|   Anywhere|   JK|   33333|91-00000-00011|simranthomas@emai...|   2005-01-12|        G|2024-05-31 03:34:...|9999-12-31 00:00:00|          1|20220101|2024-05-31 03:34:...|2024-05-31 03:34:...|\n",
      "|ee9e6c13-7a5b-4eb...|       C013|     Renna|   Kumari|    654 Oak St|    Bigcity|   MH|    9876|91-00000-00012|     reena@email.com|   1980-01-01|        D|2024-05-31 03:34:...|9999-12-31 00:00:00|          1|20220101|2024-05-31 03:34:...|2024-05-31 03:34:...|\n",
      "|6031f7d4-ea67-4dd...|       C014|   Madison|    White|    987 Elm St| Smallville|   MH|   55555|91-00000-00013|madisonwhite@emai...|   1985-01-02|        G|2024-05-31 03:34:...|9999-12-31 00:00:00|          1|20220101|2024-05-31 03:34:...|2024-05-31 03:34:...|\n",
      "|26d70dbb-80e1-414...|       C015|   Brandon|   Harris|   246 Pine St|   Busytown|   TN|   11111|91-00000-00014|brandonharris@ema...|   1990-01-03|        P|2024-05-31 03:34:...|9999-12-31 00:00:00|          1|20220101|2024-05-31 03:34:...|2024-05-31 03:34:...|\n",
      "|c2e7466c-9c16-485...|       C016|     Avery|   Martin|  321 Cedar Rd| Quietville|   KA|   22222|91-00000-00015|averymartin@email...|   1995-01-04|        D|2024-05-31 03:34:...|9999-12-31 00:00:00|          1|20220101|2024-05-31 03:34:...|2024-05-31 03:34:...|\n",
      "|3e159e5f-8a40-477...|       C017|    Evelyn| Thompson|  654 Maple St|   Anywhere|   OR|   33333|91-00000-00016|evelynthompson@em...|   2000-01-05|        P|2024-05-31 03:34:...|9999-12-31 00:00:00|          1|20220101|2024-05-31 03:34:...|2024-05-31 03:34:...|\n",
      "|a4fb4072-2740-473...|       C018|   Abigail|   Garcia|    987 Oak St|    Bigcity|   TN|    9876|91-00000-00017|abigailgar@email.com|   2000-01-21|       NA|2024-05-31 03:34:...|9999-12-31 00:00:00|          1|20220101|2024-05-31 03:34:...|2024-05-31 03:34:...|\n",
      "+--------------------+-----------+----------+---------+--------------+-----------+-----+--------+--------------+--------------------+-------------+---------+--------------------+-------------------+-----------+--------+--------------------+--------------------+\n",
      "\n"
     ]
    }
   ],
   "source": [
    "spark.sql(\"select * from edw.dim_customer\").show()"
   ]
  },
  {
   "cell_type": "code",
   "execution_count": null,
   "id": "bb050141-6527-4997-9c06-d37172b4a99f",
   "metadata": {},
   "outputs": [],
   "source": []
  }
 ],
 "metadata": {
  "kernelspec": {
   "display_name": "Python 3 (ipykernel)",
   "language": "python",
   "name": "python3"
  },
  "language_info": {
   "codemirror_mode": {
    "name": "ipython",
    "version": 3
   },
   "file_extension": ".py",
   "mimetype": "text/x-python",
   "name": "python",
   "nbconvert_exporter": "python",
   "pygments_lexer": "ipython3",
   "version": "3.10.14"
  }
 },
 "nbformat": 4,
 "nbformat_minor": 5
}
