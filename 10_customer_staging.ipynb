{
 "cells": [
  {
   "cell_type": "code",
   "execution_count": 16,
   "id": "2e10b380-47d8-4f31-82e7-f1752c8d5b02",
   "metadata": {},
   "outputs": [],
   "source": [
    "# Script to create date for Date Dimesion Staging\n",
    "# Import required libraries\n",
    "import sys\n",
    "from lib.spark_session import get_spark_session\n",
    "from lib.utils import date_data, get_string_cols, get_rundate\n",
    "from lib.job_control import insert_log, get_max_timestamp\n",
    "from pyspark.sql import SparkSession, DataFrame\n",
    "from pyspark.sql.functions import current_timestamp, expr, to_date, lit,to_timestamp,lit,coalesce,split\n",
    "from datetime import datetime\n",
    "from delta import DeltaTable"
   ]
  },
  {
   "cell_type": "code",
   "execution_count": 2,
   "id": "77c010f3-f4d0-478c-8153-29173b4ab0b5",
   "metadata": {},
   "outputs": [
    {
     "name": "stdout",
     "output_type": "stream",
     "text": [
      "SPARK_APP: JOB triggered for rundate - 20220101\n"
     ]
    }
   ],
   "source": [
    "# JOB Parameters\n",
    "rundate = get_rundate()\n",
    "schema_name = \"edw_stg\"\n",
    "table_name = \"dim_customer_stg\"\n",
    "table_full_name = f\"{schema_name}.{table_name}\"\n",
    "landing_table_full_name = \"edw_ld.dim_customer_ld\"\n",
    "print(\"SPARK_APP: JOB triggered for rundate - \" + rundate)"
   ]
  },
  {
   "cell_type": "code",
   "execution_count": 3,
   "id": "d0adf4c4-3c27-429c-913d-87618f2d8cb1",
   "metadata": {},
   "outputs": [
    {
     "name": "stdout",
     "output_type": "stream",
     "text": [
      "SPARK_APP: Spark UI - http://03205cdd01e3:4040\n"
     ]
    }
   ],
   "source": [
    "spark:SparkSession = get_spark_session(f\"staging_load: {table_full_name}\")\n",
    "print(\"SPARK_APP: Spark UI - \" + spark.sparkContext.uiWebUrl)"
   ]
  },
  {
   "cell_type": "code",
   "execution_count": 4,
   "id": "9b11bf78-3e8d-4266-8436-87449c59105f",
   "metadata": {},
   "outputs": [],
   "source": [
    "spark.conf.set(\"spark.sql.shuffle.partitions\",8)\n",
    "spark.conf.set(\"spark.sql.parquet.mergeSchema\",True)"
   ]
  },
  {
   "cell_type": "code",
   "execution_count": 6,
   "id": "b9690667-d3c2-4b02-b06a-4aaa781ff253",
   "metadata": {},
   "outputs": [
    {
     "name": "stdout",
     "output_type": "stream",
     "text": [
      "SPARK_APP: Max timestamp for staging data load - 1900-01-01 00:00:00.000000\n"
     ]
    }
   ],
   "source": [
    "# Get the max_timestamp for data load in staging\n",
    "max_timestamp = get_max_timestamp(spark, schema_name, table_name)\n",
    "print(\"SPARK_APP: Max timestamp for staging data load - \" + str(max_timestamp))"
   ]
  },
  {
   "cell_type": "code",
   "execution_count": 7,
   "id": "b8b57a81-3b2f-4dfc-8a05-cb3904ded014",
   "metadata": {},
   "outputs": [
    {
     "name": "stdout",
     "output_type": "stream",
     "text": [
      "SPARK_APP: Landing Data Count - 18\n",
      "SPARK_APP: Printing Landing Schema --\n",
      "root\n",
      " |-- customer_id: string (nullable = true)\n",
      " |-- name: string (nullable = true)\n",
      " |-- address: string (nullable = true)\n",
      " |-- city: string (nullable = true)\n",
      " |-- state: string (nullable = true)\n",
      " |-- zip_code: string (nullable = true)\n",
      " |-- phone_number: string (nullable = true)\n",
      " |-- email: string (nullable = true)\n",
      " |-- date_of_birth: string (nullable = true)\n",
      " |-- plan_type: string (nullable = true)\n",
      " |-- insert_dt: timestamp (nullable = true)\n",
      " |-- rundate: string (nullable = true)\n",
      "\n"
     ]
    }
   ],
   "source": [
    "df_ld = spark \\\n",
    "    .read \\\n",
    "    .table(landing_table_full_name) \\\n",
    "    .where(f\"insert_dt > to_timestamp('{max_timestamp}')\")\n",
    "\n",
    "print(\"SPARK_APP: Landing Data Count - \" + str(df_ld.count()))\n",
    "print(\"SPARK_APP: Printing Landing Schema --\")\n",
    "df_ld.printSchema()"
   ]
  },
  {
   "cell_type": "code",
   "execution_count": 8,
   "id": "0a31a844-a06d-4ae4-a998-242a39867edb",
   "metadata": {},
   "outputs": [
    {
     "name": "stdout",
     "output_type": "stream",
     "text": [
      "SPARK_APP: Landing Data Count after de-dupe - 18\n"
     ]
    }
   ],
   "source": [
    "# De-dupe the data based on NK\n",
    "df_dedupe = df_ld.withColumn(\"_rnk\", expr(f\"row_number() over (partition by customer_id order by insert_dt desc)\")) \\\n",
    "    .where(\"_rnk = 1\").drop(\"_rnk\")\n",
    "\n",
    "print(\"SPARK_APP: Landing Data Count after de-dupe - \" + str(df_dedupe.count()))"
   ]
  },
  {
   "cell_type": "code",
   "execution_count": 9,
   "id": "948b5d11-5bc8-4cad-9bc4-e0fdc5c2e74a",
   "metadata": {},
   "outputs": [
    {
     "name": "stdout",
     "output_type": "stream",
     "text": [
      "+-----------+-----------------+--------------+-----------+-----+--------+--------------+--------------------------+-------------+---------+--------------------------+--------+\n",
      "|customer_id|name             |address       |city       |state|zip_code|phone_number  |email                     |date_of_birth|plan_type|insert_dt                 |rundate |\n",
      "+-----------+-----------------+--------------+-----------+-----+--------+--------------+--------------------------+-------------+---------+--------------------------+--------+\n",
      "|C001       |Ramesh Kumar     |123 Main St   |Anytown    |WB   |12345   |91-00000-00000|ramesh@email.com          |01-01-1980   |P        |2024-05-30 02:46:24.260469|20220101|\n",
      "|C002       |Meena            |456 Elm St    |Anothertown|GJ   |67890   |91-00000-00001|meena@email.com           |02-02-1985   |G        |2024-05-30 02:46:24.260469|20220101|\n",
      "|C003       |Imitiaz Ali      |789 Oak Ave   |Bigcity    |JK   |9876    |91-00000-00002|imtiaz@email.com          |03-03-1990   |null     |2024-05-30 02:46:24.260469|20220101|\n",
      "|C004       |Samantha Williams|321 Birch Blvd|Smallville |MH   |55555   |91-00000-00003|samanthawilliams@email.com|04-04-1995   |G        |2024-05-30 02:46:24.260469|20220101|\n",
      "|C005       |Rekha Alluwalia  |654 Pine St   |Busytown   |KA   |11111   |91-00000-00004|rekha@email.com           |05-05-2000   |P        |2024-05-30 02:46:24.260469|20220101|\n",
      "+-----------+-----------------+--------------+-----------+-----+--------+--------------+--------------------------+-------------+---------+--------------------------+--------+\n",
      "only showing top 5 rows\n",
      "\n"
     ]
    }
   ],
   "source": [
    "df_dedupe.show(5,truncate = False)"
   ]
  },
  {
   "cell_type": "code",
   "execution_count": 18,
   "id": "b593c2ed-cf74-4bfb-b65d-57c30ebc0b07",
   "metadata": {},
   "outputs": [],
   "source": [
    "#creating temp df to make new columns\n",
    "df_temp = df_dedupe.withColumn(\"first_name\",split(\"name\",\" \")[0]).\\\n",
    "withColumn(\"last_name\",split(\"name\",\" \")[1]).\\\n",
    "withColumn(\"date_of_birth\", to_date(\"date_of_birth\",\"dd-mm-yyyy\")).\\\n",
    "withColumn(\"plan_type\",coalesce(\"plan_type\",\"plan_type\",lit(\"NA\"))).\\\n",
    "withColumn(\"effective_start_date\",current_timestamp()).\\\n",
    "withColumn(\"effective_end_date\",to_timestamp(lit(\"9999-12-31 00:00:00.000000\"))).\\\n",
    "withColumn(\"active_flag\",lit(1)).\\\n",
    "withColumn(\"insert_dt\",current_timestamp()).\\\n",
    "withColumn(\"update_dt\", current_timestamp())"
   ]
  },
  {
   "cell_type": "code",
   "execution_count": 19,
   "id": "dc11a1b1-12d5-4ee8-a3f4-2d8efb0bed4e",
   "metadata": {},
   "outputs": [
    {
     "name": "stdout",
     "output_type": "stream",
     "text": [
      "+-----------+-----------------+--------------+-----------+-----+--------+--------------+--------------------------+-------------+---------+--------------------------+--------+----------+---------+--------------------------+-------------------+-----------+--------------------------+\n",
      "|customer_id|name             |address       |city       |state|zip_code|phone_number  |email                     |date_of_birth|plan_type|insert_dt                 |rundate |first_name|last_name|effective_start_date      |effective_end_date |active_flag|update_dt                 |\n",
      "+-----------+-----------------+--------------+-----------+-----+--------+--------------+--------------------------+-------------+---------+--------------------------+--------+----------+---------+--------------------------+-------------------+-----------+--------------------------+\n",
      "|C001       |Ramesh Kumar     |123 Main St   |Anytown    |WB   |12345   |91-00000-00000|ramesh@email.com          |1980-01-01   |P        |2024-05-31 03:30:59.914531|20220101|Ramesh    |Kumar    |2024-05-31 03:30:59.914531|9999-12-31 00:00:00|1          |2024-05-31 03:30:59.914531|\n",
      "|C002       |Meena            |456 Elm St    |Anothertown|GJ   |67890   |91-00000-00001|meena@email.com           |1985-01-02   |G        |2024-05-31 03:30:59.914531|20220101|Meena     |         |2024-05-31 03:30:59.914531|9999-12-31 00:00:00|1          |2024-05-31 03:30:59.914531|\n",
      "|C003       |Imitiaz Ali      |789 Oak Ave   |Bigcity    |JK   |9876    |91-00000-00002|imtiaz@email.com          |1990-01-03   |NA       |2024-05-31 03:30:59.914531|20220101|Imitiaz   |Ali      |2024-05-31 03:30:59.914531|9999-12-31 00:00:00|1          |2024-05-31 03:30:59.914531|\n",
      "|C004       |Samantha Williams|321 Birch Blvd|Smallville |MH   |55555   |91-00000-00003|samanthawilliams@email.com|1995-01-04   |G        |2024-05-31 03:30:59.914531|20220101|Samantha  |Williams |2024-05-31 03:30:59.914531|9999-12-31 00:00:00|1          |2024-05-31 03:30:59.914531|\n",
      "|C005       |Rekha Alluwalia  |654 Pine St   |Busytown   |KA   |11111   |91-00000-00004|rekha@email.com           |2000-01-05   |P        |2024-05-31 03:30:59.914531|20220101|Rekha     |Alluwalia|2024-05-31 03:30:59.914531|9999-12-31 00:00:00|1          |2024-05-31 03:30:59.914531|\n",
      "+-----------+-----------------+--------------+-----------+-----+--------+--------------+--------------------------+-------------+---------+--------------------------+--------+----------+---------+--------------------------+-------------------+-----------+--------------------------+\n",
      "only showing top 5 rows\n",
      "\n"
     ]
    }
   ],
   "source": [
    "df_temp.show(5,False)"
   ]
  },
  {
   "cell_type": "code",
   "execution_count": 20,
   "id": "6d535f79-9bac-4b6e-81bc-c839c44c4045",
   "metadata": {},
   "outputs": [
    {
     "name": "stdout",
     "output_type": "stream",
     "text": [
      "SPARK_APP: Data written to staging table\n"
     ]
    }
   ],
   "source": [
    "df_temp.write.format(\"delta\").mode(\"overwrite\").saveAsTable(table_full_name)\n",
    "\n",
    "print(\"SPARK_APP: Data written to staging table\")"
   ]
  },
  {
   "cell_type": "code",
   "execution_count": 21,
   "id": "4082efb4-0ee7-438c-847f-3c1524685cbb",
   "metadata": {},
   "outputs": [
    {
     "name": "stdout",
     "output_type": "stream",
     "text": [
      "SPARK_APP: Update JOB Control Log\n"
     ]
    }
   ],
   "source": [
    "# Add job details in JOB CONTROL\n",
    "insert_log(spark, schema_name, table_name, datetime.now(), rundate)\n",
    "print(\"SPARK_APP: Update JOB Control Log\")"
   ]
  },
  {
   "cell_type": "code",
   "execution_count": 22,
   "id": "3684149c-7619-4245-90b7-2bd6160849d9",
   "metadata": {},
   "outputs": [
    {
     "name": "stdout",
     "output_type": "stream",
     "text": [
      "+-----------+----------------+--------------------------+--------+--------------------------+\n",
      "|schema_name|table_name      |max_timestamp             |rundate |insert_dt                 |\n",
      "+-----------+----------------+--------------------------+--------+--------------------------+\n",
      "|edw_stg    |dim_customer_stg|2024-05-31 03:34:56.952844|20220101|2024-05-31 03:34:57.922558|\n",
      "+-----------+----------------+--------------------------+--------+--------------------------+\n",
      "\n"
     ]
    }
   ],
   "source": [
    "spark.sql(f\"select * from edw.job_control where table_name = '{table_name}' order by insert_dt desc limit 1\").show(truncate=False)"
   ]
  },
  {
   "cell_type": "code",
   "execution_count": 23,
   "id": "fc1c41ea-2627-4b66-841f-908692407a7a",
   "metadata": {},
   "outputs": [
    {
     "name": "stdout",
     "output_type": "stream",
     "text": [
      "+-------+---------------+---------------------+--------------------+-------------+\n",
      "|version|executionTimeMs|numTargetRowsInserted|numTargetRowsUpdated|numOutputRows|\n",
      "+-------+---------------+---------------------+--------------------+-------------+\n",
      "|0      |null           |null                 |null                |18           |\n",
      "+-------+---------------+---------------------+--------------------+-------------+\n",
      "\n"
     ]
    }
   ],
   "source": [
    "# Get the logs from delta table version\n",
    "dt = DeltaTable.forName(spark, table_full_name)\n",
    "dt.history().limit(1).select(\"version\",\"operationMetrics.executionTimeMs\", \n",
    "                                 \"operationMetrics.numTargetRowsInserted\",\n",
    "                                \"operationMetrics.numTargetRowsUpdated\",\n",
    "                                \"operationMetrics.numOutputRows\").show(1, False)"
   ]
  },
  {
   "cell_type": "code",
   "execution_count": 24,
   "id": "3fbdd760-8ec8-47b4-a6ce-fede1836ad6a",
   "metadata": {},
   "outputs": [
    {
     "name": "stdout",
     "output_type": "stream",
     "text": [
      "SPARK_APP: Symlink Manifest file generated\n"
     ]
    }
   ],
   "source": [
    "# Generate Symlink manifest for Athena Access\n",
    "dt.generate(\"symlink_format_manifest\")\n",
    "print(\"SPARK_APP: Symlink Manifest file generated\")"
   ]
  },
  {
   "cell_type": "code",
   "execution_count": 26,
   "id": "b55d2b17-7ff0-4abf-bc30-2417b723bae0",
   "metadata": {},
   "outputs": [
    {
     "name": "stdout",
     "output_type": "stream",
     "text": [
      "+-----------+-----------------+--------------+-----------+-----+--------+--------------+--------------------------+-------------+---------+--------------------------+--------+----------+---------+--------------------------+-------------------+-----------+--------------------------+\n",
      "|customer_id|name             |address       |city       |state|zip_code|phone_number  |email                     |date_of_birth|plan_type|insert_dt                 |rundate |first_name|last_name|effective_start_date      |effective_end_date |active_flag|update_dt                 |\n",
      "+-----------+-----------------+--------------+-----------+-----+--------+--------------+--------------------------+-------------+---------+--------------------------+--------+----------+---------+--------------------------+-------------------+-----------+--------------------------+\n",
      "|C001       |Ramesh Kumar     |123 Main St   |Anytown    |WB   |12345   |91-00000-00000|ramesh@email.com          |1980-01-01   |P        |2024-05-31 03:34:15.959018|20220101|Ramesh    |Kumar    |2024-05-31 03:34:15.959018|9999-12-31 00:00:00|1          |2024-05-31 03:34:15.959018|\n",
      "|C002       |Meena            |456 Elm St    |Anothertown|GJ   |67890   |91-00000-00001|meena@email.com           |1985-01-02   |G        |2024-05-31 03:34:15.959018|20220101|Meena     |         |2024-05-31 03:34:15.959018|9999-12-31 00:00:00|1          |2024-05-31 03:34:15.959018|\n",
      "|C003       |Imitiaz Ali      |789 Oak Ave   |Bigcity    |JK   |9876    |91-00000-00002|imtiaz@email.com          |1990-01-03   |NA       |2024-05-31 03:34:15.959018|20220101|Imitiaz   |Ali      |2024-05-31 03:34:15.959018|9999-12-31 00:00:00|1          |2024-05-31 03:34:15.959018|\n",
      "|C004       |Samantha Williams|321 Birch Blvd|Smallville |MH   |55555   |91-00000-00003|samanthawilliams@email.com|1995-01-04   |G        |2024-05-31 03:34:15.959018|20220101|Samantha  |Williams |2024-05-31 03:34:15.959018|9999-12-31 00:00:00|1          |2024-05-31 03:34:15.959018|\n",
      "|C005       |Rekha Alluwalia  |654 Pine St   |Busytown   |KA   |11111   |91-00000-00004|rekha@email.com           |2000-01-05   |P        |2024-05-31 03:34:15.959018|20220101|Rekha     |Alluwalia|2024-05-31 03:34:15.959018|9999-12-31 00:00:00|1          |2024-05-31 03:34:15.959018|\n",
      "|C006       |Emily Brown      |987 Cedar Rd  |Quietville |RJ   |22222   |91-00000-00005|emilybrown@email.com      |2005-01-06   |D        |2024-05-31 03:34:15.959018|20220101|Emily     |Brown    |2024-05-31 03:34:15.959018|9999-12-31 00:00:00|1          |2024-05-31 03:34:15.959018|\n",
      "|C007       |Pawan Singh      |246 Maple St  |Anywhere   |TN   |33333   |91-00000-00006|pawan@email.com           |1980-01-07   |D        |2024-05-31 03:34:15.959018|20220101|Pawan     |Singh    |2024-05-31 03:34:15.959018|9999-12-31 00:00:00|1          |2024-05-31 03:34:15.959018|\n",
      "|C008       |Nicholas Miller  |321 Oak St    |Bigcity    |OR   |9876    |91-00000-00007|nicholasmiller@email.com  |1985-01-08   |NA       |2024-05-31 03:34:15.959018|20220101|Nicholas  |Miller   |2024-05-31 03:34:15.959018|9999-12-31 00:00:00|1          |2024-05-31 03:34:15.959018|\n",
      "|C009       |Jessica Moore    |654 Elm St    |Smallville |OR   |55555   |91-00000-00008|jessicamoore@email.com    |1990-01-09   |NA       |2024-05-31 03:34:15.959018|20220101|Jessica   |Moore    |2024-05-31 03:34:15.959018|9999-12-31 00:00:00|1          |2024-05-31 03:34:15.959018|\n",
      "|C010       |Matthew Taylor   |987 Pine St   |Busytown   |KA   |11111   |91-00000-00009|matthewtaylor@email.com   |1995-01-10   |NA       |2024-05-31 03:34:15.959018|20220101|Matthew   |Taylor   |2024-05-31 03:34:15.959018|9999-12-31 00:00:00|1          |2024-05-31 03:34:15.959018|\n",
      "+-----------+-----------------+--------------+-----------+-----+--------+--------------+--------------------------+-------------+---------+--------------------------+--------+----------+---------+--------------------------+-------------------+-----------+--------------------------+\n",
      "\n"
     ]
    }
   ],
   "source": [
    "spark.sql(f\"select * from edw_stg.dim_customer_stg limit 10\").show(truncate=False)"
   ]
  },
  {
   "cell_type": "code",
   "execution_count": 27,
   "id": "49e30c99-8f66-4d88-8e31-98dff2d20d01",
   "metadata": {},
   "outputs": [],
   "source": [
    "spark.stop()"
   ]
  },
  {
   "cell_type": "code",
   "execution_count": null,
   "id": "2e13b910-07fb-41a0-abcc-af9c2d09dd2f",
   "metadata": {},
   "outputs": [],
   "source": []
  }
 ],
 "metadata": {
  "kernelspec": {
   "display_name": "Python 3 (ipykernel)",
   "language": "python",
   "name": "python3"
  },
  "language_info": {
   "codemirror_mode": {
    "name": "ipython",
    "version": 3
   },
   "file_extension": ".py",
   "mimetype": "text/x-python",
   "name": "python",
   "nbconvert_exporter": "python",
   "pygments_lexer": "ipython3",
   "version": "3.10.14"
  }
 },
 "nbformat": 4,
 "nbformat_minor": 5
}
