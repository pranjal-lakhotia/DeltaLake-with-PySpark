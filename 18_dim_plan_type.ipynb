{
 "cells": [
  {
   "cell_type": "code",
   "execution_count": 1,
   "id": "6d6c6f54-52cc-4417-badd-3a24bf42773f",
   "metadata": {},
   "outputs": [],
   "source": [
    "# Script to Load Plan Dimension\n",
    "\n",
    "# Import Libraries\n",
    "import sys\n",
    "from lib.spark_session import get_spark_session\n",
    "from lib.utils import date_data, get_string_cols, get_rundate\n",
    "from lib.job_control import insert_log, get_max_timestamp\n",
    "from pyspark.sql import SparkSession, DataFrame\n",
    "from pyspark.sql.functions import current_timestamp, expr, to_date, date_format,udf,lit,col\n",
    "from pyspark.sql.types import StringType\n",
    "from datetime import datetime\n",
    "from delta import DeltaTable\n",
    "import uuid"
   ]
  },
  {
   "cell_type": "code",
   "execution_count": 2,
   "id": "f0047c34-7492-4ae8-9374-2f4b3ef0bc05",
   "metadata": {},
   "outputs": [
    {
     "name": "stdout",
     "output_type": "stream",
     "text": [
      "SPARK_APP: JOB triggered for rundate - 20220101\n"
     ]
    }
   ],
   "source": [
    "# Job Parameters\n",
    "rundate = get_rundate()\n",
    "schema_name = 'edw'\n",
    "table_name = 'dim_plan_type'\n",
    "table_full_name = f\"{schema_name}.{table_name}\"\n",
    "print(\"SPARK_APP: JOB triggered for rundate - \" + rundate)"
   ]
  },
  {
   "cell_type": "code",
   "execution_count": 3,
   "id": "6d82e82d-bbc3-4d19-a573-3d9e9aa82bde",
   "metadata": {},
   "outputs": [
    {
     "name": "stdout",
     "output_type": "stream",
     "text": [
      "SPARK APP: Dimension Table Load - edw.dim_plan_type\n"
     ]
    }
   ],
   "source": [
    "# start Spark Session\n",
    "spark:SparkSession = get_spark_session()\n",
    "print(f\"SPARK APP: Dimension Table Load - {table_full_name}\")"
   ]
  },
  {
   "cell_type": "code",
   "execution_count": 4,
   "id": "f363d04a-d1ff-4eb0-828d-2998336dac47",
   "metadata": {},
   "outputs": [],
   "source": [
    "# Create Plan Type Dimension data and Schema\n",
    "\n",
    "_schema = [\"plan_type_code\", \"plan_name\"]\n",
    "_data = [\n",
    "    [\"G\", \"GOLD\"],\n",
    "    [\"P\", \"PLATINUM\"],\n",
    "    [\"D\", \"DIAMOND\"],\n",
    "    [\"S\", \"SILVER\"],\n",
    "    [\"NA\", \"NOT APPLICABLE\"]\n",
    "]\n",
    "\n",
    "# Create dataframe\n",
    "df = spark.createDataFrame(data=_data, schema=_schema)"
   ]
  },
  {
   "cell_type": "code",
   "execution_count": 5,
   "id": "1edaafe6-3301-4f05-a137-8bfb49ed598d",
   "metadata": {},
   "outputs": [
    {
     "name": "stdout",
     "output_type": "stream",
     "text": [
      "+--------------+--------------+--------+--------------------+--------------------+\n",
      "|plan_type_code|     plan_name| rundate|           insert_dt|           update_dt|\n",
      "+--------------+--------------+--------+--------------------+--------------------+\n",
      "|             G|          GOLD|20220101|2024-06-03 02:50:...|2024-06-03 02:50:...|\n",
      "|             P|      PLATINUM|20220101|2024-06-03 02:50:...|2024-06-03 02:50:...|\n",
      "|             D|       DIAMOND|20220101|2024-06-03 02:50:...|2024-06-03 02:50:...|\n",
      "|             S|        SILVER|20220101|2024-06-03 02:50:...|2024-06-03 02:50:...|\n",
      "|            NA|NOT APPLICABLE|20220101|2024-06-03 02:50:...|2024-06-03 02:50:...|\n",
      "+--------------+--------------+--------+--------------------+--------------------+\n",
      "\n"
     ]
    }
   ],
   "source": [
    "# Add required audit columns\n",
    "df_dim = df.withColumn(\"rundate\", lit(rundate)) \\\n",
    "    .withColumn(\"insert_dt\", current_timestamp()) \\\n",
    "    .withColumn(\"update_dt\", current_timestamp())\n",
    "\n",
    "df_dim.show()"
   ]
  },
  {
   "cell_type": "code",
   "execution_count": 6,
   "id": "1f7ff785-50a6-4815-b00b-582acab9d628",
   "metadata": {},
   "outputs": [
    {
     "name": "stdout",
     "output_type": "stream",
     "text": [
      "SPARK_APP: Dim data loaded\n"
     ]
    }
   ],
   "source": [
    "# Insert all records in Delta Table in OVERWRITE mode\n",
    "df_dim.write \\\n",
    "    .format(\"delta\") \\\n",
    "    .mode(\"overwrite\") \\\n",
    "    .saveAsTable(table_full_name)\n",
    "print(\"SPARK_APP: Dim data loaded\")"
   ]
  },
  {
   "cell_type": "code",
   "execution_count": 7,
   "id": "55f79e4b-92e7-418d-9427-26a1d4f3ab93",
   "metadata": {},
   "outputs": [
    {
     "name": "stdout",
     "output_type": "stream",
     "text": [
      "SPARK_APP: Update JOB Control Log\n"
     ]
    }
   ],
   "source": [
    "# Add job details in JOB CONTROL\n",
    "insert_log(spark, schema_name, table_name, datetime.now(), rundate)\n",
    "print(\"SPARK_APP: Update JOB Control Log\")"
   ]
  },
  {
   "cell_type": "code",
   "execution_count": 8,
   "id": "f9cadaba-dd8e-4ce5-a095-5c0865254786",
   "metadata": {},
   "outputs": [
    {
     "name": "stdout",
     "output_type": "stream",
     "text": [
      "+-----------+-------------+--------------------------+--------+--------------------------+\n",
      "|schema_name|table_name   |max_timestamp             |rundate |insert_dt                 |\n",
      "+-----------+-------------+--------------------------+--------+--------------------------+\n",
      "|edw        |dim_plan_type|2024-06-03 02:50:44.532011|20220101|2024-06-03 02:50:48.781843|\n",
      "+-----------+-------------+--------------------------+--------+--------------------------+\n",
      "\n"
     ]
    }
   ],
   "source": [
    "spark.sql(f\"select * from edw.job_control where table_name = '{table_name}' order by insert_dt desc limit 1\").show(truncate=False)"
   ]
  },
  {
   "cell_type": "code",
   "execution_count": 9,
   "id": "11c88dba-479f-446f-a708-96697193f4b7",
   "metadata": {},
   "outputs": [
    {
     "name": "stdout",
     "output_type": "stream",
     "text": [
      "SPARK_APP: Symlink Manifest file generated\n"
     ]
    }
   ],
   "source": [
    "# Generate Symlink manifest for Athena Access\n",
    "dt = DeltaTable.forName(spark, table_full_name)\n",
    "dt.generate(\"symlink_format_manifest\")\n",
    "print(\"SPARK_APP: Symlink Manifest file generated\")"
   ]
  },
  {
   "cell_type": "code",
   "execution_count": 10,
   "id": "dd302301-60e1-4787-acec-b41e562d7f63",
   "metadata": {},
   "outputs": [
    {
     "name": "stdout",
     "output_type": "stream",
     "text": [
      "+--------------+--------------+--------+--------------------+--------------------+\n",
      "|plan_type_code|     plan_name| rundate|           insert_dt|           update_dt|\n",
      "+--------------+--------------+--------+--------------------+--------------------+\n",
      "|            NA|NOT APPLICABLE|20220101|2024-06-03 02:50:...|2024-06-03 02:50:...|\n",
      "|             P|      PLATINUM|20220101|2024-06-03 02:50:...|2024-06-03 02:50:...|\n",
      "|             D|       DIAMOND|20220101|2024-06-03 02:50:...|2024-06-03 02:50:...|\n",
      "|             S|        SILVER|20220101|2024-06-03 02:50:...|2024-06-03 02:50:...|\n",
      "|             G|          GOLD|20220101|2024-06-03 02:50:...|2024-06-03 02:50:...|\n",
      "+--------------+--------------+--------+--------------------+--------------------+\n",
      "\n"
     ]
    }
   ],
   "source": [
    "spark.sql(\"select * from edw.dim_plan_type\").show()"
   ]
  },
  {
   "cell_type": "code",
   "execution_count": 11,
   "id": "63d934d5-02dd-4665-b327-41f977789e6c",
   "metadata": {},
   "outputs": [],
   "source": [
    "spark.stop()"
   ]
  },
  {
   "cell_type": "code",
   "execution_count": null,
   "id": "cd6d210b-a040-4339-b3c7-7fee23bd030a",
   "metadata": {},
   "outputs": [],
   "source": []
  }
 ],
 "metadata": {
  "kernelspec": {
   "display_name": "Python 3 (ipykernel)",
   "language": "python",
   "name": "python3"
  },
  "language_info": {
   "codemirror_mode": {
    "name": "ipython",
    "version": 3
   },
   "file_extension": ".py",
   "mimetype": "text/x-python",
   "name": "python",
   "nbconvert_exporter": "python",
   "pygments_lexer": "ipython3",
   "version": "3.10.14"
  }
 },
 "nbformat": 4,
 "nbformat_minor": 5
}
