{
 "cells": [
  {
   "cell_type": "code",
   "execution_count": 2,
   "id": "bc6bf27c-008e-4f28-a351-eac301fac9d5",
   "metadata": {},
   "outputs": [],
   "source": [
    "# Script to load Orders Data in Sales table using SCD type 2 table\n",
    "\n",
    "# Import required libraries\n",
    "import sys\n",
    "from lib.spark_session import get_spark_session\n",
    "from lib.utils import date_data, get_string_cols, get_rundate\n",
    "from lib.job_control import insert_log, get_max_timestamp\n",
    "from pyspark.sql import SparkSession, DataFrame\n",
    "from pyspark.sql.functions import current_timestamp, expr, to_date, date_format,udf,lit,col\n",
    "from pyspark.sql.types import StringType\n",
    "from datetime import datetime\n",
    "from delta import DeltaTable\n",
    "import uuid"
   ]
  },
  {
   "cell_type": "code",
   "execution_count": 17,
   "id": "c1d1023d-80a9-45d1-b109-9faee393c939",
   "metadata": {},
   "outputs": [],
   "source": [
    "# Job Parameters\n",
    "rundate = get_rundate()\n",
    "schema_name = 'edw'\n",
    "table_name = 'fact_sales'\n",
    "table_full_name = f'{schema_name}.{table_name}'\n",
    "staging_table_full_name = 'edw_stg.fact_sales_stg'"
   ]
  },
  {
   "cell_type": "code",
   "execution_count": 15,
   "id": "589f9c4d-be26-4100-888d-5c0fc2a33882",
   "metadata": {},
   "outputs": [
    {
     "name": "stdout",
     "output_type": "stream",
     "text": [
      "SPARK_APP: Spark UI - http://03205cdd01e3:4040\n"
     ]
    }
   ],
   "source": [
    "# generate spark sesion\n",
    "spark:SparkSession = get_spark_session(f'Fact Table Load - {table_full_name}')\n",
    "print(\"SPARK_APP: Spark UI - \" + spark.sparkContext.uiWebUrl)\n"
   ]
  },
  {
   "cell_type": "code",
   "execution_count": 16,
   "id": "1baa3d0b-92a3-477a-bf77-ef420108d9a4",
   "metadata": {},
   "outputs": [],
   "source": [
    "# config Spark Parameters\n",
    "spark.conf.set(\"spark.sql.shuffle.partitions\",8)\n",
    "#spark.conf.set(\"spark.sql.parquet.mergeSchema\",False)"
   ]
  },
  {
   "cell_type": "code",
   "execution_count": 18,
   "id": "3ba936c0-3182-4249-9516-1bf255d5db3c",
   "metadata": {},
   "outputs": [
    {
     "name": "stdout",
     "output_type": "stream",
     "text": [
      "SPARK_APP: Staging Data Count - 163\n",
      "SPARK_APP: Printing Staging Schema --\n",
      "root\n",
      " |-- cust_id: string (nullable = true)\n",
      " |-- store_id: string (nullable = true)\n",
      " |-- order_date: string (nullable = true)\n",
      " |-- qty: integer (nullable = true)\n",
      " |-- tax: double (nullable = true)\n",
      " |-- discount: double (nullable = true)\n",
      " |-- line_total: double (nullable = true)\n",
      " |-- order_id: string (nullable = true)\n",
      " |-- invoice_num: string (nullable = true)\n",
      " |-- prod_id: string (nullable = true)\n",
      " |-- product_wid: string (nullable = true)\n",
      " |-- integration_key: string (nullable = true)\n",
      " |-- rundate: string (nullable = true)\n",
      " |-- insert_dt: timestamp (nullable = true)\n",
      " |-- update_dt: timestamp (nullable = true)\n",
      "\n"
     ]
    }
   ],
   "source": [
    "# Read Staging Data\n",
    "df_stg = spark.read.table(staging_table_full_name)\n",
    "\n",
    "print(\"SPARK_APP: Staging Data Count - \" + str(df_stg.count()))\n",
    "print(\"SPARK_APP: Printing Staging Schema --\")\n",
    "df_stg.printSchema()"
   ]
  },
  {
   "cell_type": "code",
   "execution_count": 19,
   "id": "45566e3a-90f1-410d-a72c-d5d80da26987",
   "metadata": {},
   "outputs": [
    {
     "name": "stdout",
     "output_type": "stream",
     "text": [
      "+-------+--------+----------+---+----+--------+----------+----------------+----------------+-------+----------------------------------------------------------+------------------------------------------+--------+--------------------------+--------------------------+\n",
      "|cust_id|store_id|order_date|qty|tax |discount|line_total|order_id        |invoice_num     |prod_id|product_wid                                               |integration_key                           |rundate |insert_dt                 |update_dt                 |\n",
      "+-------+--------+----------+---+----+--------+----------+----------------+----------------+-------+----------------------------------------------------------+------------------------------------------+--------+--------------------------+--------------------------+\n",
      "|C018   |S003    |2022-07-19|9  |11.0|5.4     |545.6     |ORD2022071900000|INV2022071900000|P009   |net.razorvine.pickle.objects.ClassDictConstructor@55c03255|ORD2022071900000~P009~S003~C018~2022-07-19|20220101|2024-06-02 08:53:57.815855|2024-06-02 08:53:57.815855|\n",
      "|C018   |S003    |2022-07-19|5  |13.0|8.0     |105.0     |ORD2022071900000|INV2022071900000|P013   |net.razorvine.pickle.objects.ClassDictConstructor@55c03255|ORD2022071900000~P013~S003~C018~2022-07-19|20220101|2024-06-02 08:53:57.815855|2024-06-02 08:53:57.815855|\n",
      "+-------+--------+----------+---+----+--------+----------+----------------+----------------+-------+----------------------------------------------------------+------------------------------------------+--------+--------------------------+--------------------------+\n",
      "only showing top 2 rows\n",
      "\n"
     ]
    }
   ],
   "source": [
    "# print staging data sample\n",
    "df_stg.show(2,truncate = False)"
   ]
  },
  {
   "cell_type": "code",
   "execution_count": 21,
   "id": "03116c5b-a031-4e45-b7cd-4c041633806c",
   "metadata": {},
   "outputs": [],
   "source": [
    "# Read dim tables to join to with Fact\n",
    "df_dim_store = spark.read.table(\"edw.dim_store\").selectExpr(\"store_id\", \"row_wid as store_wid\")\n",
    "# df_dim_date = spark.read.table(\"edw.dim_date\")\n",
    "df_dim_customer = spark.read.table(\"edw.dim_customer\").where(\"active_flag = 1\").selectExpr(\"customer_id\", \"row_wid as customer_wid\")"
   ]
  },
  {
   "cell_type": "code",
   "execution_count": 25,
   "id": "93157231-04a3-446b-bd31-b1567fff3bb6",
   "metadata": {},
   "outputs": [
    {
     "name": "stdout",
     "output_type": "stream",
     "text": [
      "SPARK_APP: Fact Data Count - 163\n",
      "SPARK_APP: Printing Fact Schema --\n",
      "root\n",
      " |-- date_wid: string (nullable = true)\n",
      " |-- product_wid: string (nullable = true)\n",
      " |-- store_wid: string (nullable = true)\n",
      " |-- customer_wid: string (nullable = true)\n",
      " |-- order_id: string (nullable = true)\n",
      " |-- invoice_num: string (nullable = true)\n",
      " |-- qty: integer (nullable = true)\n",
      " |-- tax: double (nullable = true)\n",
      " |-- discount: double (nullable = true)\n",
      " |-- line_total: double (nullable = true)\n",
      " |-- integration_key: string (nullable = true)\n",
      " |-- rundate: string (nullable = false)\n",
      " |-- insert_dt: timestamp (nullable = false)\n",
      " |-- update_dt: timestamp (nullable = false)\n",
      "\n"
     ]
    }
   ],
   "source": [
    "# Add additional columns\n",
    "df_fact = df_stg\\\n",
    "                .join(df_dim_store,how='left_outer',on=df_stg.store_id == df_dim_store.store_id)\\\n",
    "                .join(df_dim_customer,how='left_outer',on=df_stg.cust_id == df_dim_customer.customer_id)\\\n",
    "                .withColumn(\"date_wid\",date_format(\"order_date\",\"yyyyMMdd\"))\\\n",
    "                .withColumn(\"rundate\",lit(rundate))\\\n",
    "                .withColumn(\"update_dt\", current_timestamp())\\\n",
    "                .withColumn(\"insert_dt\", current_timestamp())\\\n",
    ".select(\"date_wid\", \"product_wid\", \"store_wid\", \"customer_wid\", \"order_id\", \"invoice_num\", \n",
    "           \"qty\", \"tax\", \"discount\", \"line_total\", \"integration_key\", \"rundate\", \"insert_dt\", \"update_dt\")\n",
    "\n",
    "print(\"SPARK_APP: Fact Data Count - \" + str(df_fact.count()))\n",
    "print(\"SPARK_APP: Printing Fact Schema --\")\n",
    "df_fact.printSchema()"
   ]
  },
  {
   "cell_type": "code",
   "execution_count": 26,
   "id": "81607293-e4d2-4cb7-96ec-6a005dfe481d",
   "metadata": {},
   "outputs": [
    {
     "name": "stdout",
     "output_type": "stream",
     "text": [
      "+--------+----------------------------------------------------------+----------------------------------+------------------------------------+----------------+----------------+---+----+--------+----------+------------------------------------------+--------+--------------------------+--------------------------+\n",
      "|date_wid|product_wid                                               |store_wid                         |customer_wid                        |order_id        |invoice_num     |qty|tax |discount|line_total|integration_key                           |rundate |insert_dt                 |update_dt                 |\n",
      "+--------+----------------------------------------------------------+----------------------------------+------------------------------------+----------------+----------------+---+----+--------+----------+------------------------------------------+--------+--------------------------+--------------------------+\n",
      "|20220719|net.razorvine.pickle.objects.ClassDictConstructor@55c03255|<function uuid4 at 0x7f45d862a050>|a4fb4072-2740-4731-bee6-c22ad55c1531|ORD2022071900000|INV2022071900000|9  |11.0|5.4     |545.6     |ORD2022071900000~P009~S003~C018~2022-07-19|20220101|2024-06-02 14:24:26.120277|2024-06-02 14:24:26.120277|\n",
      "|20220719|net.razorvine.pickle.objects.ClassDictConstructor@55c03255|<function uuid4 at 0x7f45d862a050>|a4fb4072-2740-4731-bee6-c22ad55c1531|ORD2022071900000|INV2022071900000|5  |13.0|8.0     |105.0     |ORD2022071900000~P013~S003~C018~2022-07-19|20220101|2024-06-02 14:24:26.120277|2024-06-02 14:24:26.120277|\n",
      "|20220719|net.razorvine.pickle.objects.ClassDictConstructor@55c03255|<function uuid4 at 0x7f45d862a050>|a4fb4072-2740-4731-bee6-c22ad55c1531|ORD2022071900000|INV2022071900000|5  |15.0|8.0     |207.0     |ORD2022071900000~P012~S003~C018~2022-07-19|20220101|2024-06-02 14:24:26.120277|2024-06-02 14:24:26.120277|\n",
      "|20220719|net.razorvine.pickle.objects.ClassDictConstructor@55c03255|<function uuid4 at 0x7f45d862a050>|a4fb4072-2740-4731-bee6-c22ad55c1531|ORD2022071900000|INV2022071900000|1  |9.0 |1.0     |48.0      |ORD2022071900000~P006~S003~C018~2022-07-19|20220101|2024-06-02 14:24:26.120277|2024-06-02 14:24:26.120277|\n",
      "|20220719|net.razorvine.pickle.objects.ClassDictConstructor@55c03255|<function uuid4 at 0x7f45d862a050>|a4fb4072-2740-4731-bee6-c22ad55c1531|ORD2022071900000|INV2022071900000|4  |19.2|9.6     |129.6     |ORD2022071900000~P008~S003~C018~2022-07-19|20220101|2024-06-02 14:24:26.120277|2024-06-02 14:24:26.120277|\n",
      "+--------+----------------------------------------------------------+----------------------------------+------------------------------------+----------------+----------------+---+----+--------+----------+------------------------------------------+--------+--------------------------+--------------------------+\n",
      "only showing top 5 rows\n",
      "\n"
     ]
    }
   ],
   "source": [
    "# Validate DataFrame Data\n",
    "df_fact.show(5, truncate = False)"
   ]
  },
  {
   "cell_type": "code",
   "execution_count": 28,
   "id": "2ac75da8-3070-4d92-8462-7b5fc4d360f0",
   "metadata": {},
   "outputs": [
    {
     "name": "stdout",
     "output_type": "stream",
     "text": [
      "SPARK APP: Fact Table Loaded\n"
     ]
    }
   ],
   "source": [
    "# load data into final table\n",
    "df_fact.write.format('delta').mode(\"append\").saveAsTable(table_full_name)\n",
    "print(\"SPARK APP: Fact Table Loaded\")"
   ]
  },
  {
   "cell_type": "code",
   "execution_count": 29,
   "id": "a89c328b-170c-4c62-ad96-dc5d9455e18b",
   "metadata": {},
   "outputs": [
    {
     "name": "stdout",
     "output_type": "stream",
     "text": [
      "SPARK APP: Update Job Control\n"
     ]
    }
   ],
   "source": [
    "# Update Job Control\n",
    "insert_log(spark,schema_name,table_name,datetime.now(),rundate)\n",
    "print(\"SPARK APP: Update Job Control\")"
   ]
  },
  {
   "cell_type": "code",
   "execution_count": 31,
   "id": "c42a9db1-e680-4628-9aeb-1a01980152d1",
   "metadata": {},
   "outputs": [
    {
     "name": "stdout",
     "output_type": "stream",
     "text": [
      "+-------+---------------+---------------------+--------------------+-------------+\n",
      "|version|executionTimeMs|numTargetRowsInserted|numTargetRowsUpdated|numOutputRows|\n",
      "+-------+---------------+---------------------+--------------------+-------------+\n",
      "|1      |null           |null                 |null                |163          |\n",
      "+-------+---------------+---------------------+--------------------+-------------+\n",
      "\n"
     ]
    }
   ],
   "source": [
    "# Delta table Metrics\n",
    "dt_fact = DeltaTable.forName(spark,table_full_name)\n",
    "dt_fact.history().limit(1).select(\"version\",\"operationMetrics.executionTimeMs\", \n",
    "                                 \"operationMetrics.numTargetRowsInserted\",\n",
    "                                \"operationMetrics.numTargetRowsUpdated\",\n",
    "                                \"operationMetrics.numOutputRows\").show(1, False)"
   ]
  },
  {
   "cell_type": "code",
   "execution_count": 33,
   "id": "94827a10-8a06-4f89-a1f1-d82f2105d85c",
   "metadata": {},
   "outputs": [
    {
     "name": "stdout",
     "output_type": "stream",
     "text": [
      "+--------+----------------------------------------------------------+----------------------------------+------------------------------------+----------------+----------------+---+------------------+--------+----------+------------------------------------------+--------+------------------------+------------------------+\n",
      "|date_wid|product_wid                                               |store_wid                         |customer_wid                        |order_id        |invoice_num     |qty|tax               |discount|line_total|integration_key                           |rundate |insert_dt               |update_dt               |\n",
      "+--------+----------------------------------------------------------+----------------------------------+------------------------------------+----------------+----------------+---+------------------+--------+----------+------------------------------------------+--------+------------------------+------------------------+\n",
      "|20220719|net.razorvine.pickle.objects.ClassDictConstructor@55c03255|<function uuid4 at 0x7f45d862a050>|a4fb4072-2740-4731-bee6-c22ad55c1531|ORD2022071900000|INV2022071900000|9  |11.0              |5.4     |545.6     |ORD2022071900000~P009~S003~C018~2022-07-19|20220101|2024-06-02 14:28:22.5899|2024-06-02 14:28:22.5899|\n",
      "|20220719|net.razorvine.pickle.objects.ClassDictConstructor@55c03255|<function uuid4 at 0x7f45d862a050>|a4fb4072-2740-4731-bee6-c22ad55c1531|ORD2022071900000|INV2022071900000|5  |13.0              |8.0     |105.0     |ORD2022071900000~P013~S003~C018~2022-07-19|20220101|2024-06-02 14:28:22.5899|2024-06-02 14:28:22.5899|\n",
      "|20220719|net.razorvine.pickle.objects.ClassDictConstructor@55c03255|<function uuid4 at 0x7f45d862a050>|a4fb4072-2740-4731-bee6-c22ad55c1531|ORD2022071900000|INV2022071900000|5  |15.0              |8.0     |207.0     |ORD2022071900000~P012~S003~C018~2022-07-19|20220101|2024-06-02 14:28:22.5899|2024-06-02 14:28:22.5899|\n",
      "|20220719|net.razorvine.pickle.objects.ClassDictConstructor@55c03255|<function uuid4 at 0x7f45d862a050>|a4fb4072-2740-4731-bee6-c22ad55c1531|ORD2022071900000|INV2022071900000|1  |9.0               |1.0     |48.0      |ORD2022071900000~P006~S003~C018~2022-07-19|20220101|2024-06-02 14:28:22.5899|2024-06-02 14:28:22.5899|\n",
      "|20220719|net.razorvine.pickle.objects.ClassDictConstructor@55c03255|<function uuid4 at 0x7f45d862a050>|a4fb4072-2740-4731-bee6-c22ad55c1531|ORD2022071900000|INV2022071900000|4  |19.2              |9.6     |129.6     |ORD2022071900000~P008~S003~C018~2022-07-19|20220101|2024-06-02 14:28:22.5899|2024-06-02 14:28:22.5899|\n",
      "|20221219|net.razorvine.pickle.objects.ClassDictConstructor@55c03255|<function uuid4 at 0x7f45d862a050>|c2e7466c-9c16-485d-b146-f8b00c34cd57|ORD2022121910000|INV2022121910000|6  |15.0              |14.4    |180.6     |ORD2022121910000~P004~S007~C016~2022-12-19|20220101|2024-06-02 14:28:22.5899|2024-06-02 14:28:22.5899|\n",
      "|20221219|net.razorvine.pickle.objects.ClassDictConstructor@55c03255|<function uuid4 at 0x7f45d862a050>|c2e7466c-9c16-485d-b146-f8b00c34cd57|ORD2022121910000|INV2022121910000|2  |0.0               |0.6     |59.4      |ORD2022121910000~P004~S007~C016~2022-12-19|20220101|2024-06-02 14:28:22.5899|2024-06-02 14:28:22.5899|\n",
      "|20221219|net.razorvine.pickle.objects.ClassDictConstructor@55c03255|<function uuid4 at 0x7f45d862a050>|c2e7466c-9c16-485d-b146-f8b00c34cd57|ORD2022121910000|INV2022121910000|8  |14.0              |6.0     |248.0     |ORD2022121910000~P004~S007~C016~2022-12-19|20220101|2024-06-02 14:28:22.5899|2024-06-02 14:28:22.5899|\n",
      "|20221219|net.razorvine.pickle.objects.ClassDictConstructor@55c03255|<function uuid4 at 0x7f45d862a050>|c2e7466c-9c16-485d-b146-f8b00c34cd57|ORD2022121910000|INV2022121910000|8  |54.400000000000006|4.0     |370.4     |ORD2022121910000~P012~S007~C016~2022-12-19|20220101|2024-06-02 14:28:22.5899|2024-06-02 14:28:22.5899|\n",
      "|20221219|net.razorvine.pickle.objects.ClassDictConstructor@55c03255|<function uuid4 at 0x7f45d862a050>|c2e7466c-9c16-485d-b146-f8b00c34cd57|ORD2022121910000|INV2022121910000|7  |11.0              |10.5    |210.5     |ORD2022121910000~P004~S007~C016~2022-12-19|20220101|2024-06-02 14:28:22.5899|2024-06-02 14:28:22.5899|\n",
      "+--------+----------------------------------------------------------+----------------------------------+------------------------------------+----------------+----------------+---+------------------+--------+----------+------------------------------------------+--------+------------------------+------------------------+\n",
      "\n"
     ]
    }
   ],
   "source": [
    "# Validate Data\n",
    "spark.sql(\"select * from edw.fact_sales limit 10\").show(truncate = False)\n"
   ]
  },
  {
   "cell_type": "code",
   "execution_count": 34,
   "id": "fe18f212-7e11-4e11-9762-4d7ee3f97dc8",
   "metadata": {},
   "outputs": [
    {
     "name": "stdout",
     "output_type": "stream",
     "text": [
      "manifest file genrated for athena access\n"
     ]
    }
   ],
   "source": [
    "# Generate Symlink Manifest\n",
    "dt_fact.generate(\"symlink_format_manifest\")\n",
    "print(\"manifest file genrated for athena access\")"
   ]
  },
  {
   "cell_type": "code",
   "execution_count": 35,
   "id": "5e08afd5-4fa9-4a66-afe5-e166594fbc52",
   "metadata": {},
   "outputs": [],
   "source": [
    "spark.stop()"
   ]
  },
  {
   "cell_type": "code",
   "execution_count": null,
   "id": "01dab8dc-8182-466d-8a63-9444fd821805",
   "metadata": {},
   "outputs": [],
   "source": []
  }
 ],
 "metadata": {
  "kernelspec": {
   "display_name": "Python 3 (ipykernel)",
   "language": "python",
   "name": "python3"
  },
  "language_info": {
   "codemirror_mode": {
    "name": "ipython",
    "version": 3
   },
   "file_extension": ".py",
   "mimetype": "text/x-python",
   "name": "python",
   "nbconvert_exporter": "python",
   "pygments_lexer": "ipython3",
   "version": "3.10.14"
  }
 },
 "nbformat": 4,
 "nbformat_minor": 5
}
