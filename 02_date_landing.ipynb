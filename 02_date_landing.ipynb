{
 "cells": [
  {
   "cell_type": "code",
   "execution_count": 1,
   "id": "28cd5e2a-5278-45a9-b8f3-1c66cb5aa39a",
   "metadata": {},
   "outputs": [],
   "source": [
    "import sys\n",
    "from lib.spark_session import get_spark_session\n",
    "from lib.utils import date_data, get_string_cols, get_rundate\n",
    "from lib.job_control import insert_log, get_max_timestamp\n",
    "from pyspark.sql import SparkSession, DataFrame\n",
    "from pyspark.sql.functions import current_timestamp, lit\n",
    "from datetime import datetime\n",
    "from delta import DeltaTable"
   ]
  },
  {
   "cell_type": "code",
   "execution_count": 2,
   "id": "0e8cb330-4ee7-4f31-a411-2fc5aa4529be",
   "metadata": {},
   "outputs": [
    {
     "name": "stdout",
     "output_type": "stream",
     "text": [
      "SPARK_APP: JOB triggered for rundate - 20220101\n"
     ]
    }
   ],
   "source": [
    "# JOB Parameters\n",
    "rundate = get_rundate()\n",
    "schema_name = \"edw_ld\"\n",
    "table_name = \"dim_date_ld\"\n",
    "table_full_name = f\"{schema_name}.{table_name}\" \n",
    "print(\"SPARK_APP: JOB triggered for rundate - \" + rundate)"
   ]
  },
  {
   "cell_type": "code",
   "execution_count": 6,
   "id": "dce9f4c9-f92b-4c1d-ba75-af8382b3727a",
   "metadata": {},
   "outputs": [
    {
     "name": "stdout",
     "output_type": "stream",
     "text": [
      "SPARK_APP: Spark UI - http://03205cdd01e3:4040\n"
     ]
    }
   ],
   "source": [
    "spark: SparkSession = get_spark_session(f\"Landing load - {table_full_name}\")\n",
    "print(\"SPARK_APP: Spark UI - \" + spark.sparkContext.uiWebUrl)"
   ]
  },
  {
   "cell_type": "code",
   "execution_count": 7,
   "id": "89fa7e5b-ee9b-479d-a0a9-8696510bc747",
   "metadata": {},
   "outputs": [],
   "source": [
    "# Spark Configs\n",
    "\n",
    "spark.conf.set(\"spark.sql.shuffle.partitions\", 8)"
   ]
  },
  {
   "cell_type": "code",
   "execution_count": 8,
   "id": "58f0f4f8-474f-4bae-82b6-7e0000b41766",
   "metadata": {},
   "outputs": [],
   "source": [
    "_cols = [\"date\", \"day\", \"month\", \"year\", \"day_of_week\"]\n",
    "_data = date_data(rundate, 2)"
   ]
  },
  {
   "cell_type": "code",
   "execution_count": 9,
   "id": "20fd8aa7-687e-4900-bb0f-940f50aaa708",
   "metadata": {},
   "outputs": [
    {
     "name": "stdout",
     "output_type": "stream",
     "text": [
      "SPARK_APP: Printing Raw Schema --\n",
      "root\n",
      " |-- date: string (nullable = true)\n",
      " |-- day: string (nullable = true)\n",
      " |-- month: string (nullable = true)\n",
      " |-- year: string (nullable = true)\n",
      " |-- day_of_week: string (nullable = true)\n",
      "\n",
      "SPARK_APP: Landing data count - 729\n"
     ]
    }
   ],
   "source": [
    "# Create Raw dataframe and get col info\n",
    "df_raw = spark.createDataFrame(data=_data, schema=_cols)\n",
    "print(\"SPARK_APP: Printing Raw Schema --\")\n",
    "df_raw.printSchema()\n",
    "\n",
    "# Get Landing count\n",
    "print(\"SPARK_APP: Landing data count - \" + str(df_raw.count()))"
   ]
  },
  {
   "cell_type": "code",
   "execution_count": 10,
   "id": "d3f45542-bca9-439b-89b8-ae1adc08fad9",
   "metadata": {},
   "outputs": [
    {
     "name": "stdout",
     "output_type": "stream",
     "text": [
      "SPARK_APP: Casted all columns to String\n",
      "SPARK_APP: Added AUDIT column\n",
      "SPARK_APP: Final layer data count - 729\n",
      "SPARK_APP: Printing Landing Schema --\n",
      "root\n",
      " |-- date: string (nullable = true)\n",
      " |-- day: string (nullable = true)\n",
      " |-- month: string (nullable = true)\n",
      " |-- year: string (nullable = true)\n",
      " |-- day_of_week: string (nullable = true)\n",
      " |-- insert_dt: timestamp (nullable = false)\n",
      " |-- rundate: string (nullable = false)\n",
      "\n"
     ]
    }
   ],
   "source": [
    "# Cast all columns to String\n",
    "df_casted = df_raw.selectExpr(get_string_cols(spark, df_raw))\n",
    "print(\"SPARK_APP: Casted all columns to String\")\n",
    "\n",
    "# Add audit columns\n",
    "df_ld = df_casted.withColumn(\"insert_dt\", current_timestamp()) \\\n",
    "    .withColumn(\"rundate\", lit(rundate))\n",
    "print(\"SPARK_APP: Added AUDIT column\")\n",
    "\n",
    "# Get Final Layer count\n",
    "print(\"SPARK_APP: Final layer data count - \" + str(df_ld.count()))\n",
    "print(\"SPARK_APP: Printing Landing Schema --\")\n",
    "df_ld.printSchema()"
   ]
  },
  {
   "cell_type": "code",
   "execution_count": 11,
   "id": "bad5d814-eb41-46c1-995c-bf0773fd0ee5",
   "metadata": {
    "scrolled": true
   },
   "outputs": [
    {
     "name": "stdout",
     "output_type": "stream",
     "text": [
      "SPARK_APP: Data written to landing layer\n"
     ]
    }
   ],
   "source": [
    "# Write the data to landing layer checking if table exists\n",
    "if get_max_timestamp(spark, schema_name, table_name) != \"1900-01-01 00:00:00.000000\":\n",
    "    df_ld.write \\\n",
    "        .format(\"delta\") \\\n",
    "        .mode(\"append\") \\\n",
    "        .saveAsTable(table_full_name)\n",
    "else:\n",
    "    df_ld.write \\\n",
    "        .format(\"delta\") \\\n",
    "        .mode(\"overwrite\") \\\n",
    "        .saveAsTable(table_full_name)\n",
    "\n",
    "print(\"SPARK_APP: Data written to landing layer\")"
   ]
  },
  {
   "cell_type": "code",
   "execution_count": 12,
   "id": "425091ac-0e54-44ab-90d6-f6b6bbc36c09",
   "metadata": {},
   "outputs": [
    {
     "name": "stdout",
     "output_type": "stream",
     "text": [
      "SPARK_APP: Update JOB Control Log\n"
     ]
    }
   ],
   "source": [
    "insert_log(spark, schema_name, table_name, datetime.now(), rundate)\n",
    "print(\"SPARK_APP: Update JOB Control Log\")"
   ]
  },
  {
   "cell_type": "code",
   "execution_count": 13,
   "id": "3f85ef9c-653c-4417-b70d-39c580743937",
   "metadata": {},
   "outputs": [
    {
     "name": "stdout",
     "output_type": "stream",
     "text": [
      "+-----------+-----------+-------------------------+--------+--------------------------+\n",
      "|schema_name|table_name |max_timestamp            |rundate |insert_dt                 |\n",
      "+-----------+-----------+-------------------------+--------+--------------------------+\n",
      "|edw_ld     |dim_date_ld|2024-05-25 15:05:42.99435|20220101|2024-05-25 15:05:43.950457|\n",
      "+-----------+-----------+-------------------------+--------+--------------------------+\n",
      "\n"
     ]
    }
   ],
   "source": [
    "spark.sql(f\"select * from edw.job_control where table_name = '{table_name}' order by insert_dt desc limit 1\").show(truncate=False)"
   ]
  },
  {
   "cell_type": "code",
   "execution_count": 14,
   "id": "a4b223b9-de4c-4f69-a0d3-74762b7920ae",
   "metadata": {},
   "outputs": [
    {
     "name": "stdout",
     "output_type": "stream",
     "text": [
      "+-------+---------------+---------------------+--------------------+-------------+\n",
      "|version|executionTimeMs|numTargetRowsInserted|numTargetRowsUpdated|numOutputRows|\n",
      "+-------+---------------+---------------------+--------------------+-------------+\n",
      "|0      |null           |null                 |null                |729          |\n",
      "+-------+---------------+---------------------+--------------------+-------------+\n",
      "\n"
     ]
    }
   ],
   "source": [
    "# Get the logs from delta table version\n",
    "dt = DeltaTable.forName(spark, table_full_name)\n",
    "dt.history().limit(1).select(\"version\",\"operationMetrics.executionTimeMs\", \n",
    "                                 \"operationMetrics.numTargetRowsInserted\",\n",
    "                                \"operationMetrics.numTargetRowsUpdated\",\n",
    "                                \"operationMetrics.numOutputRows\").show(1, False)"
   ]
  },
  {
   "cell_type": "code",
   "execution_count": 15,
   "id": "ab8a212a-4699-4e13-a880-55dc091c6adf",
   "metadata": {},
   "outputs": [
    {
     "name": "stdout",
     "output_type": "stream",
     "text": [
      "SPARK_APP: Symlink Manifest file generated\n"
     ]
    }
   ],
   "source": [
    "dt.generate(\"symlink_format_manifest\")\n",
    "print(\"SPARK_APP: Symlink Manifest file generated\")"
   ]
  },
  {
   "cell_type": "code",
   "execution_count": 16,
   "id": "8ae7e75b-529e-4dfa-82b1-360373950ceb",
   "metadata": {},
   "outputs": [],
   "source": [
    "spark.stop()"
   ]
  },
  {
   "cell_type": "code",
   "execution_count": null,
   "id": "069696d5-d59f-4615-9fbc-693024d2bab8",
   "metadata": {},
   "outputs": [],
   "source": []
  },
  {
   "cell_type": "code",
   "execution_count": null,
   "id": "d78b8823-a47d-4b0f-9d9a-7aebc9b3e660",
   "metadata": {},
   "outputs": [],
   "source": []
  }
 ],
 "metadata": {
  "kernelspec": {
   "display_name": "Python 3 (ipykernel)",
   "language": "python",
   "name": "python3"
  },
  "language_info": {
   "codemirror_mode": {
    "name": "ipython",
    "version": 3
   },
   "file_extension": ".py",
   "mimetype": "text/x-python",
   "name": "python",
   "nbconvert_exporter": "python",
   "pygments_lexer": "ipython3",
   "version": "3.10.14"
  }
 },
 "nbformat": 4,
 "nbformat_minor": 5
}
