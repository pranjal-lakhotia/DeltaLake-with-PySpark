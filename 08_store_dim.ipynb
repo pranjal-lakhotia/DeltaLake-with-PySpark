{
 "cells": [
  {
   "cell_type": "code",
   "execution_count": 10,
   "id": "35cbb460-d4bb-46f0-8e7d-7938ae8d0750",
   "metadata": {},
   "outputs": [],
   "source": [
    "# Script to Load Store Dimesion\n",
    "# Import required libraries\n",
    "import sys\n",
    "from lib.spark_session import get_spark_session\n",
    "from lib.utils import date_data, get_string_cols, get_rundate\n",
    "from lib.job_control import insert_log, get_max_timestamp\n",
    "from pyspark.sql import SparkSession, DataFrame\n",
    "from pyspark.sql.functions import current_timestamp, expr, to_date, date_format,udf\n",
    "from pyspark.sql.types import StringType\n",
    "from datetime import datetime\n",
    "from delta import DeltaTable\n",
    "import uuid"
   ]
  },
  {
   "cell_type": "code",
   "execution_count": 2,
   "id": "a475e90e-4726-43ed-90d5-c1712e969bcb",
   "metadata": {},
   "outputs": [
    {
     "name": "stdout",
     "output_type": "stream",
     "text": [
      "SPARK_APP: JOB triggered for rundate - 20220101\n"
     ]
    }
   ],
   "source": [
    "#Job Parameters\n",
    "rundate = get_rundate()\n",
    "schema_name = \"edw\"\n",
    "table_name = \"dim_store\"\n",
    "table_full_name = f\"{schema_name}.{table_name}\"\n",
    "staging_table_full_name = \"edw_stg.dim_store_stg\"\n",
    "print(\"SPARK_APP: JOB triggered for rundate - \" + rundate)"
   ]
  },
  {
   "cell_type": "code",
   "execution_count": 3,
   "id": "3eba269d-072b-42fc-b484-94b22b25fae6",
   "metadata": {},
   "outputs": [
    {
     "name": "stdout",
     "output_type": "stream",
     "text": [
      "SPARK_APP: Spark UI - http://03205cdd01e3:4040\n"
     ]
    }
   ],
   "source": [
    "# Generate Spark Session\n",
    "spark: SparkSession = get_spark_session(f\"Dimension load - {table_full_name}\")\n",
    "print(\"SPARK_APP: Spark UI - \" + spark.sparkContext.uiWebUrl)"
   ]
  },
  {
   "cell_type": "code",
   "execution_count": 4,
   "id": "18136fbe-9c27-4495-a697-7c03ad5ad59c",
   "metadata": {},
   "outputs": [],
   "source": [
    "#spark Configs\n",
    "spark.conf.set(\"spark.sql.shuffle.partitions\", 8)\n",
    "spark.conf.set(\"spark.sql.parquet.mergeSchema\", True)"
   ]
  },
  {
   "cell_type": "code",
   "execution_count": 5,
   "id": "701e2a91-48bc-4054-b009-94492859452c",
   "metadata": {},
   "outputs": [
    {
     "name": "stdout",
     "output_type": "stream",
     "text": [
      "SPARK_APP: Staging Data Count - 7\n",
      "SPARK_APP: Printing Staging Schema --\n",
      "root\n",
      " |-- store_id: string (nullable = true)\n",
      " |-- store_name: string (nullable = true)\n",
      " |-- address: string (nullable = true)\n",
      " |-- city: string (nullable = true)\n",
      " |-- state: string (nullable = true)\n",
      " |-- zip_code: string (nullable = true)\n",
      " |-- phone_number: string (nullable = true)\n",
      " |-- insert_dt: timestamp (nullable = true)\n",
      " |-- rundate: string (nullable = true)\n",
      " |-- update_dt: timestamp (nullable = true)\n",
      "\n"
     ]
    }
   ],
   "source": [
    "# Read data from Staging\n",
    "df_stg = spark \\\n",
    "    .read \\\n",
    "    .table(staging_table_full_name)\n",
    "\n",
    "print(\"SPARK_APP: Staging Data Count - \" + str(df_stg.count()))\n",
    "print(\"SPARK_APP: Printing Staging Schema --\")\n",
    "df_stg.printSchema()"
   ]
  },
  {
   "cell_type": "code",
   "execution_count": 11,
   "id": "7f533a70-1efd-4230-ba18-276576719314",
   "metadata": {},
   "outputs": [],
   "source": [
    "uuidf = udf(lambda : str(uuid.uuid4), StringType())"
   ]
  },
  {
   "cell_type": "code",
   "execution_count": 13,
   "id": "b176a673-6bde-418a-9d0d-4f1706a1d600",
   "metadata": {},
   "outputs": [
    {
     "name": "stdout",
     "output_type": "stream",
     "text": [
      "SPARK_APP: Dim Temp Data Count - 7\n",
      "SPARK_APP: Printing Dim Temp Schema --\n",
      "root\n",
      " |-- store_id: string (nullable = true)\n",
      " |-- store_name: string (nullable = true)\n",
      " |-- address: string (nullable = true)\n",
      " |-- city: string (nullable = true)\n",
      " |-- state: string (nullable = true)\n",
      " |-- zip_code: string (nullable = true)\n",
      " |-- phone_number: string (nullable = true)\n",
      " |-- insert_dt: timestamp (nullable = true)\n",
      " |-- rundate: string (nullable = true)\n",
      " |-- update_dt: timestamp (nullable = true)\n",
      " |-- row_wid: string (nullable = true)\n",
      "\n"
     ]
    }
   ],
   "source": [
    "#creating temp df to add new column\n",
    "df_dim_temp = df_stg.withColumn(\"row_wid\", uuidf())\n",
    "\n",
    "print(\"SPARK_APP: Dim Temp Data Count - \" + str(df_dim_temp.count()))\n",
    "print(\"SPARK_APP: Printing Dim Temp Schema --\")\n",
    "df_dim_temp.printSchema()"
   ]
  },
  {
   "cell_type": "code",
   "execution_count": 18,
   "id": "a47586f1-997a-4b49-b24b-51009274e22c",
   "metadata": {},
   "outputs": [],
   "source": [
    "# Get the delta table for Upserts (SCD1)\n",
    "dt_dim = DeltaTable.forName(spark,table_full_name)\n",
    "\n",
    "# Validate if its a first run\n",
    "if get_max_timestamp(spark,schema_name,table_name) != \"1900-01-01 00:00:00.000000\":\n",
    "    print(\"SPARK_APP: Table is set for full load\") \n",
    "    # Truncate the Dimension table\n",
    "    spark.conf.set(\"spark.databricks.delta.retentionDurationCheck.enabled\",False)\n",
    "    dt_dim.delete(f\"1=1\")\n",
    "    dt_dim.vaccum(0)\n",
    "\n",
    "dt_dim.alias(\"dim_store\").\\\n",
    "merge(df_dim_temp.alias(\"dim_temp\"),\"dim_store.store_id=dim_temp.store_id\").\\\n",
    "whenMatchedUpdate(set = {\n",
    "   \"store_name\" : \"dim_temp.store_name\",\n",
    "            \"address\" : \"dim_temp.address\",\n",
    "            \"city\" : \"dim_temp.city\",\n",
    "            \"state\" : \"dim_temp.state\",\n",
    "            \"zip_code\" : \"dim_temp.zip_code\",\n",
    "            \"phone_number\" : \"dim_temp.phone_number\",\n",
    "            \"rundate\" : \"dim_temp.rundate\",\n",
    "            \"update_dt\" : \"dim_temp.update_dt\"\n",
    "        }  \n",
    "    ) \\\n",
    "    .whenNotMatchedInsertAll() \\\n",
    "    .execute()\n",
    "    \n",
    "    \n",
    "\n"
   ]
  },
  {
   "cell_type": "code",
   "execution_count": 19,
   "id": "fa9c86b1-9864-4774-b4a9-f3fe10bcb88f",
   "metadata": {},
   "outputs": [
    {
     "name": "stdout",
     "output_type": "stream",
     "text": [
      "SPARK_APP: Update JOB Control Log\n"
     ]
    }
   ],
   "source": [
    "# Add job details in JOB CONTROL\n",
    "insert_log(spark, schema_name, table_name, datetime.now(), rundate)\n",
    "print(\"SPARK_APP: Update JOB Control Log\")"
   ]
  },
  {
   "cell_type": "code",
   "execution_count": 20,
   "id": "95b8d1be-0a7f-44f9-9daf-003e78b9ec82",
   "metadata": {},
   "outputs": [
    {
     "name": "stdout",
     "output_type": "stream",
     "text": [
      "+-----------+----------+--------------------------+--------+--------------------------+\n",
      "|schema_name|table_name|max_timestamp             |rundate |insert_dt                 |\n",
      "+-----------+----------+--------------------------+--------+--------------------------+\n",
      "|edw        |dim_store |2024-05-26 14:29:01.560863|20220101|2024-05-26 14:29:02.180285|\n",
      "+-----------+----------+--------------------------+--------+--------------------------+\n",
      "\n"
     ]
    }
   ],
   "source": [
    "spark.sql(f\"select * from edw.job_control where table_name = '{table_name}' order by insert_dt desc limit 1\").show(truncate=False)"
   ]
  },
  {
   "cell_type": "code",
   "execution_count": 21,
   "id": "fc6205a4-5548-415b-9329-949f72ca093e",
   "metadata": {},
   "outputs": [
    {
     "name": "stdout",
     "output_type": "stream",
     "text": [
      "+-------+---------------+---------------------+--------------------+-------------+\n",
      "|version|executionTimeMs|numTargetRowsInserted|numTargetRowsUpdated|numOutputRows|\n",
      "+-------+---------------+---------------------+--------------------+-------------+\n",
      "|1      |8399           |7                    |0                   |7            |\n",
      "+-------+---------------+---------------------+--------------------+-------------+\n",
      "\n"
     ]
    }
   ],
   "source": [
    "# Get the logs from delta table version\n",
    "dt_dim.history().limit(1).select(\"version\",\"operationMetrics.executionTimeMs\", \n",
    "                                 \"operationMetrics.numTargetRowsInserted\",\n",
    "                                \"operationMetrics.numTargetRowsUpdated\",\n",
    "                                \"operationMetrics.numOutputRows\").show(1, False)"
   ]
  },
  {
   "cell_type": "code",
   "execution_count": 22,
   "id": "a2e037e1-8d6c-4ef3-9166-f0649f4a3464",
   "metadata": {},
   "outputs": [
    {
     "name": "stdout",
     "output_type": "stream",
     "text": [
      "SPARK_APP: Symlink Manifest file generated\n"
     ]
    }
   ],
   "source": [
    "# Generate Symlink manifest for Athena Access\n",
    "dt = DeltaTable.forName(spark, table_full_name)\n",
    "dt.generate(\"symlink_format_manifest\")\n",
    "print(\"SPARK_APP: Symlink Manifest file generated\")\n"
   ]
  },
  {
   "cell_type": "code",
   "execution_count": 23,
   "id": "08d6a4ee-e0a5-4b51-93da-2373bf80500c",
   "metadata": {},
   "outputs": [],
   "source": [
    "spark.stop()"
   ]
  },
  {
   "cell_type": "code",
   "execution_count": null,
   "id": "2c0ddcd1-5aab-4c9f-9758-2d8bd2a5ef3c",
   "metadata": {},
   "outputs": [],
   "source": []
  }
 ],
 "metadata": {
  "kernelspec": {
   "display_name": "Python 3 (ipykernel)",
   "language": "python",
   "name": "python3"
  },
  "language_info": {
   "codemirror_mode": {
    "name": "ipython",
    "version": 3
   },
   "file_extension": ".py",
   "mimetype": "text/x-python",
   "name": "python",
   "nbconvert_exporter": "python",
   "pygments_lexer": "ipython3",
   "version": "3.10.14"
  }
 },
 "nbformat": 4,
 "nbformat_minor": 5
}
