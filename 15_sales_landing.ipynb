{
 "cells": [
  {
   "cell_type": "code",
   "execution_count": 2,
   "id": "6dbcf47f-0394-44f9-8889-c372dbdd1245",
   "metadata": {},
   "outputs": [],
   "source": [
    "# Script to load sales data in landing\n",
    "\n",
    "#Import Required Libraries\n",
    "\n",
    "from lib.spark_session import get_spark_session\n",
    "from lib.utils import  get_string_cols,get_rundate\n",
    "from lib.aws_s3 import  archive_landing_object,list_bucket_objects\n",
    "from lib.job_control import insert_log, get_max_timestamp\n",
    "from pyspark.sql import SparkSession, DataFrame\n",
    "from pyspark.sql.functions import current_timestamp, lit\n",
    "from datetime import datetime\n",
    "from delta import DeltaTable"
   ]
  },
  {
   "cell_type": "code",
   "execution_count": 3,
   "id": "68ccb0a9-b3be-4af3-9f3a-8ad4cf1b3df8",
   "metadata": {},
   "outputs": [
    {
     "name": "stdout",
     "output_type": "stream",
     "text": [
      "SPARK_APP: JOB triggered for rundate - 20220101\n"
     ]
    }
   ],
   "source": [
    "# Job Parameters\n",
    "rundate = get_rundate()\n",
    "schema_name = \"edw_ld\"\n",
    "table_name = \"dim_sales_ld\"\n",
    "table_full_name = f\"{schema_name}.{table_name}\" \n",
    "landing_file_name = f\"order_{rundate}_*.json\"\n",
    "landing_file_path = f\"s3a://deltalake12/dw-with-pyspark/landing/order/\"\n",
    "print(\"SPARK_APP: JOB triggered for rundate - \" + rundate)\n"
   ]
  },
  {
   "cell_type": "code",
   "execution_count": 4,
   "id": "85f02243-166b-4b5c-b2fa-2f6dfb56e267",
   "metadata": {},
   "outputs": [
    {
     "name": "stdout",
     "output_type": "stream",
     "text": [
      "SPARK_APP: Spark UI - http://03205cdd01e3:4040\n"
     ]
    }
   ],
   "source": [
    "# Creating Spark Session\n",
    "spark: SparkSession = get_spark_session(f\"Landing load - {table_full_name}\")\n",
    "print(\"SPARK_APP: Spark UI - \" + spark.sparkContext.uiWebUrl)"
   ]
  },
  {
   "cell_type": "code",
   "execution_count": 5,
   "id": "9dde7a0b-a160-488d-8cac-4aaa2bffbea5",
   "metadata": {},
   "outputs": [],
   "source": [
    "# Configuring Spark Session\n",
    "spark.conf.set(\"spark.sql.shuffle.partitions\", 8)\n",
    "spark.conf.set(\"spark.sql.parquet.mergeSchema\", True)"
   ]
  },
  {
   "cell_type": "code",
   "execution_count": 10,
   "id": "e9b954c0-295a-47a6-9b6b-35de65a675ab",
   "metadata": {},
   "outputs": [
    {
     "name": "stdout",
     "output_type": "stream",
     "text": [
      "SPARK_APP: Printing Raw Schema\n",
      "root\n",
      " |-- value: string (nullable = true)\n",
      "\n",
      "SPARK_APP: Landing data count - 2\n"
     ]
    }
   ],
   "source": [
    "# Create Raw dataframe and get col info\n",
    "df_raw = spark \\\n",
    "    .read \\\n",
    "    .format(\"text\") \\\n",
    "    .option(\"multiline\", False) \\\n",
    "    .load(landing_file_path)\n",
    "\n",
    "print(\"SPARK_APP: Printing Raw Schema\")\n",
    "df_raw.printSchema()\n",
    "# Get Landing count\n",
    "print(\"SPARK_APP: Landing data count - \" + str(df_raw.count()))"
   ]
  },
  {
   "cell_type": "code",
   "execution_count": 12,
   "id": "3125babd-f8c1-446d-884f-e508e3d301cd",
   "metadata": {},
   "outputs": [
    {
     "name": "stdout",
     "output_type": "stream",
     "text": [
      "+--------------------+\n",
      "|               value|\n",
      "+--------------------+\n",
      "|{\"orders\": [{\"ord...|\n",
      "|{\"orders\": [{\"ord...|\n",
      "+--------------------+\n",
      "\n"
     ]
    }
   ],
   "source": [
    "df_raw.show()"
   ]
  },
  {
   "cell_type": "code",
   "execution_count": 13,
   "id": "3333bc8b-7b4b-458d-871c-04fb9e0fb686",
   "metadata": {},
   "outputs": [
    {
     "name": "stdout",
     "output_type": "stream",
     "text": [
      "SPARK_APP: Casted all columns to String\n",
      "SPARK_APP: Added AUDIT column\n",
      "SPARK_APP: Final layer data count - 2\n",
      "SPARK_APP: Printing Landing Schema --\n",
      "root\n",
      " |-- value: string (nullable = true)\n",
      " |-- insert_dt: timestamp (nullable = false)\n",
      " |-- rundate: string (nullable = false)\n",
      "\n"
     ]
    }
   ],
   "source": [
    "# Casting columns to String\n",
    "df_casted = df_raw.selectExpr(get_string_cols(spark, df_raw))\n",
    "print(\"SPARK_APP: Casted all columns to String\")\n",
    "\n",
    "# Add audit columns\n",
    "df_ld = df_casted.withColumn(\"insert_dt\", current_timestamp()) \\\n",
    "    .withColumn(\"rundate\", lit(rundate))\n",
    "print(\"SPARK_APP: Added AUDIT column\")\n",
    "\n",
    "# Get Final Layer count\n",
    "print(\"SPARK_APP: Final layer data count - \" + str(df_ld.count()))\n",
    "print(\"SPARK_APP: Printing Landing Schema --\")\n",
    "df_ld.printSchema()"
   ]
  },
  {
   "cell_type": "code",
   "execution_count": 14,
   "id": "3fbda316-a305-4541-83e4-f907fc730ca5",
   "metadata": {},
   "outputs": [
    {
     "name": "stdout",
     "output_type": "stream",
     "text": [
      "SPARK_APP: Data written to landing layer\n"
     ]
    }
   ],
   "source": [
    "# Write the data to landing layer checking if table exists\n",
    "if get_max_timestamp(spark, schema_name, table_name) != \"1900-01-01 00:00:00.000000\":\n",
    "    df_ld.write \\\n",
    "        .format(\"delta\") \\\n",
    "        .mode(\"append\") \\\n",
    "        .saveAsTable(table_full_name)\n",
    "else:\n",
    "    df_ld.write \\\n",
    "        .format(\"delta\") \\\n",
    "        .mode(\"overwrite\") \\\n",
    "        .saveAsTable(table_full_name)\n",
    "\n",
    "print(\"SPARK_APP: Data written to landing layer\")"
   ]
  },
  {
   "cell_type": "code",
   "execution_count": null,
   "id": "b0013487-6df9-4dff-8ed9-94935ab84147",
   "metadata": {},
   "outputs": [],
   "source": [
    "# Archive the landing file\n",
    "if archive_wildcard_landing_objects(landing_file_name, \"order\"):\n",
    "    print(f\"SPARK_APP: Landing file {landing_file_name} archived\")\n",
    "else:\n",
    "    print(f\"SPARK_APP: ERROR - Landing file {landing_file_name} not archived. Please Archive the file manually\")"
   ]
  },
  {
   "cell_type": "code",
   "execution_count": 15,
   "id": "df802a93-8899-424a-b895-e7160c3cd294",
   "metadata": {},
   "outputs": [
    {
     "name": "stdout",
     "output_type": "stream",
     "text": [
      "SPARK_APP: Updated JOB Control Log\n"
     ]
    }
   ],
   "source": [
    "# Update Job Control\n",
    "insert_log(spark, schema_name, table_name, datetime.now(), rundate)\n",
    "print(\"SPARK_APP: Updated JOB Control Log\")"
   ]
  },
  {
   "cell_type": "code",
   "execution_count": 16,
   "id": "0bfae709-2318-492b-ae3a-c30de8dfa98a",
   "metadata": {},
   "outputs": [
    {
     "name": "stdout",
     "output_type": "stream",
     "text": [
      "+-----------+------------+--------------------------+--------+--------------------------+\n",
      "|schema_name|table_name  |max_timestamp             |rundate |insert_dt                 |\n",
      "+-----------+------------+--------------------------+--------+--------------------------+\n",
      "|edw_ld     |dim_sales_ld|2024-06-02 07:03:22.196248|20220101|2024-06-02 07:03:23.309098|\n",
      "+-----------+------------+--------------------------+--------+--------------------------+\n",
      "\n"
     ]
    }
   ],
   "source": [
    "spark.sql(f\"select * from edw.job_control where table_name = '{table_name}' order by insert_dt desc\").show(truncate=False)"
   ]
  },
  {
   "cell_type": "code",
   "execution_count": 17,
   "id": "2b861021-aeb1-49ca-884d-437665a555c1",
   "metadata": {},
   "outputs": [
    {
     "name": "stdout",
     "output_type": "stream",
     "text": [
      "+-------+---------------+---------------------+--------------------+-------------+\n",
      "|version|executionTimeMs|numTargetRowsInserted|numTargetRowsUpdated|numOutputRows|\n",
      "+-------+---------------+---------------------+--------------------+-------------+\n",
      "|0      |null           |null                 |null                |2            |\n",
      "+-------+---------------+---------------------+--------------------+-------------+\n",
      "\n"
     ]
    }
   ],
   "source": [
    "# Get the logs from delta table version\n",
    "dt = DeltaTable.forName(spark, table_full_name)\n",
    "dt.history().limit(1).select(\"version\",\"operationMetrics.executionTimeMs\", \n",
    "                                 \"operationMetrics.numTargetRowsInserted\",\n",
    "                                \"operationMetrics.numTargetRowsUpdated\",\n",
    "                                \"operationMetrics.numOutputRows\").show(1, False)"
   ]
  },
  {
   "cell_type": "code",
   "execution_count": 18,
   "id": "f355a7ac-ebc8-4148-b2b6-68007a23bdf3",
   "metadata": {},
   "outputs": [
    {
     "name": "stdout",
     "output_type": "stream",
     "text": [
      "SPARK_APP: Symlink Manifest file generated\n"
     ]
    }
   ],
   "source": [
    "dt.generate(\"symlink_format_manifest\")\n",
    "print(\"SPARK_APP: Symlink Manifest file generated\")"
   ]
  },
  {
   "cell_type": "code",
   "execution_count": 19,
   "id": "d18929d5-5270-40ae-8909-ebeee1df73df",
   "metadata": {},
   "outputs": [
    {
     "name": "stdout",
     "output_type": "stream",
     "text": [
      "+--------------------+--------------------+--------+\n",
      "|               value|           insert_dt| rundate|\n",
      "+--------------------+--------------------+--------+\n",
      "|{\"orders\": [{\"ord...|2024-06-02 07:01:...|20220101|\n",
      "|{\"orders\": [{\"ord...|2024-06-02 07:01:...|20220101|\n",
      "+--------------------+--------------------+--------+\n",
      "\n"
     ]
    }
   ],
   "source": [
    "spark.sql(\"select * from edw_ld.dim_sales_ld\").show()"
   ]
  },
  {
   "cell_type": "code",
   "execution_count": 20,
   "id": "fd8d6b34-a03f-4d78-85da-a0a94c5e0d7f",
   "metadata": {},
   "outputs": [],
   "source": [
    "spark.stop()"
   ]
  },
  {
   "cell_type": "code",
   "execution_count": null,
   "id": "31c45ff1-cb65-45c2-8d34-29d30c46ca96",
   "metadata": {},
   "outputs": [],
   "source": []
  }
 ],
 "metadata": {
  "kernelspec": {
   "display_name": "Python 3 (ipykernel)",
   "language": "python",
   "name": "python3"
  },
  "language_info": {
   "codemirror_mode": {
    "name": "ipython",
    "version": 3
   },
   "file_extension": ".py",
   "mimetype": "text/x-python",
   "name": "python",
   "nbconvert_exporter": "python",
   "pygments_lexer": "ipython3",
   "version": "3.10.14"
  }
 },
 "nbformat": 4,
 "nbformat_minor": 5
}
