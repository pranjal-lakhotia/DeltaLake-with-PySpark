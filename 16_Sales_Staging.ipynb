{
 "cells": [
  {
   "cell_type": "code",
   "execution_count": 14,
   "id": "f6eaba00-39f5-48b2-8a85-fe7022d04533",
   "metadata": {},
   "outputs": [],
   "source": [
    "# Script to create date for Sales Fact Staging\n",
    "# Import required libraries\n",
    "import sys\n",
    "from lib.spark_session import get_spark_session\n",
    "from lib.utils import date_data, get_string_cols, get_rundate\n",
    "from lib.job_control import insert_log, get_max_timestamp\n",
    "from pyspark.sql import SparkSession, DataFrame\n",
    "from pyspark.sql.functions import current_timestamp, expr, to_date, lit,to_timestamp,lit,coalesce,split,from_json,explode\n",
    "from datetime import datetime\n",
    "from delta import DeltaTable"
   ]
  },
  {
   "cell_type": "code",
   "execution_count": 7,
   "id": "ffaf30fe-3809-4d0f-ad85-310af0d89410",
   "metadata": {},
   "outputs": [
    {
     "name": "stdout",
     "output_type": "stream",
     "text": [
      "SPARK_APP: JOB triggered for rundate - 20220101\n"
     ]
    }
   ],
   "source": [
    "# Job Parameters\n",
    "rundate = get_rundate()\n",
    "schema_name = 'edw_stg'\n",
    "table_name = 'fact_sales_stg'\n",
    "table_full_name = f\"{schema_name}.{table_name}\"\n",
    "landing_table_full_name = \"edw_ld.dim_sales_ld\"\n",
    "print(\"SPARK_APP: JOB triggered for rundate - \" + rundate)"
   ]
  },
  {
   "cell_type": "code",
   "execution_count": 3,
   "id": "ff027fa6-0b98-4062-b6eb-854ba4021bdb",
   "metadata": {},
   "outputs": [
    {
     "name": "stdout",
     "output_type": "stream",
     "text": [
      "SPARK_APP: Spark UI - http://03205cdd01e3:4040\n"
     ]
    }
   ],
   "source": [
    "# creating Spark Session\n",
    "spark : SparkSession = get_spark_session(f\"staging_load: {table_full_name}\")\n",
    "print(\"SPARK_APP: Spark UI - \" + spark.sparkContext.uiWebUrl)"
   ]
  },
  {
   "cell_type": "code",
   "execution_count": 4,
   "id": "adb7ba0b-5f35-4745-b1bd-72da305566b4",
   "metadata": {},
   "outputs": [],
   "source": [
    "# Configuring Spark Job\n",
    "spark.conf.set(\"spark.sql.shuffle.partitions\",8)\n",
    "spark.conf.set(\"spark.sql.parquet.mergeSchema\",True)"
   ]
  },
  {
   "cell_type": "code",
   "execution_count": 5,
   "id": "5d9804f6-a4ac-4211-86e3-8fe2f4fca768",
   "metadata": {},
   "outputs": [
    {
     "name": "stdout",
     "output_type": "stream",
     "text": [
      "SPARK_APP: Max timestamp for staging data load - 1900-01-01 00:00:00.000000\n"
     ]
    }
   ],
   "source": [
    "# Get the max_timestamp for data load in staging\n",
    "max_timestamp = get_max_timestamp(spark, schema_name, table_name)\n",
    "print(\"SPARK_APP: Max timestamp for staging data load - \" + str(max_timestamp))"
   ]
  },
  {
   "cell_type": "code",
   "execution_count": 8,
   "id": "0e81a8e1-f999-4743-9c84-054c51181f38",
   "metadata": {},
   "outputs": [
    {
     "name": "stdout",
     "output_type": "stream",
     "text": [
      "SPARK_APP: Landing Data Count - 2\n",
      "SPARK_APP: Printing Landing Schema --\n",
      "root\n",
      " |-- value: string (nullable = true)\n",
      " |-- insert_dt: timestamp (nullable = true)\n",
      " |-- rundate: string (nullable = true)\n",
      "\n"
     ]
    }
   ],
   "source": [
    "df_ld = spark \\\n",
    "    .read \\\n",
    "    .table(landing_table_full_name) \\\n",
    "    .where(f\"insert_dt > to_timestamp('{max_timestamp}')\")\n",
    "\n",
    "print(\"SPARK_APP: Landing Data Count - \" + str(df_ld.count()))\n",
    "print(\"SPARK_APP: Printing Landing Schema --\")\n",
    "df_ld.printSchema()"
   ]
  },
  {
   "cell_type": "code",
   "execution_count": 9,
   "id": "7f4bd599-4507-4d4c-bdb4-698ec5c46392",
   "metadata": {},
   "outputs": [
    {
     "name": "stdout",
     "output_type": "stream",
     "text": [
      "SPARK_APP: Printing Landing Parsed JSON Schema - StructType([StructField('orders', ArrayType(StructType([StructField('cust_id', StringType(), True), StructField('invoice_num', StringType(), True), StructField('order_date', StringType(), True), StructField('order_id', StringType(), True), StructField('order_lines', ArrayType(StructType([StructField('currency_code', StringType(), True), StructField('discount', LongType(), True), StructField('discount_type', StringType(), True), StructField('prod_id', StringType(), True), StructField('qty', LongType(), True), StructField('tax', LongType(), True), StructField('tax_type', StringType(), True)]), True), True), StructField('store_id', StringType(), True), StructField('system_date', StringType(), True)]), True), True)])\n"
     ]
    }
   ],
   "source": [
    "# Determine the schema of the JSON payload from the column\n",
    "json_schema_df = spark.read.json(df_ld.rdd.map(lambda row: row.value))\n",
    "json_schema = json_schema_df.schema\n",
    "print(\"SPARK_APP: Printing Landing Parsed JSON Schema - \" + str(json_schema))"
   ]
  },
  {
   "cell_type": "code",
   "execution_count": 15,
   "id": "5f3a85a4-fc95-469b-a508-a15078ebe9e4",
   "metadata": {},
   "outputs": [
    {
     "name": "stdout",
     "output_type": "stream",
     "text": [
      "SPARK_APP: Printing Exploded & Flattened JSON Schema --\n",
      "root\n",
      " |-- insert_dt: timestamp (nullable = true)\n",
      " |-- rundate: string (nullable = true)\n",
      " |-- cust_id: string (nullable = true)\n",
      " |-- invoice_num: string (nullable = true)\n",
      " |-- order_date: string (nullable = true)\n",
      " |-- order_id: string (nullable = true)\n",
      " |-- store_id: string (nullable = true)\n",
      " |-- system_date: string (nullable = true)\n",
      " |-- currency_code: string (nullable = true)\n",
      " |-- discount: long (nullable = true)\n",
      " |-- discount_type: string (nullable = true)\n",
      " |-- prod_id: string (nullable = true)\n",
      " |-- qty: long (nullable = true)\n",
      " |-- tax: long (nullable = true)\n",
      " |-- tax_type: string (nullable = true)\n",
      "\n",
      "SPARK_APP: Total Exploded records - 163\n"
     ]
    }
   ],
   "source": [
    "# Assign schema dynamically to read the JSON column\n",
    "df_stg_temp = df_ld.withColumn(\"sales_data\", from_json(df_ld[\"value\"], json_schema))\n",
    "\n",
    "# Explode the column orders\n",
    "df_exploded_temp = df_stg_temp.withColumn(\"orders\", explode(\"sales_data.orders\")).select(\"*\", \"orders.*\")\n",
    "\n",
    "# Explode the order line items\n",
    "df_exploded = df_exploded_temp.withColumn(\"order_line_items\", explode(\"order_lines\")).select(\"*\", \"order_line_items.*\").drop(\"value\", \"sales_data\", \"orders\", \"order_lines\", \"order_line_items\")\n",
    "print(\"SPARK_APP: Printing Exploded & Flattened JSON Schema --\")\n",
    "df_exploded.printSchema()\n",
    "print(\"SPARK_APP: Total Exploded records - \" + str(df_exploded.count()))"
   ]
  },
  {
   "cell_type": "code",
   "execution_count": 17,
   "id": "300085a9-cb01-4b77-8c79-058fdc0ec10f",
   "metadata": {},
   "outputs": [
    {
     "name": "stdout",
     "output_type": "stream",
     "text": [
      "SPARK_APP: Printing Temp STG schema after calculations --\n",
      "root\n",
      " |-- insert_dt: timestamp (nullable = true)\n",
      " |-- rundate: string (nullable = true)\n",
      " |-- cust_id: string (nullable = true)\n",
      " |-- invoice_num: string (nullable = true)\n",
      " |-- order_date: string (nullable = true)\n",
      " |-- order_id: string (nullable = true)\n",
      " |-- store_id: string (nullable = true)\n",
      " |-- system_date: string (nullable = true)\n",
      " |-- currency_code: string (nullable = true)\n",
      " |-- discount: double (nullable = true)\n",
      " |-- discount_type: string (nullable = true)\n",
      " |-- prod_id: string (nullable = true)\n",
      " |-- qty: long (nullable = true)\n",
      " |-- tax: double (nullable = true)\n",
      " |-- tax_type: string (nullable = true)\n",
      " |-- row_wid: string (nullable = true)\n",
      " |-- product_id: string (nullable = true)\n",
      " |-- price: double (nullable = true)\n",
      " |-- sub_total: double (nullable = true)\n",
      " |-- line_total: double (nullable = true)\n",
      "\n"
     ]
    }
   ],
   "source": [
    "# Desired calculations for TAX, DISCOUNT and LINE ITEM TOTAL\n",
    "# LINE_ITEM_TOTAL = (QTY X PRICE) + TAX - DISCOUNT\n",
    "\n",
    "# Get Product Dim to get price\n",
    "df_dim_prod = spark.read.table(\"edw.dim_product\").where(\"active_flg = 1\").select(\"row_wid\", \"product_id\", \"price\")\n",
    "\n",
    "# Join with product and calculate the columns\n",
    "df_stg_temp = df_exploded.join(df_dim_prod, how=\"left_outer\", on=df_exploded.prod_id == df_dim_prod.product_id) \\\n",
    "    .withColumn(\"sub_total\", expr(\"qty * price\")) \\\n",
    "    .withColumn(\"tax\", expr(\"case when tax_type = 'INR' then tax else (tax/100)*sub_total end\")) \\\n",
    "    .withColumn(\"discount\", expr(\"case when discount_type = 'INR' then discount else (discount/100)*sub_total end\")) \\\n",
    "    .withColumn(\"line_total\", expr(\"sub_total + tax - discount\"))\n",
    "\n",
    "print(\"SPARK_APP: Printing Temp STG schema after calculations --\")\n",
    "df_stg_temp.printSchema()"
   ]
  },
  {
   "cell_type": "code",
   "execution_count": 27,
   "id": "997f6092-c3f2-48d2-8c03-b82575888078",
   "metadata": {},
   "outputs": [
    {
     "name": "stdout",
     "output_type": "stream",
     "text": [
      "SPARK_APP: Staging Data Count - 163\n",
      "SPARK_APP: Printing Staging Schema --\n",
      "root\n",
      " |-- cust_id: string (nullable = true)\n",
      " |-- store_id: string (nullable = true)\n",
      " |-- order_date: string (nullable = true)\n",
      " |-- qty: integer (nullable = true)\n",
      " |-- tax: double (nullable = true)\n",
      " |-- discount: double (nullable = true)\n",
      " |-- line_total: double (nullable = true)\n",
      " |-- order_id: string (nullable = true)\n",
      " |-- invoice_num: string (nullable = true)\n",
      " |-- prod_id: string (nullable = true)\n",
      " |-- product_wid: string (nullable = true)\n",
      " |-- integration_key: string (nullable = true)\n",
      " |-- rundate: string (nullable = false)\n",
      " |-- insert_dt: timestamp (nullable = false)\n",
      " |-- update_dt: timestamp (nullable = false)\n",
      "\n"
     ]
    }
   ],
   "source": [
    "# Format the landing data\n",
    "df_stg = df_stg_temp.select(\"cust_id\", \"store_id\", \"order_date\", \"qty\", \"tax\", \"discount\", \"line_total\", \"order_id\", \"invoice_num\", \"prod_id\", \"row_wid\") \\\n",
    "    .withColumn(\"product_wid\", expr(\"row_wid\")) \\\n",
    "    .withColumn(\"integration_key\", expr(\"order_id||'~'||prod_id||'~'||store_id||'~'||cust_id||'~'||order_date\")) \\\n",
    "    .withColumn(\"qty\", expr(\"cast (qty as int)\")) \\\n",
    "    .withColumn(\"rundate\", lit(rundate)) \\\n",
    "    .withColumn(\"insert_dt\", current_timestamp()) \\\n",
    "    .withColumn(\"update_dt\", current_timestamp()) \\\n",
    "    .drop(\"row_wid\")\n",
    "\n",
    "print(\"SPARK_APP: Staging Data Count - \" + str(df_stg.count()))\n",
    "print(\"SPARK_APP: Printing Staging Schema --\")\n",
    "df_stg.printSchema()"
   ]
  },
  {
   "cell_type": "code",
   "execution_count": 28,
   "id": "50c6458e-1dc9-4c50-a152-55a6fca763e0",
   "metadata": {},
   "outputs": [
    {
     "name": "stdout",
     "output_type": "stream",
     "text": [
      "+-------+--------+----------+---+----+--------+----------+----------------+----------------+-------+----------------------------------------------------------+------------------------------------------+--------+--------------------------+--------------------------+\n",
      "|cust_id|store_id|order_date|qty|tax |discount|line_total|order_id        |invoice_num     |prod_id|product_wid                                               |integration_key                           |rundate |insert_dt                 |update_dt                 |\n",
      "+-------+--------+----------+---+----+--------+----------+----------------+----------------+-------+----------------------------------------------------------+------------------------------------------+--------+--------------------------+--------------------------+\n",
      "|C018   |S003    |2022-07-19|9  |11.0|5.4     |545.6     |ORD2022071900000|INV2022071900000|P009   |net.razorvine.pickle.objects.ClassDictConstructor@55c03255|ORD2022071900000~P009~S003~C018~2022-07-19|20220101|2024-06-02 08:53:11.937473|2024-06-02 08:53:11.937473|\n",
      "|C018   |S003    |2022-07-19|5  |13.0|8.0     |105.0     |ORD2022071900000|INV2022071900000|P013   |net.razorvine.pickle.objects.ClassDictConstructor@55c03255|ORD2022071900000~P013~S003~C018~2022-07-19|20220101|2024-06-02 08:53:11.937473|2024-06-02 08:53:11.937473|\n",
      "|C018   |S003    |2022-07-19|5  |15.0|8.0     |207.0     |ORD2022071900000|INV2022071900000|P012   |net.razorvine.pickle.objects.ClassDictConstructor@55c03255|ORD2022071900000~P012~S003~C018~2022-07-19|20220101|2024-06-02 08:53:11.937473|2024-06-02 08:53:11.937473|\n",
      "|C018   |S003    |2022-07-19|1  |9.0 |1.0     |48.0      |ORD2022071900000|INV2022071900000|P006   |net.razorvine.pickle.objects.ClassDictConstructor@55c03255|ORD2022071900000~P006~S003~C018~2022-07-19|20220101|2024-06-02 08:53:11.937473|2024-06-02 08:53:11.937473|\n",
      "|C018   |S003    |2022-07-19|4  |19.2|9.6     |129.6     |ORD2022071900000|INV2022071900000|P008   |net.razorvine.pickle.objects.ClassDictConstructor@55c03255|ORD2022071900000~P008~S003~C018~2022-07-19|20220101|2024-06-02 08:53:11.937473|2024-06-02 08:53:11.937473|\n",
      "+-------+--------+----------+---+----+--------+----------+----------------+----------------+-------+----------------------------------------------------------+------------------------------------------+--------+--------------------------+--------------------------+\n",
      "only showing top 5 rows\n",
      "\n"
     ]
    }
   ],
   "source": [
    "df_stg.show(5,truncate = False)"
   ]
  },
  {
   "cell_type": "code",
   "execution_count": 29,
   "id": "3b2dd8b2-b324-4dea-b080-588f19991f38",
   "metadata": {},
   "outputs": [
    {
     "name": "stdout",
     "output_type": "stream",
     "text": [
      "SPARK_APP: Data written to staging table\n"
     ]
    }
   ],
   "source": [
    "# Write the data to Staging table in overwrite mode for truncate\n",
    "df_stg.write \\\n",
    "    .format(\"delta\") \\\n",
    "    .mode(\"overwrite\") \\\n",
    "    .saveAsTable(table_full_name)\n",
    "\n",
    "print(\"SPARK_APP: Data written to staging table\")"
   ]
  },
  {
   "cell_type": "code",
   "execution_count": 30,
   "id": "28ffe135-ff44-4126-9c3f-6cb96d57135e",
   "metadata": {},
   "outputs": [
    {
     "name": "stdout",
     "output_type": "stream",
     "text": [
      "SPARK_APP: Update JOB Control Log\n"
     ]
    }
   ],
   "source": [
    "# Add job details in JOB CONTROL\n",
    "insert_log(spark, schema_name, table_name, datetime.now(), rundate)\n",
    "print(\"SPARK_APP: Update JOB Control Log\")"
   ]
  },
  {
   "cell_type": "code",
   "execution_count": 31,
   "id": "4658fe1f-2e8f-414e-a575-852ee96fd47f",
   "metadata": {},
   "outputs": [
    {
     "name": "stdout",
     "output_type": "stream",
     "text": [
      "+-----------+--------------+--------------------------+--------+--------------------------+\n",
      "|schema_name|table_name    |max_timestamp             |rundate |insert_dt                 |\n",
      "+-----------+--------------+--------------------------+--------+--------------------------+\n",
      "|edw_stg    |fact_sales_stg|2024-06-02 08:54:13.403334|20220101|2024-06-02 08:54:14.003559|\n",
      "+-----------+--------------+--------------------------+--------+--------------------------+\n",
      "\n"
     ]
    }
   ],
   "source": [
    "spark.sql(f\"select * from edw.job_control where table_name = '{table_name}' order by insert_dt desc limit 1\").show(truncate=False)"
   ]
  },
  {
   "cell_type": "code",
   "execution_count": 32,
   "id": "1d10375c-9716-4abe-9e57-c4e4d42e9fb3",
   "metadata": {},
   "outputs": [
    {
     "name": "stdout",
     "output_type": "stream",
     "text": [
      "+-------+---------------+---------------------+--------------------+-------------+\n",
      "|version|executionTimeMs|numTargetRowsInserted|numTargetRowsUpdated|numOutputRows|\n",
      "+-------+---------------+---------------------+--------------------+-------------+\n",
      "|1      |null           |null                 |null                |163          |\n",
      "+-------+---------------+---------------------+--------------------+-------------+\n",
      "\n"
     ]
    }
   ],
   "source": [
    "# Get the logs from delta table version\n",
    "dt = DeltaTable.forName(spark, table_full_name)\n",
    "dt.history().limit(1).select(\"version\",\"operationMetrics.executionTimeMs\", \n",
    "                                 \"operationMetrics.numTargetRowsInserted\",\n",
    "                                \"operationMetrics.numTargetRowsUpdated\",\n",
    "                                \"operationMetrics.numOutputRows\").show(1, False)"
   ]
  },
  {
   "cell_type": "code",
   "execution_count": 33,
   "id": "f00a2ed2-271e-478b-a743-2dae06ddcd27",
   "metadata": {},
   "outputs": [
    {
     "name": "stdout",
     "output_type": "stream",
     "text": [
      "SPARK_APP: Symlink Manifest file generated\n"
     ]
    }
   ],
   "source": [
    "# Generate Symlink manifest for Athena Access\n",
    "dt.generate(\"symlink_format_manifest\")\n",
    "print(\"SPARK_APP: Symlink Manifest file generated\")"
   ]
  },
  {
   "cell_type": "code",
   "execution_count": 34,
   "id": "9f6e4c2f-226a-4dae-8009-971577655874",
   "metadata": {},
   "outputs": [
    {
     "name": "stdout",
     "output_type": "stream",
     "text": [
      "+-------+--------+----------+---+------------------+--------+----------+----------------+----------------+-------+--------------------+--------------------+--------+--------------------+--------------------+\n",
      "|cust_id|store_id|order_date|qty|               tax|discount|line_total|        order_id|     invoice_num|prod_id|         product_wid|     integration_key| rundate|           insert_dt|           update_dt|\n",
      "+-------+--------+----------+---+------------------+--------+----------+----------------+----------------+-------+--------------------+--------------------+--------+--------------------+--------------------+\n",
      "|   C018|    S003|2022-07-19|  9|              11.0|     5.4|     545.6|ORD2022071900000|INV2022071900000|   P009|net.razorvine.pic...|ORD2022071900000~...|20220101|2024-06-02 08:53:...|2024-06-02 08:53:...|\n",
      "|   C018|    S003|2022-07-19|  5|              13.0|     8.0|     105.0|ORD2022071900000|INV2022071900000|   P013|net.razorvine.pic...|ORD2022071900000~...|20220101|2024-06-02 08:53:...|2024-06-02 08:53:...|\n",
      "|   C018|    S003|2022-07-19|  5|              15.0|     8.0|     207.0|ORD2022071900000|INV2022071900000|   P012|net.razorvine.pic...|ORD2022071900000~...|20220101|2024-06-02 08:53:...|2024-06-02 08:53:...|\n",
      "|   C018|    S003|2022-07-19|  1|               9.0|     1.0|      48.0|ORD2022071900000|INV2022071900000|   P006|net.razorvine.pic...|ORD2022071900000~...|20220101|2024-06-02 08:53:...|2024-06-02 08:53:...|\n",
      "|   C018|    S003|2022-07-19|  4|              19.2|     9.6|     129.6|ORD2022071900000|INV2022071900000|   P008|net.razorvine.pic...|ORD2022071900000~...|20220101|2024-06-02 08:53:...|2024-06-02 08:53:...|\n",
      "|   C016|    S007|2022-12-19|  6|              15.0|    14.4|     180.6|ORD2022121910000|INV2022121910000|   P004|net.razorvine.pic...|ORD2022121910000~...|20220101|2024-06-02 08:53:...|2024-06-02 08:53:...|\n",
      "|   C016|    S007|2022-12-19|  2|               0.0|     0.6|      59.4|ORD2022121910000|INV2022121910000|   P004|net.razorvine.pic...|ORD2022121910000~...|20220101|2024-06-02 08:53:...|2024-06-02 08:53:...|\n",
      "|   C016|    S007|2022-12-19|  8|              14.0|     6.0|     248.0|ORD2022121910000|INV2022121910000|   P004|net.razorvine.pic...|ORD2022121910000~...|20220101|2024-06-02 08:53:...|2024-06-02 08:53:...|\n",
      "|   C016|    S007|2022-12-19|  8|54.400000000000006|     4.0|     370.4|ORD2022121910000|INV2022121910000|   P012|net.razorvine.pic...|ORD2022121910000~...|20220101|2024-06-02 08:53:...|2024-06-02 08:53:...|\n",
      "|   C016|    S007|2022-12-19|  7|              11.0|    10.5|     210.5|ORD2022121910000|INV2022121910000|   P004|net.razorvine.pic...|ORD2022121910000~...|20220101|2024-06-02 08:53:...|2024-06-02 08:53:...|\n",
      "+-------+--------+----------+---+------------------+--------+----------+----------------+----------------+-------+--------------------+--------------------+--------+--------------------+--------------------+\n",
      "\n"
     ]
    }
   ],
   "source": [
    "spark.sql(\"select * from edw_stg.fact_sales_stg limit 10\").show()"
   ]
  },
  {
   "cell_type": "code",
   "execution_count": 35,
   "id": "bb2cc9d4-c4b9-4687-bfba-c3d015c5e9aa",
   "metadata": {},
   "outputs": [],
   "source": [
    "spark.stop()"
   ]
  },
  {
   "cell_type": "code",
   "execution_count": null,
   "id": "a9408529-51c6-4f7b-8bc9-b821c6cc9f31",
   "metadata": {},
   "outputs": [],
   "source": []
  }
 ],
 "metadata": {
  "kernelspec": {
   "display_name": "Python 3 (ipykernel)",
   "language": "python",
   "name": "python3"
  },
  "language_info": {
   "codemirror_mode": {
    "name": "ipython",
    "version": 3
   },
   "file_extension": ".py",
   "mimetype": "text/x-python",
   "name": "python",
   "nbconvert_exporter": "python",
   "pygments_lexer": "ipython3",
   "version": "3.10.14"
  }
 },
 "nbformat": 4,
 "nbformat_minor": 5
}
