{
 "cells": [
  {
   "cell_type": "code",
   "execution_count": 1,
   "id": "5dbe7301-7baa-4bdc-bd2d-28a0f8f00bbe",
   "metadata": {},
   "outputs": [],
   "source": [
    "# Script to create date for Date Dimesion Staging\n",
    "# Import required libraries\n",
    "import sys\n",
    "from lib.spark_session import get_spark_session\n",
    "from lib.utils import date_data, get_string_cols, get_rundate\n",
    "from lib.job_control import insert_log, get_max_timestamp\n",
    "from pyspark.sql import SparkSession, DataFrame\n",
    "from pyspark.sql.functions import current_timestamp, expr, to_date, lit,to_timestamp,lit,coalesce,split\n",
    "from datetime import datetime\n",
    "from delta import DeltaTable"
   ]
  },
  {
   "cell_type": "code",
   "execution_count": 2,
   "id": "365a5cd9-f934-4800-a61c-7009d16d9daf",
   "metadata": {},
   "outputs": [
    {
     "name": "stdout",
     "output_type": "stream",
     "text": [
      "SPARK_APP: JOB triggered for rundate - 20220101\n"
     ]
    }
   ],
   "source": [
    "# JOB Parameters\n",
    "rundate = get_rundate()\n",
    "schema_name = \"edw_stg\"\n",
    "table_name = \"dim_product_stg\"\n",
    "table_full_name = f\"{schema_name}.{table_name}\"\n",
    "landing_table_full_name = \"edw_ld.dim_product_ld\"\n",
    "print(\"SPARK_APP: JOB triggered for rundate - \" + rundate)"
   ]
  },
  {
   "cell_type": "code",
   "execution_count": 3,
   "id": "0213913f-3b3d-4b3b-9ce1-f80f90d8905b",
   "metadata": {},
   "outputs": [
    {
     "name": "stdout",
     "output_type": "stream",
     "text": [
      "SPARK_APP: Spark UI - http://03205cdd01e3:4040\n"
     ]
    }
   ],
   "source": [
    "spark:SparkSession = get_spark_session(f\"staging_load: {table_full_name}\")\n",
    "print(\"SPARK_APP: Spark UI - \" + spark.sparkContext.uiWebUrl)"
   ]
  },
  {
   "cell_type": "code",
   "execution_count": 4,
   "id": "5f36374f-7bed-46dd-a5ae-cf0df9aba546",
   "metadata": {},
   "outputs": [],
   "source": [
    "spark.conf.set(\"spark.sql.shuffle.partitions\",8)\n",
    "spark.conf.set(\"spark.sql.parquet.mergeSchema\",True)"
   ]
  },
  {
   "cell_type": "code",
   "execution_count": 5,
   "id": "59b65f05-0462-42ef-983e-4b513e92e759",
   "metadata": {},
   "outputs": [
    {
     "name": "stdout",
     "output_type": "stream",
     "text": [
      "SPARK_APP: Max timestamp for staging data load - 1900-01-01 00:00:00.000000\n"
     ]
    }
   ],
   "source": [
    "# Get the max_timestamp for data load in staging\n",
    "max_timestamp = get_max_timestamp(spark, schema_name, table_name)\n",
    "print(\"SPARK_APP: Max timestamp for staging data load - \" + str(max_timestamp))"
   ]
  },
  {
   "cell_type": "code",
   "execution_count": 6,
   "id": "41182acc-a4df-46d4-b21b-5b64ac84b306",
   "metadata": {},
   "outputs": [
    {
     "name": "stdout",
     "output_type": "stream",
     "text": [
      "SPARK_APP: Landing Data Count - 14\n",
      "SPARK_APP: Printing Landing Schema --\n",
      "root\n",
      " |-- product_id: string (nullable = true)\n",
      " |-- product_name: string (nullable = true)\n",
      " |-- brand: string (nullable = true)\n",
      " |-- type: string (nullable = true)\n",
      " |-- flavor: string (nullable = true)\n",
      " |-- size: string (nullable = true)\n",
      " |-- price: string (nullable = true)\n",
      " |-- quantity: string (nullable = true)\n",
      " |-- expiration_date: string (nullable = true)\n",
      " |-- image_url: string (nullable = true)\n",
      " |-- insert_dt: timestamp (nullable = true)\n",
      " |-- rundate: string (nullable = true)\n",
      "\n"
     ]
    }
   ],
   "source": [
    "df_ld = spark \\\n",
    "    .read \\\n",
    "    .table(landing_table_full_name) \\\n",
    "    .where(f\"insert_dt > to_timestamp('{max_timestamp}')\")\n",
    "\n",
    "print(\"SPARK_APP: Landing Data Count - \" + str(df_ld.count()))\n",
    "print(\"SPARK_APP: Printing Landing Schema --\")\n",
    "df_ld.printSchema()"
   ]
  },
  {
   "cell_type": "code",
   "execution_count": 7,
   "id": "73ee5cfa-eac4-4a53-be44-ac7b1b927a94",
   "metadata": {},
   "outputs": [
    {
     "name": "stdout",
     "output_type": "stream",
     "text": [
      "SPARK_APP: Landing Data Count after de-dupe - 14\n"
     ]
    }
   ],
   "source": [
    "# De-dupe the data based on NK\n",
    "df_dedupe = df_ld.withColumn(\"_rnk\", expr(f\"row_number() over (partition by product_id order by insert_dt desc)\")) \\\n",
    "    .where(\"_rnk = 1\").drop(\"_rnk\")\n",
    "\n",
    "print(\"SPARK_APP: Landing Data Count after de-dupe - \" + str(df_dedupe.count()))"
   ]
  },
  {
   "cell_type": "code",
   "execution_count": 8,
   "id": "5cdaf454-2267-4470-a362-285c084f8049",
   "metadata": {},
   "outputs": [
    {
     "name": "stdout",
     "output_type": "stream",
     "text": [
      "+----------+-----------------------+------------+----+-------+-------+-----+--------+---------------+----------------------------------------------------------+--------------------------+--------+\n",
      "|product_id|product_name           |brand       |type|flavor |size   |price|quantity|expiration_date|image_url                                                 |insert_dt                 |rundate |\n",
      "+----------+-----------------------+------------+----+-------+-------+-----+--------+---------------+----------------------------------------------------------+--------------------------+--------+\n",
      "|P001      |Purina Pro Plan        |Purina      |Dry |Chicken|5 kgs  |Rs 20|50      |31-12-2024     |https://www.example.com/purina-pro-plan-chicken.jpg       |2024-06-01 07:47:16.371708|20220101|\n",
      "|P002      |Hill's Science Diet    |Hill's      |Dry |Beef   |15 kgs |Rs 50|25      |31-12-2024     |https://www.example.com/hills-science-diet-beef.jpg       |2024-06-01 07:47:16.371708|20220101|\n",
      "|P003      |Iams ProActive Health  |Iams        |Dry |Lamb   |10 kgs |Rs 40|35      |31-12-2024     |https://www.example.com/iams-proactive-health-lamb.jpg    |2024-06-01 07:47:16.371708|20220101|\n",
      "|P004      |Blue Buffalo Wilderness|Blue Buffalo|Wet |Salmon |12 cans|Rs 30|40      |31-12-2024     |https://www.example.com/blue-buffalo-wilderness-salmon.jpg|2024-06-01 07:47:16.371708|20220101|\n",
      "|P005      |Royal Canin            |Royal Canin |Dry |Fish   |20 kgs |Rs 60|20      |31-12-2024     |https://www.example.com/royal-canin-fish.jpg              |2024-06-01 07:47:16.371708|20220101|\n",
      "+----------+-----------------------+------------+----+-------+-------+-----+--------+---------------+----------------------------------------------------------+--------------------------+--------+\n",
      "only showing top 5 rows\n",
      "\n"
     ]
    }
   ],
   "source": [
    "df_dedupe.show(5,truncate = False)"
   ]
  },
  {
   "cell_type": "code",
   "execution_count": 10,
   "id": "ea045c12-e1f2-44d9-a954-79b52bbbb48e",
   "metadata": {},
   "outputs": [],
   "source": [
    "df_stg = df_dedupe.withColumn(\"price\",split(\"price\", \" \")[1].cast(\"double\"))\\\n",
    ".withColumn(\"expiration_dt\",to_date(\"expiration_date\",\"dd-MM-yyyy\"))\\\n",
    ".withColumn(\"effective_start_dt\", current_timestamp())\\\n",
    ".withColumn(\"effective_end_dt\", to_timestamp(lit(\"9999-12-31 00:00:00.000000\"))) \\\n",
    ".withColumn(\"active_flg\", lit(1)) \\\n",
    "    .withColumn(\"insert_dt\", current_timestamp()) \\\n",
    "    .withColumn(\"update_dt\", current_timestamp()) \\\n",
    "    .drop(\"expiration_date\", \"quantity\")         \n",
    "\n"
   ]
  },
  {
   "cell_type": "code",
   "execution_count": 11,
   "id": "51bcfa2d-b3b7-4ab5-aba0-2bb6cec52dfe",
   "metadata": {},
   "outputs": [
    {
     "name": "stdout",
     "output_type": "stream",
     "text": [
      "+----------+-----------------------+------------+----+-------+-------+-----+----------------------------------------------------------+-------------------------+--------+-------------+-------------------------+-------------------+----------+-------------------------+\n",
      "|product_id|product_name           |brand       |type|flavor |size   |price|image_url                                                 |insert_dt                |rundate |expiration_dt|effective_start_dt       |effective_end_dt   |active_flg|update_dt                |\n",
      "+----------+-----------------------+------------+----+-------+-------+-----+----------------------------------------------------------+-------------------------+--------+-------------+-------------------------+-------------------+----------+-------------------------+\n",
      "|P001      |Purina Pro Plan        |Purina      |Dry |Chicken|5 kgs  |20.0 |https://www.example.com/purina-pro-plan-chicken.jpg       |2024-06-01 08:14:22.67819|20220101|2024-12-31   |2024-06-01 08:14:22.67819|9999-12-31 00:00:00|1         |2024-06-01 08:14:22.67819|\n",
      "|P002      |Hill's Science Diet    |Hill's      |Dry |Beef   |15 kgs |50.0 |https://www.example.com/hills-science-diet-beef.jpg       |2024-06-01 08:14:22.67819|20220101|2024-12-31   |2024-06-01 08:14:22.67819|9999-12-31 00:00:00|1         |2024-06-01 08:14:22.67819|\n",
      "|P003      |Iams ProActive Health  |Iams        |Dry |Lamb   |10 kgs |40.0 |https://www.example.com/iams-proactive-health-lamb.jpg    |2024-06-01 08:14:22.67819|20220101|2024-12-31   |2024-06-01 08:14:22.67819|9999-12-31 00:00:00|1         |2024-06-01 08:14:22.67819|\n",
      "|P004      |Blue Buffalo Wilderness|Blue Buffalo|Wet |Salmon |12 cans|30.0 |https://www.example.com/blue-buffalo-wilderness-salmon.jpg|2024-06-01 08:14:22.67819|20220101|2024-12-31   |2024-06-01 08:14:22.67819|9999-12-31 00:00:00|1         |2024-06-01 08:14:22.67819|\n",
      "|P005      |Royal Canin            |Royal Canin |Dry |Fish   |20 kgs |60.0 |https://www.example.com/royal-canin-fish.jpg              |2024-06-01 08:14:22.67819|20220101|2024-12-31   |2024-06-01 08:14:22.67819|9999-12-31 00:00:00|1         |2024-06-01 08:14:22.67819|\n",
      "+----------+-----------------------+------------+----+-------+-------+-----+----------------------------------------------------------+-------------------------+--------+-------------+-------------------------+-------------------+----------+-------------------------+\n",
      "only showing top 5 rows\n",
      "\n"
     ]
    }
   ],
   "source": [
    "df_stg.show(5,False)"
   ]
  },
  {
   "cell_type": "code",
   "execution_count": 12,
   "id": "c136e0a0-f323-4d21-80d8-0ace4ab4b3f7",
   "metadata": {},
   "outputs": [
    {
     "name": "stdout",
     "output_type": "stream",
     "text": [
      "SPARK_APP: Data written to staging table\n"
     ]
    }
   ],
   "source": [
    "# writing data to table\n",
    "df_stg.write.format(\"delta\").mode(\"overwrite\").saveAsTable(table_full_name)\n",
    "print(\"SPARK_APP: Data written to staging table\")"
   ]
  },
  {
   "cell_type": "code",
   "execution_count": 13,
   "id": "7b23eeb2-928a-4aef-a552-80ee8b00d64d",
   "metadata": {},
   "outputs": [
    {
     "name": "stdout",
     "output_type": "stream",
     "text": [
      "SPARK_APP: Update JOB Control Log\n"
     ]
    }
   ],
   "source": [
    "# Add job details in JOB CONTROL\n",
    "insert_log(spark, schema_name, table_name, datetime.now(), rundate)\n",
    "print(\"SPARK_APP: Update JOB Control Log\")"
   ]
  },
  {
   "cell_type": "code",
   "execution_count": 14,
   "id": "bd57c661-368c-4a5d-a41b-20709da3f643",
   "metadata": {},
   "outputs": [
    {
     "name": "stdout",
     "output_type": "stream",
     "text": [
      "+-----------+---------------+--------------------------+--------+--------------------------+\n",
      "|schema_name|table_name     |max_timestamp             |rundate |insert_dt                 |\n",
      "+-----------+---------------+--------------------------+--------+--------------------------+\n",
      "|edw_stg    |dim_product_stg|2024-06-01 08:17:19.552546|20220101|2024-06-01 08:17:20.460358|\n",
      "+-----------+---------------+--------------------------+--------+--------------------------+\n",
      "\n"
     ]
    }
   ],
   "source": [
    "spark.sql(f\"select * from edw.job_control where table_name = '{table_name}' order by insert_dt desc limit 1\").show(truncate=False)"
   ]
  },
  {
   "cell_type": "code",
   "execution_count": 15,
   "id": "f5aeffe7-478d-41a5-aab2-4b78bf9c190d",
   "metadata": {},
   "outputs": [
    {
     "name": "stdout",
     "output_type": "stream",
     "text": [
      "+-------+---------------+---------------------+--------------------+-------------+\n",
      "|version|executionTimeMs|numTargetRowsInserted|numTargetRowsUpdated|numOutputRows|\n",
      "+-------+---------------+---------------------+--------------------+-------------+\n",
      "|0      |null           |null                 |null                |14           |\n",
      "+-------+---------------+---------------------+--------------------+-------------+\n",
      "\n"
     ]
    }
   ],
   "source": [
    "# Get the logs from delta table version\n",
    "dt = DeltaTable.forName(spark, table_full_name)\n",
    "dt.history().limit(1).select(\"version\",\"operationMetrics.executionTimeMs\", \n",
    "                                 \"operationMetrics.numTargetRowsInserted\",\n",
    "                                \"operationMetrics.numTargetRowsUpdated\",\n",
    "                                \"operationMetrics.numOutputRows\").show(1, False)"
   ]
  },
  {
   "cell_type": "code",
   "execution_count": 16,
   "id": "13d0eb55-1aac-4cdb-a98e-49f064391a61",
   "metadata": {},
   "outputs": [
    {
     "name": "stdout",
     "output_type": "stream",
     "text": [
      "SPARK_APP: Symlink Manifest file generated\n"
     ]
    }
   ],
   "source": [
    "# Generate Symlink manifest for Athena Access\n",
    "dt.generate(\"symlink_format_manifest\")\n",
    "print(\"SPARK_APP: Symlink Manifest file generated\")"
   ]
  },
  {
   "cell_type": "code",
   "execution_count": 18,
   "id": "f105257b-c2ea-4c3c-8129-f30a4ac7e916",
   "metadata": {},
   "outputs": [
    {
     "name": "stdout",
     "output_type": "stream",
     "text": [
      "+----------+-------------------------+-----------------+----+-------+-------+-----+-----------------------------------------------------------+--------------------------+--------+-------------+--------------------------+-------------------+----------+--------------------------+\n",
      "|product_id|product_name             |brand            |type|flavor |size   |price|image_url                                                  |insert_dt                 |rundate |expiration_dt|effective_start_dt        |effective_end_dt   |active_flg|update_dt                 |\n",
      "+----------+-------------------------+-----------------+----+-------+-------+-----+-----------------------------------------------------------+--------------------------+--------+-------------+--------------------------+-------------------+----------+--------------------------+\n",
      "|P001      |Purina Pro Plan          |Purina           |Dry |Chicken|5 kgs  |20.0 |https://www.example.com/purina-pro-plan-chicken.jpg        |2024-06-01 08:16:58.750267|20220101|2024-12-31   |2024-06-01 08:16:58.750267|9999-12-31 00:00:00|1         |2024-06-01 08:16:58.750267|\n",
      "|P002      |Hill's Science Diet      |Hill's           |Dry |Beef   |15 kgs |50.0 |https://www.example.com/hills-science-diet-beef.jpg        |2024-06-01 08:16:58.750267|20220101|2024-12-31   |2024-06-01 08:16:58.750267|9999-12-31 00:00:00|1         |2024-06-01 08:16:58.750267|\n",
      "|P003      |Iams ProActive Health    |Iams             |Dry |Lamb   |10 kgs |40.0 |https://www.example.com/iams-proactive-health-lamb.jpg     |2024-06-01 08:16:58.750267|20220101|2024-12-31   |2024-06-01 08:16:58.750267|9999-12-31 00:00:00|1         |2024-06-01 08:16:58.750267|\n",
      "|P004      |Blue Buffalo Wilderness  |Blue Buffalo     |Wet |Salmon |12 cans|30.0 |https://www.example.com/blue-buffalo-wilderness-salmon.jpg |2024-06-01 08:16:58.750267|20220101|2024-12-31   |2024-06-01 08:16:58.750267|9999-12-31 00:00:00|1         |2024-06-01 08:16:58.750267|\n",
      "|P005      |Royal Canin              |Royal Canin      |Dry |Fish   |20 kgs |60.0 |https://www.example.com/royal-canin-fish.jpg               |2024-06-01 08:16:58.750267|20220101|2024-12-31   |2024-06-01 08:16:58.750267|9999-12-31 00:00:00|1         |2024-06-01 08:16:58.750267|\n",
      "|P006      |Wellness Complete Health |Wellness         |Wet |Turkey |24 cans|40.0 |https://www.example.com/wellness-complete-health-turkey.jpg|2024-06-01 08:16:58.750267|20220101|2024-12-31   |2024-06-01 08:16:58.750267|9999-12-31 00:00:00|1         |2024-06-01 08:16:58.750267|\n",
      "|P007      |Merrick Grain Free       |Merrick          |Dry |Duck   |15 kgs |50.0 |https://www.example.com/merrick-grain-free-duck.jpg        |2024-06-01 08:16:58.750267|20220101|2024-12-31   |2024-06-01 08:16:58.750267|9999-12-31 00:00:00|1         |2024-06-01 08:16:58.750267|\n",
      "|P008      |Nature's Variety Instinct|Nature's Variety |Wet |Rabbit |12 cans|30.0 |https://www.example.com/natures-variety-instinct-rabbit.jpg|2024-06-01 08:16:58.750267|20220101|2024-12-31   |2024-06-01 08:16:58.750267|9999-12-31 00:00:00|1         |2024-06-01 08:16:58.750267|\n",
      "|P009      |Canidae Grain Free Pure  |Canidae          |Dry |Bison  |20 kgs |60.0 |https://www.example.com/canidae-grain-free-pure-bison.jpg  |2024-06-01 08:16:58.750267|20220101|2024-12-31   |2024-06-01 08:16:58.750267|9999-12-31 00:00:00|1         |2024-06-01 08:16:58.750267|\n",
      "|P010      |Taste of the Wild        |Taste of the Wild|Wet |Venison|24 cans|40.0 |https://www.example.com/taste-of-the-wild-venison.jpg      |2024-06-01 08:16:58.750267|20220101|2024-12-31   |2024-06-01 08:16:58.750267|9999-12-31 00:00:00|1         |2024-06-01 08:16:58.750267|\n",
      "+----------+-------------------------+-----------------+----+-------+-------+-----+-----------------------------------------------------------+--------------------------+--------+-------------+--------------------------+-------------------+----------+--------------------------+\n",
      "\n"
     ]
    }
   ],
   "source": [
    "spark.sql(f\"select * from edw_stg.dim_product_stg limit 10\").show(truncate=False)"
   ]
  },
  {
   "cell_type": "code",
   "execution_count": 19,
   "id": "9923f5a6-fef6-46e0-98e8-3142ec6c2653",
   "metadata": {},
   "outputs": [],
   "source": [
    "spark.stop()"
   ]
  },
  {
   "cell_type": "code",
   "execution_count": null,
   "id": "a978bd63-8953-40ae-ae8f-4d3db77787df",
   "metadata": {},
   "outputs": [],
   "source": []
  }
 ],
 "metadata": {
  "kernelspec": {
   "display_name": "Python 3 (ipykernel)",
   "language": "python",
   "name": "python3"
  },
  "language_info": {
   "codemirror_mode": {
    "name": "ipython",
    "version": 3
   },
   "file_extension": ".py",
   "mimetype": "text/x-python",
   "name": "python",
   "nbconvert_exporter": "python",
   "pygments_lexer": "ipython3",
   "version": "3.10.14"
  }
 },
 "nbformat": 4,
 "nbformat_minor": 5
}
