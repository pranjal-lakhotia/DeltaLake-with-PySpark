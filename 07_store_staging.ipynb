{
 "cells": [
  {
   "cell_type": "code",
   "execution_count": 1,
   "id": "f440580e-7b96-4464-a30b-ec5425a3087d",
   "metadata": {},
   "outputs": [],
   "source": [
    "# Script to create date for Date Dimesion Staging\n",
    "# Import required libraries\n",
    "import sys\n",
    "from lib.spark_session import get_spark_session\n",
    "from lib.utils import date_data, get_string_cols, get_rundate\n",
    "from lib.job_control import insert_log, get_max_timestamp\n",
    "from pyspark.sql import SparkSession, DataFrame\n",
    "from pyspark.sql.functions import current_timestamp, expr, to_date, lit\n",
    "from datetime import datetime\n",
    "from delta import DeltaTable"
   ]
  },
  {
   "cell_type": "code",
   "execution_count": 2,
   "id": "4485a209-8c07-47b5-9737-41b3986f9a19",
   "metadata": {},
   "outputs": [
    {
     "name": "stdout",
     "output_type": "stream",
     "text": [
      "SPARK_APP: JOB triggered for rundate - 20220101\n"
     ]
    }
   ],
   "source": [
    "# JOB Parameters\n",
    "rundate = get_rundate()\n",
    "schema_name = \"edw_stg\"\n",
    "table_name = \"dim_store_stg\"\n",
    "table_full_name = f\"{schema_name}.{table_name}\"\n",
    "landing_table_full_name = \"edw_ld.dim_store_ld\"\n",
    "print(\"SPARK_APP: JOB triggered for rundate - \" + rundate)"
   ]
  },
  {
   "cell_type": "code",
   "execution_count": 3,
   "id": "76542683-e587-44c7-b250-3026d5d57c5a",
   "metadata": {},
   "outputs": [
    {
     "name": "stdout",
     "output_type": "stream",
     "text": [
      "SPARK_APP: Spark UI - http://03205cdd01e3:4040\n"
     ]
    }
   ],
   "source": [
    "# Generate Spark Session\n",
    "spark: SparkSession = get_spark_session(f\"Staging load - {table_full_name}\")\n",
    "print(\"SPARK_APP: Spark UI - \" + spark.sparkContext.uiWebUrl)"
   ]
  },
  {
   "cell_type": "code",
   "execution_count": 6,
   "id": "cd51336c-f2ef-478b-a695-8ea21dd3217f",
   "metadata": {},
   "outputs": [
    {
     "name": "stdout",
     "output_type": "stream",
     "text": [
      "SPARK_APP: Max timestamp for staging data load - 1900-01-01 00:00:00.000000\n"
     ]
    }
   ],
   "source": [
    "#setting Spark Configs\n",
    "spark.conf.set(\"spark.sql.shuffle.partitions\", 8)\n",
    "spark.conf.set(\"spark.sql.parquet.mergeSchema\", True)\n",
    "# Get the max_timestamp for data load in staging\n",
    "max_timestamp = get_max_timestamp(spark, schema_name, table_name)\n",
    "print(\"SPARK_APP: Max timestamp for staging data load - \" + str(max_timestamp))"
   ]
  },
  {
   "cell_type": "code",
   "execution_count": 5,
   "id": "fe022641-3898-4e9c-8a32-4cf8ddd3ebb1",
   "metadata": {},
   "outputs": [
    {
     "name": "stdout",
     "output_type": "stream",
     "text": [
      "SPARK_APP: Landing Data Count - 14\n",
      "SPARK_APP: Printing Landing Schema --\n",
      "root\n",
      " |-- store_id: string (nullable = true)\n",
      " |-- store_name: string (nullable = true)\n",
      " |-- address: string (nullable = true)\n",
      " |-- city: string (nullable = true)\n",
      " |-- state: string (nullable = true)\n",
      " |-- zip_code: string (nullable = true)\n",
      " |-- phone_number: string (nullable = true)\n",
      " |-- insert_dt: timestamp (nullable = true)\n",
      " |-- rundate: string (nullable = true)\n",
      "\n"
     ]
    }
   ],
   "source": [
    "df_ld = spark \\\n",
    "    .read \\\n",
    "    .table(landing_table_full_name) \\\n",
    "    .where(f\"insert_dt > to_timestamp('{max_timestamp}')\")\n",
    "\n",
    "print(\"SPARK_APP: Landing Data Count - \" + str(df_ld.count()))\n",
    "print(\"SPARK_APP: Printing Landing Schema --\")\n",
    "df_ld.printSchema()"
   ]
  },
  {
   "cell_type": "code",
   "execution_count": 9,
   "id": "5b25d60b-9e02-4a50-9903-726b0c03a9f5",
   "metadata": {},
   "outputs": [
    {
     "name": "stdout",
     "output_type": "stream",
     "text": [
      "+--------+------------+--------------+-----------+-----+--------+--------------+--------------------------+--------+\n",
      "|store_id|store_name  |address       |city       |state|zip_code|phone_number  |insert_dt                 |rundate |\n",
      "+--------+------------+--------------+-----------+-----+--------+--------------+--------------------------+--------+\n",
      "|S001    |Pet House KA|123 Main St   |Anytown    |KA   |12345   |91-88929-88888|2024-05-26 12:01:58.482732|20220101|\n",
      "|S002    |Pet House MH|456 Elm St    |Anothertown|MH   |67890   |91-99999-99999|2024-05-26 12:01:58.482732|20220101|\n",
      "|S003    |Pet House TN|789 Oak Ave   |Bigcity    |TN   |9876    |91-77777-77777|2024-05-26 12:01:58.482732|20220101|\n",
      "|S004    |Pet House OR|321 Birch Blvd|Small Town |OR   |76684   |91-88822-00000|2024-05-26 12:01:58.482732|20220101|\n",
      "|S005    |Pet House WB|654 Pine St   |Busytown   |WB   |11111   |91-00002-22222|2024-05-26 12:01:58.482732|20220101|\n",
      "|S006    |Pet House JK|987 Cedar Rd  |Hill Town  |JK   |22222   |91-33330-33333|2024-05-26 12:01:58.482732|20220101|\n",
      "|S007    |Pet House GJ|246 Maple St  |Anywhere   |GJ   |33333   |91-55555-61000|2024-05-26 12:01:58.482732|20220101|\n",
      "|S001    |Pet House KA|123 Main St   |Anytown    |KA   |12345   |91-88929-88888|2024-05-26 11:48:05.081889|20220101|\n",
      "|S002    |Pet House MH|456 Elm St    |Anothertown|MH   |67890   |91-99999-99999|2024-05-26 11:48:05.081889|20220101|\n",
      "|S003    |Pet House TN|789 Oak Ave   |Bigcity    |TN   |9876    |91-77777-77777|2024-05-26 11:48:05.081889|20220101|\n",
      "|S004    |Pet House OR|321 Birch Blvd|Small Town |OR   |76684   |91-88822-00000|2024-05-26 11:48:05.081889|20220101|\n",
      "|S005    |Pet House WB|654 Pine St   |Busytown   |WB   |11111   |91-00002-22222|2024-05-26 11:48:05.081889|20220101|\n",
      "|S006    |Pet House JK|987 Cedar Rd  |Hill Town  |JK   |22222   |91-33330-33333|2024-05-26 11:48:05.081889|20220101|\n",
      "|S007    |Pet House GJ|246 Maple St  |Anywhere   |GJ   |33333   |91-55555-61000|2024-05-26 11:48:05.081889|20220101|\n",
      "+--------+------------+--------------+-----------+-----+--------+--------------+--------------------------+--------+\n",
      "\n"
     ]
    }
   ],
   "source": [
    "df_ld.show(truncate = False)"
   ]
  },
  {
   "cell_type": "code",
   "execution_count": 7,
   "id": "f339b466-f70b-44ed-98b3-7cbbb74bff59",
   "metadata": {},
   "outputs": [
    {
     "name": "stdout",
     "output_type": "stream",
     "text": [
      "SPARK_APP: Landing Data Count after de-dupe - 7\n"
     ]
    }
   ],
   "source": [
    "# De-dupe the data based on NK\n",
    "df_dedupe = df_ld.withColumn(\"_rnk\", expr(f\"row_number() over (partition by store_id order by insert_dt desc)\")) \\\n",
    "    .where(\"_rnk = 1\").drop(\"_rnk\")\n",
    "\n",
    "print(\"SPARK_APP: Landing Data Count after de-dupe - \" + str(df_dedupe.count()))"
   ]
  },
  {
   "cell_type": "code",
   "execution_count": 8,
   "id": "fec78a62-4059-4806-8c49-d1829e2a66b7",
   "metadata": {},
   "outputs": [
    {
     "name": "stdout",
     "output_type": "stream",
     "text": [
      "SPARK_APP: Staging Data Count - 7\n",
      "SPARK_APP: Printing Staging Schema --\n",
      "root\n",
      " |-- store_id: string (nullable = true)\n",
      " |-- store_name: string (nullable = true)\n",
      " |-- address: string (nullable = true)\n",
      " |-- city: string (nullable = true)\n",
      " |-- state: string (nullable = true)\n",
      " |-- zip_code: string (nullable = true)\n",
      " |-- phone_number: string (nullable = true)\n",
      " |-- insert_dt: timestamp (nullable = false)\n",
      " |-- rundate: string (nullable = true)\n",
      " |-- update_dt: timestamp (nullable = false)\n",
      "\n"
     ]
    }
   ],
   "source": [
    "df_stg = df_dedupe.withColumn(\"insert_dt\",current_timestamp()).withColumn(\"update_dt\",current_timestamp())\n",
    "print(\"SPARK_APP: Staging Data Count - \" + str(df_stg.count()))\n",
    "print(\"SPARK_APP: Printing Staging Schema --\")\n",
    "df_stg.printSchema()"
   ]
  },
  {
   "cell_type": "code",
   "execution_count": 10,
   "id": "adeb99fa-6d06-419d-a7ca-c8f5408ad2c9",
   "metadata": {},
   "outputs": [
    {
     "name": "stdout",
     "output_type": "stream",
     "text": [
      "+--------+------------+--------------+-----------+-----+--------+--------------+--------------------------+--------+--------------------------+\n",
      "|store_id|store_name  |address       |city       |state|zip_code|phone_number  |insert_dt                 |rundate |update_dt                 |\n",
      "+--------+------------+--------------+-----------+-----+--------+--------------+--------------------------+--------+--------------------------+\n",
      "|S001    |Pet House KA|123 Main St   |Anytown    |KA   |12345   |91-88929-88888|2024-05-26 12:32:24.037692|20220101|2024-05-26 12:32:24.037692|\n",
      "|S002    |Pet House MH|456 Elm St    |Anothertown|MH   |67890   |91-99999-99999|2024-05-26 12:32:24.037692|20220101|2024-05-26 12:32:24.037692|\n",
      "|S003    |Pet House TN|789 Oak Ave   |Bigcity    |TN   |9876    |91-77777-77777|2024-05-26 12:32:24.037692|20220101|2024-05-26 12:32:24.037692|\n",
      "|S004    |Pet House OR|321 Birch Blvd|Small Town |OR   |76684   |91-88822-00000|2024-05-26 12:32:24.037692|20220101|2024-05-26 12:32:24.037692|\n",
      "|S005    |Pet House WB|654 Pine St   |Busytown   |WB   |11111   |91-00002-22222|2024-05-26 12:32:24.037692|20220101|2024-05-26 12:32:24.037692|\n",
      "|S006    |Pet House JK|987 Cedar Rd  |Hill Town  |JK   |22222   |91-33330-33333|2024-05-26 12:32:24.037692|20220101|2024-05-26 12:32:24.037692|\n",
      "|S007    |Pet House GJ|246 Maple St  |Anywhere   |GJ   |33333   |91-55555-61000|2024-05-26 12:32:24.037692|20220101|2024-05-26 12:32:24.037692|\n",
      "+--------+------------+--------------+-----------+-----+--------+--------------+--------------------------+--------+--------------------------+\n",
      "\n"
     ]
    }
   ],
   "source": [
    "df_stg.show(truncate = False)"
   ]
  },
  {
   "cell_type": "code",
   "execution_count": 11,
   "id": "b7731322-11a5-4cc8-b506-b4e285729fbd",
   "metadata": {},
   "outputs": [
    {
     "name": "stdout",
     "output_type": "stream",
     "text": [
      "SPARK_APP: Data written to staging table\n"
     ]
    }
   ],
   "source": [
    "# Write the data to Staging table in overwrite mode for truncate\n",
    "df_stg.write \\\n",
    "    .format(\"delta\") \\\n",
    "    .mode(\"overwrite\") \\\n",
    "    .saveAsTable(table_full_name)\n",
    "\n",
    "\n",
    "print(\"SPARK_APP: Data written to staging table\")"
   ]
  },
  {
   "cell_type": "code",
   "execution_count": 12,
   "id": "126cb605-6f43-479e-8827-3db5467c7640",
   "metadata": {},
   "outputs": [
    {
     "name": "stdout",
     "output_type": "stream",
     "text": [
      "SPARK_APP: Update JOB Control Log\n"
     ]
    }
   ],
   "source": [
    "# Add job details in JOB CONTROL\n",
    "insert_log(spark, schema_name, table_name, datetime.now(), rundate)\n",
    "print(\"SPARK_APP: Update JOB Control Log\")"
   ]
  },
  {
   "cell_type": "code",
   "execution_count": 13,
   "id": "0a1ec0c6-2c07-4947-9e14-eb36ea9d3e50",
   "metadata": {},
   "outputs": [
    {
     "name": "stdout",
     "output_type": "stream",
     "text": [
      "+-----------+-------------+--------------------------+--------+--------------------------+\n",
      "|schema_name|table_name   |max_timestamp             |rundate |insert_dt                 |\n",
      "+-----------+-------------+--------------------------+--------+--------------------------+\n",
      "|edw_stg    |dim_store_stg|2024-05-26 12:35:18.249333|20220101|2024-05-26 12:35:19.165441|\n",
      "+-----------+-------------+--------------------------+--------+--------------------------+\n",
      "\n"
     ]
    }
   ],
   "source": [
    "spark.sql(f\"select * from edw.job_control where table_name = '{table_name}' order by insert_dt desc limit 1\").show(truncate=False)"
   ]
  },
  {
   "cell_type": "code",
   "execution_count": 14,
   "id": "a7fcfe78-9d3e-4ff8-a922-3880efabd876",
   "metadata": {},
   "outputs": [
    {
     "name": "stdout",
     "output_type": "stream",
     "text": [
      "+-------+---------------+---------------------+--------------------+-------------+\n",
      "|version|executionTimeMs|numTargetRowsInserted|numTargetRowsUpdated|numOutputRows|\n",
      "+-------+---------------+---------------------+--------------------+-------------+\n",
      "|0      |null           |null                 |null                |7            |\n",
      "+-------+---------------+---------------------+--------------------+-------------+\n",
      "\n"
     ]
    }
   ],
   "source": [
    "# Get the logs from delta table version\n",
    "dt = DeltaTable.forName(spark, table_full_name)\n",
    "dt.history().limit(1).select(\"version\",\"operationMetrics.executionTimeMs\", \n",
    "                                 \"operationMetrics.numTargetRowsInserted\",\n",
    "                                \"operationMetrics.numTargetRowsUpdated\",\n",
    "                                \"operationMetrics.numOutputRows\").show(1, False)"
   ]
  },
  {
   "cell_type": "code",
   "execution_count": 15,
   "id": "17428883-b22c-4331-b965-93d9087b65fd",
   "metadata": {},
   "outputs": [
    {
     "name": "stdout",
     "output_type": "stream",
     "text": [
      "SPARK_APP: Symlink Manifest file generated\n"
     ]
    }
   ],
   "source": [
    "# Generate Symlink manifest for Athena Access\n",
    "dt.generate(\"symlink_format_manifest\")\n",
    "print(\"SPARK_APP: Symlink Manifest file generated\")"
   ]
  },
  {
   "cell_type": "code",
   "execution_count": 16,
   "id": "73bc89f8-02cc-400b-888f-68fc897c56f7",
   "metadata": {},
   "outputs": [],
   "source": [
    "spark.stop()"
   ]
  },
  {
   "cell_type": "code",
   "execution_count": null,
   "id": "6f9ffc3b-0068-4120-b3c8-91a851edecb0",
   "metadata": {},
   "outputs": [],
   "source": []
  }
 ],
 "metadata": {
  "kernelspec": {
   "display_name": "Python 3 (ipykernel)",
   "language": "python",
   "name": "python3"
  },
  "language_info": {
   "codemirror_mode": {
    "name": "ipython",
    "version": 3
   },
   "file_extension": ".py",
   "mimetype": "text/x-python",
   "name": "python",
   "nbconvert_exporter": "python",
   "pygments_lexer": "ipython3",
   "version": "3.10.14"
  }
 },
 "nbformat": 4,
 "nbformat_minor": 5
}
